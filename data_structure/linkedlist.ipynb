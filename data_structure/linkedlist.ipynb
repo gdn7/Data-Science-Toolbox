{
 "cells": [
  {
   "cell_type": "code",
   "execution_count": 29,
   "metadata": {},
   "outputs": [],
   "source": [
    "class ListNode():\n",
    "    def __init__(self, value, nextNode):\n",
    "        self.value = value\n",
    "        self.nextNode = nextNode\n",
    "\n",
    "class LinkedList():\n",
    "    def __init__(self, head):\n",
    "        self.head = head\n",
    "    \n",
    "    def traverseForward(self):\n",
    "        cur = self.head\n",
    "        while cur is not None:\n",
    "            print(cur.value)\n",
    "            cur = cur.nextNode\n",
    "\n",
    "    def traverseBackward(self):\n",
    "        \"\"\"\n",
    "        Use a stack to traverse backward.\n",
    "        Avoid recursion overhead\n",
    "        \"\"\"\n",
    "        cur = self.head\n",
    "        stack = []\n",
    "        while cur is not None:\n",
    "            stack.append(cur.value)\n",
    "            cur = cur.nextNode\n",
    "        while stack:\n",
    "            print(stack.pop())\n",
    "    \n",
    "    def deallocate(self):\n",
    "        \"\"\"\n",
    "        Delete all nodes from head to tail.\n",
    "        Use an extra pointer to refer to next node before deleting current node.\n",
    "        \"\"\"\n",
    "        cur = self.head\n",
    "        while cur is not None:\n",
    "            nextNode = cur.nextNode\n",
    "            print(\"Node %i has been deleted.\"%cur.value)\n",
    "            cur = nextNode\n",
    "    \n",
    "    def insertNode(self, value, idx):\n",
    "        \n",
    "        if idx < 0:\n",
    "            \"\"\"Return False when negative\"\"\"\n",
    "            return False\n",
    "        elif idx == 0:\n",
    "            \"\"\"If inserting at head\"\"\"\n",
    "            self.head = ListNode(value, head)\n",
    "            return True\n",
    "        else:\n",
    "            \"\"\"Insert middle\"\"\"\n",
    "            i = 0\n",
    "            cur = head\n",
    "            prev = None\n",
    "            while i != idx:\n",
    "                prev = cur\n",
    "                cur = cur.nextNode\n",
    "                \"\"\"Handling out of bounds/tail insert\"\"\"\n",
    "                if cur is None:\n",
    "                    prev.nextNode = ListNode(value, None)\n",
    "                    return True\n",
    "                i += 1\n",
    "            prev.nextNode = ListNode(value, cur)\n",
    "            return True\n",
    "    \n",
    "    def deleteNode(self, idx):\n",
    "        cur = self.head\n",
    "        i = 0\n",
    "        if idx == 0:\n",
    "            self.head = cur.nextNode\n",
    "            print(\"Node %i has been deleted.\"%cur.value)\n",
    "            return True\n",
    "        else:\n",
    "            while i != idx:\n",
    "                prev = cur\n",
    "                cur = cur.nextNode\n",
    "                if cur is None:\n",
    "                    return False\n",
    "                i += 1\n",
    "            # cur points to node to delete\n",
    "            prev.nextNode = cur.nextNode\n",
    "            print(\"Node %i has been deleted.\"%cur.value)\n",
    "            return True"
   ]
  },
  {
   "cell_type": "code",
   "execution_count": 2,
   "metadata": {},
   "outputs": [
    {
     "data": {
      "text/plain": [
       "1"
      ]
     },
     "execution_count": 2,
     "metadata": {},
     "output_type": "execute_result"
    }
   ],
   "source": [
    "# simple test\n",
    "node = ListNode(1, None)\n",
    "node.value"
   ]
  },
  {
   "cell_type": "markdown",
   "metadata": {},
   "source": [
    "### Build list forward"
   ]
  },
  {
   "cell_type": "code",
   "execution_count": 3,
   "metadata": {},
   "outputs": [],
   "source": [
    "head = None\n",
    "prev = None\n",
    "for i in range(10):\n",
    "    \"\"\"\n",
    "    If previous node is none, the new node is the head.\n",
    "    Otherwise, connect the new node to previous node.\n",
    "    \"\"\"\n",
    "    new = ListNode(i, None)\n",
    "    if prev is None:\n",
    "        head = new\n",
    "    else:\n",
    "        prev.nextNode = new\n",
    "    prev = new"
   ]
  },
  {
   "cell_type": "code",
   "execution_count": 4,
   "metadata": {},
   "outputs": [
    {
     "name": "stdout",
     "output_type": "stream",
     "text": [
      "0\n",
      "1\n",
      "2\n",
      "3\n",
      "4\n",
      "5\n",
      "6\n",
      "7\n",
      "8\n",
      "9\n"
     ]
    }
   ],
   "source": [
    "\"\"\"List traversal check\"\"\"\n",
    "LinkedList(head).traverseForward()"
   ]
  },
  {
   "cell_type": "markdown",
   "metadata": {},
   "source": [
    "### Build list backward"
   ]
  },
  {
   "cell_type": "code",
   "execution_count": 5,
   "metadata": {},
   "outputs": [],
   "source": [
    "head = None\n",
    "nxt = None\n",
    "for i in range(9, -1, -1):\n",
    "    new = ListNode(i, nxt)\n",
    "    nxt = new\n",
    "    head = new"
   ]
  },
  {
   "cell_type": "code",
   "execution_count": 6,
   "metadata": {},
   "outputs": [
    {
     "name": "stdout",
     "output_type": "stream",
     "text": [
      "0\n",
      "1\n",
      "2\n",
      "3\n",
      "4\n",
      "5\n",
      "6\n",
      "7\n",
      "8\n",
      "9\n"
     ]
    }
   ],
   "source": [
    "\"\"\"List traversal check\"\"\"\n",
    "LinkedList(head).traverseForward()"
   ]
  },
  {
   "cell_type": "code",
   "execution_count": 7,
   "metadata": {},
   "outputs": [
    {
     "name": "stdout",
     "output_type": "stream",
     "text": [
      "9\n",
      "8\n",
      "7\n",
      "6\n",
      "5\n",
      "4\n",
      "3\n",
      "2\n",
      "1\n",
      "0\n"
     ]
    }
   ],
   "source": [
    "LinkedList(head).traverseBackward()"
   ]
  },
  {
   "cell_type": "code",
   "execution_count": 8,
   "metadata": {},
   "outputs": [
    {
     "name": "stdout",
     "output_type": "stream",
     "text": [
      "Node 0 has been deleted.\n",
      "Node 1 has been deleted.\n",
      "Node 2 has been deleted.\n",
      "Node 3 has been deleted.\n",
      "Node 4 has been deleted.\n",
      "Node 5 has been deleted.\n",
      "Node 6 has been deleted.\n",
      "Node 7 has been deleted.\n",
      "Node 8 has been deleted.\n",
      "Node 9 has been deleted.\n"
     ]
    }
   ],
   "source": [
    "LinkedList(head).deallocate()"
   ]
  },
  {
   "cell_type": "markdown",
   "metadata": {},
   "source": [
    "### Insertion"
   ]
  },
  {
   "cell_type": "code",
   "execution_count": 14,
   "metadata": {},
   "outputs": [
    {
     "name": "stdout",
     "output_type": "stream",
     "text": [
      "X\n",
      "0\n",
      "1\n",
      "2\n",
      "Y\n",
      "3\n",
      "4\n",
      "5\n",
      "6\n",
      "7\n",
      "8\n",
      "9\n",
      "Z\n"
     ]
    }
   ],
   "source": [
    "linkedlist = LinkedList(head)\n",
    "linkedlist.insertNode(\"X\", 0)\n",
    "linkedlist.traverseForward()"
   ]
  },
  {
   "cell_type": "code",
   "execution_count": 15,
   "metadata": {},
   "outputs": [
    {
     "name": "stdout",
     "output_type": "stream",
     "text": [
      "0\n",
      "1\n",
      "2\n",
      "Y\n",
      "Y\n",
      "3\n",
      "4\n",
      "5\n",
      "6\n",
      "7\n",
      "8\n",
      "9\n",
      "Z\n"
     ]
    }
   ],
   "source": [
    "linkedlist = LinkedList(head)\n",
    "linkedlist.insertNode(\"Y\", 3)\n",
    "linkedlist.traverseForward()"
   ]
  },
  {
   "cell_type": "code",
   "execution_count": 30,
   "metadata": {},
   "outputs": [
    {
     "name": "stdout",
     "output_type": "stream",
     "text": [
      "0\n",
      "1\n",
      "2\n",
      "Y\n",
      "Y\n",
      "3\n",
      "4\n",
      "5\n",
      "6\n",
      "7\n",
      "8\n",
      "9\n",
      "Z\n",
      "Z\n",
      "Z\n",
      "Z\n",
      "Z\n"
     ]
    }
   ],
   "source": [
    "linkedlist = LinkedList(head)\n",
    "linkedlist.insertNode(\"Z\", 100)\n",
    "linkedlist.traverseForward()"
   ]
  },
  {
   "cell_type": "code",
   "execution_count": 31,
   "metadata": {},
   "outputs": [
    {
     "name": "stdout",
     "output_type": "stream",
     "text": [
      "Node 0 has been deleted.\n",
      "1\n",
      "2\n",
      "Y\n",
      "Y\n",
      "3\n",
      "4\n",
      "5\n",
      "6\n",
      "7\n",
      "8\n",
      "9\n",
      "Z\n",
      "Z\n",
      "Z\n",
      "Z\n",
      "Z\n"
     ]
    }
   ],
   "source": [
    "linkedlist.deleteNode(0)\n",
    "linkedlist.traverseForward()"
   ]
  },
  {
   "cell_type": "code",
   "execution_count": 32,
   "metadata": {},
   "outputs": [
    {
     "name": "stdout",
     "output_type": "stream",
     "text": [
      "Node 3 has been deleted.\n",
      "1\n",
      "2\n",
      "Y\n",
      "Y\n",
      "4\n",
      "5\n",
      "6\n",
      "7\n",
      "8\n",
      "9\n",
      "Z\n",
      "Z\n",
      "Z\n",
      "Z\n",
      "Z\n"
     ]
    }
   ],
   "source": [
    "linkedlist.deleteNode(4)\n",
    "linkedlist.traverseForward()"
   ]
  },
  {
   "cell_type": "code",
   "execution_count": 33,
   "metadata": {},
   "outputs": [
    {
     "name": "stdout",
     "output_type": "stream",
     "text": [
      "1\n",
      "2\n",
      "Y\n",
      "Y\n",
      "4\n",
      "5\n",
      "6\n",
      "7\n",
      "8\n",
      "9\n",
      "Z\n",
      "Z\n",
      "Z\n",
      "Z\n",
      "Z\n"
     ]
    }
   ],
   "source": [
    "linkedlist.deleteNode(100)\n",
    "linkedlist.traverseForward()"
   ]
  },
  {
   "cell_type": "code",
   "execution_count": null,
   "metadata": {},
   "outputs": [],
   "source": []
  }
 ],
 "metadata": {
  "kernelspec": {
   "display_name": "Python 3",
   "language": "python",
   "name": "python3"
  },
  "language_info": {
   "codemirror_mode": {
    "name": "ipython",
    "version": 3
   },
   "file_extension": ".py",
   "mimetype": "text/x-python",
   "name": "python",
   "nbconvert_exporter": "python",
   "pygments_lexer": "ipython3",
   "version": "3.6.5"
  }
 },
 "nbformat": 4,
 "nbformat_minor": 2
}
