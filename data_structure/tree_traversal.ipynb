{
 "cells": [
  {
   "cell_type": "code",
   "execution_count": 15,
   "metadata": {},
   "outputs": [],
   "source": [
    "class TreeNode():\n",
    "    \"\"\"\n",
    "    Set default value.\n",
    "    Or attribute would not exist if passed into __init__\n",
    "    \"\"\"\n",
    "    val = None\n",
    "    leftChild = None\n",
    "    rightChild = None\n",
    "    \n",
    "    def __init__(self, val, left = None, right = None):\n",
    "        self.val = val\n",
    "        if left:\n",
    "            self.leftChild = left\n",
    "        if right:\n",
    "            self.rightChild = right"
   ]
  },
  {
   "cell_type": "markdown",
   "metadata": {},
   "source": [
    "### Construction\n",
    "![title](img/tree.png)"
   ]
  },
  {
   "cell_type": "code",
   "execution_count": 16,
   "metadata": {},
   "outputs": [],
   "source": [
    "C = TreeNode(\"C\")"
   ]
  },
  {
   "cell_type": "code",
   "execution_count": 17,
   "metadata": {},
   "outputs": [],
   "source": [
    "E = TreeNode(\"E\")"
   ]
  },
  {
   "cell_type": "code",
   "execution_count": 18,
   "metadata": {},
   "outputs": [],
   "source": [
    "D = TreeNode(\"D\", C, E)"
   ]
  },
  {
   "cell_type": "code",
   "execution_count": 19,
   "metadata": {},
   "outputs": [],
   "source": [
    "A = TreeNode(\"A\")"
   ]
  },
  {
   "cell_type": "code",
   "execution_count": 20,
   "metadata": {},
   "outputs": [],
   "source": [
    "B = TreeNode(\"B\", A, D)"
   ]
  },
  {
   "cell_type": "code",
   "execution_count": 21,
   "metadata": {},
   "outputs": [],
   "source": [
    "H = TreeNode(\"H\")"
   ]
  },
  {
   "cell_type": "code",
   "execution_count": 22,
   "metadata": {},
   "outputs": [],
   "source": [
    "I = TreeNode(\"I\", left = H)"
   ]
  },
  {
   "cell_type": "code",
   "execution_count": 23,
   "metadata": {},
   "outputs": [],
   "source": [
    "G = TreeNode(\"G\", right = I)"
   ]
  },
  {
   "cell_type": "code",
   "execution_count": 24,
   "metadata": {},
   "outputs": [],
   "source": [
    "F = TreeNode(\"F\", B, G)"
   ]
  },
  {
   "cell_type": "markdown",
   "metadata": {},
   "source": [
    "### Traversal"
   ]
  },
  {
   "cell_type": "code",
   "execution_count": 25,
   "metadata": {},
   "outputs": [
    {
     "name": "stdout",
     "output_type": "stream",
     "text": [
      "F\n",
      "B\n",
      "A\n",
      "D\n",
      "C\n",
      "E\n",
      "G\n",
      "I\n",
      "H\n"
     ]
    }
   ],
   "source": [
    "# F B A D C E G I H\n",
    "def preOrder(node):\n",
    "    if node is None:\n",
    "        return\n",
    "    print(node.val)\n",
    "    preOrder(node.leftChild)\n",
    "    preOrder(node.rightChild)\n",
    "preOrder(F)"
   ]
  },
  {
   "cell_type": "code",
   "execution_count": 26,
   "metadata": {},
   "outputs": [
    {
     "name": "stdout",
     "output_type": "stream",
     "text": [
      "A\n",
      "B\n",
      "C\n",
      "D\n",
      "E\n",
      "F\n",
      "G\n",
      "H\n",
      "I\n"
     ]
    }
   ],
   "source": [
    "# A B C D E F G H I\n",
    "def inOrder(node):\n",
    "    if node is None:\n",
    "        return\n",
    "    inOrder(node.leftChild)\n",
    "    print(node.val)\n",
    "    inOrder(node.rightChild)\n",
    "inOrder(F)"
   ]
  },
  {
   "cell_type": "code",
   "execution_count": 27,
   "metadata": {},
   "outputs": [
    {
     "name": "stdout",
     "output_type": "stream",
     "text": [
      "A\n",
      "C\n",
      "E\n",
      "D\n",
      "B\n",
      "H\n",
      "I\n",
      "G\n",
      "F\n"
     ]
    }
   ],
   "source": [
    "# A C E D B H I G F\n",
    "def postOrder(node):\n",
    "    if node is None:\n",
    "        return\n",
    "    postOrder(node.leftChild)\n",
    "    postOrder(node.rightChild)\n",
    "    print(node.val)\n",
    "postOrder(F)"
   ]
  }
 ],
 "metadata": {
  "kernelspec": {
   "display_name": "Python 3",
   "language": "python",
   "name": "python3"
  },
  "language_info": {
   "codemirror_mode": {
    "name": "ipython",
    "version": 3
   },
   "file_extension": ".py",
   "mimetype": "text/x-python",
   "name": "python",
   "nbconvert_exporter": "python",
   "pygments_lexer": "ipython3",
   "version": "3.6.5"
  }
 },
 "nbformat": 4,
 "nbformat_minor": 2
}
