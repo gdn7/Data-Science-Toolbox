{
 "cells": [
  {
   "cell_type": "code",
   "execution_count": 3,
   "metadata": {},
   "outputs": [
    {
     "name": "stdout",
     "output_type": "stream",
     "text": [
      "monkey_f() is being called\n"
     ]
    }
   ],
   "source": [
    "import monk \n",
    "def monkey_f(self): \n",
    "    print(\"monkey_f() is being called\")\n",
    "    \n",
    "# replacing address of \"func\" with \"monkey_f\" \n",
    "monk.A.func = monkey_f \n",
    "obj = monk.A() \n",
    "  \n",
    "# calling function \"func\" whose address got replaced \n",
    "# with function \"monkey_f()\" \n",
    "obj.func() "
   ]
  }
 ],
 "metadata": {
  "kernelspec": {
   "display_name": "Python 3",
   "language": "python",
   "name": "python3"
  },
  "language_info": {
   "codemirror_mode": {
    "name": "ipython",
    "version": 3
   },
   "file_extension": ".py",
   "mimetype": "text/x-python",
   "name": "python",
   "nbconvert_exporter": "python",
   "pygments_lexer": "ipython3",
   "version": "3.5.5"
  }
 },
 "nbformat": 4,
 "nbformat_minor": 2
}
