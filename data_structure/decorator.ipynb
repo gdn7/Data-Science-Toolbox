{
 "cells": [
  {
   "cell_type": "code",
   "execution_count": 13,
   "metadata": {},
   "outputs": [],
   "source": [
    "# https://hackernoon.com/decorators-in-python-8fd0dce93c08"
   ]
  },
  {
   "cell_type": "markdown",
   "metadata": {},
   "source": [
    "#### Basic function in Python:"
   ]
  },
  {
   "cell_type": "code",
   "execution_count": 1,
   "metadata": {},
   "outputs": [
    {
     "name": "stdout",
     "output_type": "stream",
     "text": [
      "Hello\n"
     ]
    }
   ],
   "source": [
    "def say_hello(): \n",
    "  print(\"Hello\")\n",
    "  \n",
    "say_hello()"
   ]
  },
  {
   "cell_type": "code",
   "execution_count": 3,
   "metadata": {},
   "outputs": [
    {
     "name": "stdout",
     "output_type": "stream",
     "text": [
      "Hello\n"
     ]
    }
   ],
   "source": [
    "say_hello2 = say_hello\n",
    "\n",
    "say_hello2()"
   ]
  },
  {
   "cell_type": "markdown",
   "metadata": {},
   "source": [
    "#### Functions can be passed as arguments to another function"
   ]
  },
  {
   "cell_type": "code",
   "execution_count": 4,
   "metadata": {},
   "outputs": [
    {
     "name": "stdout",
     "output_type": "stream",
     "text": [
      "Hello\n",
      "Hi\n"
     ]
    }
   ],
   "source": [
    "def say_hello(say_hi_func):\n",
    "  print(\"Hello\")\n",
    "  \n",
    "  say_hi_func()\n",
    "\n",
    "def say_hi():\n",
    "  print(\"Hi\")\n",
    "  \n",
    "say_hello(say_hi)"
   ]
  },
  {
   "cell_type": "markdown",
   "metadata": {},
   "source": [
    "#### Functions can be defined inside another function"
   ]
  },
  {
   "cell_type": "code",
   "execution_count": 5,
   "metadata": {},
   "outputs": [
    {
     "name": "stdout",
     "output_type": "stream",
     "text": [
      "Hello\n",
      "Hi\n"
     ]
    }
   ],
   "source": [
    "def say_hello():\n",
    "  print(\"Hello\")\n",
    "  \n",
    "  def say_hi():\n",
    "    print(\"Hi\")\n",
    "    \n",
    "  say_hi()  \n",
    "    \n",
    "say_hello() # Output: Hello\n",
    "            #         Hi "
   ]
  },
  {
   "cell_type": "markdown",
   "metadata": {},
   "source": [
    "#### Functions can return references to another function"
   ]
  },
  {
   "cell_type": "code",
   "execution_count": 6,
   "metadata": {},
   "outputs": [
    {
     "name": "stdout",
     "output_type": "stream",
     "text": [
      "Hello\n",
      "Hi\n"
     ]
    }
   ],
   "source": [
    "def say_hello():\n",
    "  print(\"Hello\")\n",
    "  \n",
    "  def say_hi():\n",
    "    print(\"Hi\")\n",
    "    \n",
    "  return say_hi\n",
    "\n",
    "say_hi_func = say_hello() # Prints Hello and returns say_hi function which gets stored in variable say_hi_func\n",
    "\n",
    "say_hi_func()"
   ]
  },
  {
   "cell_type": "code",
   "execution_count": 7,
   "metadata": {},
   "outputs": [
    {
     "name": "stdout",
     "output_type": "stream",
     "text": [
      "Hello\n",
      "Hello Hi\n"
     ]
    }
   ],
   "source": [
    "def say_hello(hello_var):\n",
    "  print(hello_var)\n",
    "  \n",
    "  def say_hi(hi_var):\n",
    "    print(hello_var + \" \" + hi_var)\n",
    "    \n",
    "  return say_hi\n",
    "  \n",
    "say_hi_func = say_hello(\"Hello\") # Print Hello and returns say_hi function which gets stored in say_hi_func variable\n",
    "\n",
    "say_hi_func(\"Hi\")"
   ]
  },
  {
   "cell_type": "markdown",
   "metadata": {},
   "source": [
    "#### Decorators"
   ]
  },
  {
   "cell_type": "code",
   "execution_count": 8,
   "metadata": {},
   "outputs": [
    {
     "name": "stdout",
     "output_type": "stream",
     "text": [
      "Wrapper function started\n",
      "Hello\n",
      "Wrapper function ended\n"
     ]
    }
   ],
   "source": [
    "def decorator_func(some_func):\n",
    "  # define another wrapper function which modifies some_func\n",
    "  def wrapper_func():\n",
    "    print(\"Wrapper function started\")\n",
    "    \n",
    "    some_func()\n",
    "    \n",
    "    print(\"Wrapper function ended\")\n",
    "    \n",
    "  return wrapper_func # Wrapper function add something to the passed function and decorator returns the wrapper function\n",
    "    \n",
    "def say_hello():\n",
    "  print (\"Hello\")\n",
    "  \n",
    "say_hello = decorator_func(say_hello)\n",
    "\n",
    "say_hello()\n",
    "\n",
    "# Output:\n",
    "#  Wrapper function started\n",
    "#  Hello\n",
    "#  Wrapper function started"
   ]
  },
  {
   "cell_type": "markdown",
   "metadata": {},
   "source": [
    "#### Python syntax for decorator"
   ]
  },
  {
   "cell_type": "code",
   "execution_count": 11,
   "metadata": {},
   "outputs": [],
   "source": [
    "# @decorator_func\n",
    "# def say_hell():\n",
    "#     print 'Hello'\n",
    "    \n",
    "# # equivalent to \n",
    "# def say_hello():\n",
    "#     print 'Hello'\n",
    "# say_hello = deocrator_func(say_hello)"
   ]
  },
  {
   "cell_type": "code",
   "execution_count": 12,
   "metadata": {},
   "outputs": [
    {
     "name": "stdout",
     "output_type": "stream",
     "text": [
      "Hello World\n"
     ]
    }
   ],
   "source": [
    "def decorator_func(say_hello_func):\n",
    "  def wrapper_func(hello_var, world_var):\n",
    "    hello = \"Hello, \"\n",
    "    world = \"World\"\n",
    "    \n",
    "    if not hello_var:\n",
    "      hello_var = hello\n",
    "    \n",
    "    if not world_var:\n",
    "      world_var = world\n",
    "      \n",
    "    return say_hello_func(hello_var, world_var)\n",
    "  \n",
    "  return wrapper_func\n",
    "\n",
    "@decorator_func\n",
    "def say_hello(hello_var, world_var):\n",
    "  print hello_var + \" \" + world_var\n",
    "  \n",
    "say_hello(\"Hello\", \"\")"
   ]
  }
 ],
 "metadata": {
  "kernelspec": {
   "display_name": "Python 2",
   "language": "python",
   "name": "python2"
  },
  "language_info": {
   "codemirror_mode": {
    "name": "ipython",
    "version": 2
   },
   "file_extension": ".py",
   "mimetype": "text/x-python",
   "name": "python",
   "nbconvert_exporter": "python",
   "pygments_lexer": "ipython2",
   "version": "2.7.15"
  }
 },
 "nbformat": 4,
 "nbformat_minor": 2
}
