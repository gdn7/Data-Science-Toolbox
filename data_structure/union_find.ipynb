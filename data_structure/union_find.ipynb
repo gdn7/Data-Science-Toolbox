{
 "cells": [
  {
   "cell_type": "code",
   "execution_count": 11,
   "metadata": {},
   "outputs": [],
   "source": [
    "class UnionFind:\n",
    "    def __init__(self, grid):\n",
    "        nrows = len(grid)\n",
    "        ncols = len(grid[0])\n",
    "\n",
    "        self.parent = [-1] * (nrows * ncols)\n",
    "        self.rank = [0] * (nrows * ncols)\n",
    "        self.count = 0\n",
    "\n",
    "        for r in range(nrows):\n",
    "            for c in range(ncols):\n",
    "                if grid[r][c] == \"1\":\n",
    "                    self.parent[r * ncols + c] = r * ncols + c\n",
    "                    self.count += 1\n",
    "\n",
    "    # iterative find\n",
    "    # def find(self, p):\n",
    "    #     parent = self.parent\n",
    "    #     while p != parent[p]:\n",
    "    #         parent[p] = parent[parent[p]]\n",
    "    #         p = parent[p]\n",
    "    #     return p\n",
    "\n",
    "    # recursive find (must not use while)\n",
    "    # path compression, continously reassign parent to root\n",
    "    def find(self, p):\n",
    "        parent = self.parent\n",
    "        if p != parent[p]:\n",
    "            parent[p] = self.find(parent[p])\n",
    "        return parent[p]\n",
    "\n",
    "    def connected(self, p, q):\n",
    "        return self.find(p) == self.find(q)\n",
    "    \n",
    "    # union by rank, attach small tree as substree to larger tree\n",
    "    def union(self, p, q):\n",
    "        pr = self.find(p)\n",
    "        qr = self.find(q)\n",
    "        if pr == qr:\n",
    "            return\n",
    "\n",
    "        \n",
    "        parent, rank = self.parent, self.rank\n",
    "        if rank[pr] < rank[qr]:\n",
    "            parent[ipr] = qr\n",
    "        elif rank[pr] > rank[qr]:\n",
    "            parent[qr] = pr\n",
    "        else:\n",
    "            parent[qr] = pr\n",
    "            rank[pr] += 1\n",
    "        self.count -= 1"
   ]
  },
  {
   "cell_type": "code",
   "execution_count": 12,
   "metadata": {},
   "outputs": [],
   "source": [
    "class Solution(object):\n",
    "    def numIslands(self, grid):\n",
    "        \"\"\"\n",
    "        :type grid: List[List[str]]\n",
    "        :rtype: int\n",
    "        \"\"\"\n",
    "        if not grid:\n",
    "            return 0\n",
    "\n",
    "        nrows = len(grid)\n",
    "        ncols = len(grid[0])\n",
    "\n",
    "        dsu = UnionFind(grid)\n",
    "        for r in range(nrows):\n",
    "            for c in range(ncols):\n",
    "                if grid[r][c] == '1':\n",
    "                    grid[r][c] = '0'\n",
    "                    for dr, dc in [(-1, 0), (1, 0), (0, -1), (0, 1)]:\n",
    "                        candr = r + dr\n",
    "                        candc = c + dc\n",
    "\n",
    "                        if 0 <= candr < nrows and 0 <= candc < ncols and grid[candr][candc] == '1':\n",
    "                            dsu.union(r * ncols + c, candr * ncols + candc)\n",
    "        print(dsu.count)\n",
    "        return dsu.count"
   ]
  },
  {
   "cell_type": "code",
   "execution_count": 13,
   "metadata": {},
   "outputs": [
    {
     "name": "stdout",
     "output_type": "stream",
     "text": [
      "1\n"
     ]
    },
    {
     "data": {
      "text/plain": [
       "1"
      ]
     },
     "execution_count": 13,
     "metadata": {},
     "output_type": "execute_result"
    }
   ],
   "source": [
    "solver = Solution()\n",
    "solver.numIslands([[\"1\",\"1\",\"1\",\"1\",\"0\"],\n",
    "                   [\"1\",\"1\",\"0\",\"1\",\"0\"],\n",
    "                   [\"1\",\"1\",\"0\",\"0\",\"0\"],\n",
    "                   [\"0\",\"0\",\"0\",\"0\",\"0\"]])"
   ]
  }
 ],
 "metadata": {
  "kernelspec": {
   "display_name": "Python 3",
   "language": "python",
   "name": "python3"
  },
  "language_info": {
   "codemirror_mode": {
    "name": "ipython",
    "version": 3
   },
   "file_extension": ".py",
   "mimetype": "text/x-python",
   "name": "python",
   "nbconvert_exporter": "python",
   "pygments_lexer": "ipython3",
   "version": "3.5.5"
  }
 },
 "nbformat": 4,
 "nbformat_minor": 2
}
