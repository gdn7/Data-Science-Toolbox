{
 "cells": [
  {
   "cell_type": "code",
   "execution_count": 9,
   "metadata": {},
   "outputs": [],
   "source": [
    "import math\n",
    "\n",
    "class SegmentTree():\n",
    "    def __init__(self, arr):\n",
    "        self.arr = arr\n",
    "\n",
    "        # cannot do this because some nodes are empty\n",
    "        # st = [None] * (2 * len(arr) - 1)\n",
    "\n",
    "        nlevel = math.ceil(math.log(len(arr), 2))\n",
    "\n",
    "        nleave = math.pow(2, nlevel)\n",
    "        nnodes = int(nleave * 2 - 1)\n",
    "        st = [None] * nnodes\n",
    "        self.constructHelper(0, len(arr) - 1, st, 0)\n",
    "\n",
    "        self.st = st\n",
    "\n",
    "    def constructHelper(self, ss, se, st, si):\n",
    "        \"\"\"\n",
    "        arr: input array\n",
    "        ss: index of input array\n",
    "        si: current index in segment tree\n",
    "        \"\"\"\n",
    "        i = ss\n",
    "        j = se\n",
    "\n",
    "        # If there is one element in array, store it in current node of\n",
    "        # segment tree and return\n",
    "        if ss == se:\n",
    "            st[si] = self.arr[ss]\n",
    "            return st[si]\n",
    "\n",
    "        m = (ss + se) // 2\n",
    "        st[si] = self.constructHelper(ss, m, st, si * 2 + 1) + self.constructHelper(m + 1, se, st, si * 2 + 2)\n",
    "        return st[si]\n",
    "    \n",
    "    def getSum(self, qs, qe):\n",
    "        if qs < 0 or qe > len(self.arr) - 1 or qs > qe:\n",
    "            return -1\n",
    "        return self.getSumHelper(0, len(self.arr) - 1, qs, qe, 0)\n",
    "   \n",
    "    def getSumHelper(self, ss, se, qs, qe, si):\n",
    "        \"\"\" \n",
    "        st: input array\n",
    "        ss, se: range represented by current node (inclusive)\n",
    "        qs, qe: range of query (inclusive)\n",
    "        si: index of current node (zero based)\n",
    "        \"\"\"\n",
    "        # case 1: completely within, return ndoe val\n",
    "        if qs <= ss and qe >= se:\n",
    "            return self.st[si]\n",
    "\n",
    "        # case 2: completely outside, return 0\n",
    "        if se < qs or ss > qe:\n",
    "            return 0\n",
    "\n",
    "        # case 3: partial overlap, recurse\n",
    "        m = (ss + se) // 2\n",
    "        return self.getSumHelper(ss, m, qs, qe, 2 * si + 1) + self.getSumHelper(m + 1, se, qs, qe, 2 * si + 2)\n",
    "\n",
    "    def updateVal(self, i, val):\n",
    "        \"\"\"\n",
    "        Update i-th element to val.\n",
    "        Atart with root, add diff to all nodes which have given index in their range\n",
    "        i: index of node to be updated\n",
    "        val: new_val - old_val\n",
    "        \"\"\"\n",
    "\n",
    "        if i < 0 or i > len(self.arr) - 1:\n",
    "            return\n",
    "\n",
    "        diff = val - self.arr[i]\n",
    "        self.arr[i] = val\n",
    "\n",
    "        self.updateValHelper(0, len(self.arr) - 1, i, diff, 0)\n",
    "\n",
    "    def updateValHelper(self, ss, se, i, diff, si):\n",
    "        if i < ss or i > se:\n",
    "            return\n",
    "\n",
    "        self.st[si] += diff\n",
    "        if se != ss:\n",
    "            m = (ss + se) // 2\n",
    "            self.updateValHelper(ss, m, i, diff, 2 * si + 1)\n",
    "            self.updateValHelper(m + 1, se, i, diff, 2 * si + 2)"
   ]
  },
  {
   "cell_type": "code",
   "execution_count": 10,
   "metadata": {},
   "outputs": [
    {
     "name": "stdout",
     "output_type": "stream",
     "text": [
      "[36, 9, 27, 4, 5, 16, 11, 1, 3, None, None, 7, 9, None, None]\n"
     ]
    }
   ],
   "source": [
    "arr = [1, 3, 5, 7, 9, 11]\n",
    "st = SegmentTree(arr)\n",
    "print(st.st)"
   ]
  },
  {
   "cell_type": "code",
   "execution_count": 11,
   "metadata": {},
   "outputs": [
    {
     "name": "stdout",
     "output_type": "stream",
     "text": [
      "25\n"
     ]
    }
   ],
   "source": [
    "print(st.getSum(0, 4))"
   ]
  },
  {
   "cell_type": "code",
   "execution_count": 12,
   "metadata": {},
   "outputs": [
    {
     "name": "stdout",
     "output_type": "stream",
     "text": [
      "[41, 14, 27, 4, 10, 16, 11, 1, 3, None, None, 7, 9, None, None]\n"
     ]
    }
   ],
   "source": [
    "st.updateVal(2, 10)\n",
    "print(st.st)"
   ]
  }
 ],
 "metadata": {
  "kernelspec": {
   "display_name": "Python 3",
   "language": "python",
   "name": "python3"
  },
  "language_info": {
   "codemirror_mode": {
    "name": "ipython",
    "version": 3
   },
   "file_extension": ".py",
   "mimetype": "text/x-python",
   "name": "python",
   "nbconvert_exporter": "python",
   "pygments_lexer": "ipython3",
   "version": "3.5.5"
  }
 },
 "nbformat": 4,
 "nbformat_minor": 2
}
