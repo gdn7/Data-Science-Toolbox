{
 "cells": [
  {
   "cell_type": "code",
   "execution_count": 1,
   "metadata": {},
   "outputs": [
    {
     "name": "stdout",
     "output_type": "stream",
     "text": [
      "2.000096288352491 0.9904195433139255\n"
     ]
    }
   ],
   "source": [
    "import numpy as np\n",
    "from matplotlib import pyplot as plt\n",
    "\n",
    "X = np.array(range(100))\n",
    "Y = np.array(2 * X + 1)\n",
    "\n",
    "def sgd(X, Y, eta=0.0001, epoch=1000):\n",
    "    # Assume Y_hat = w1 * x + w0\n",
    "    # cost: (w1 * x + w0 - Y) ^ 2\n",
    "    # gradient for dw1: 2 * d(Y_hat - Y) / dw1 = 2 * (w1 * x + w0 - Y) * x, \n",
    "    # gradient for dw0: 2 * d(Y_hat - Y) / dw0 = 2 * (w1 * x + w0 - Y)\n",
    "    \n",
    "    w1, w0 = np.random.normal(0, 1, 2)\n",
    "    cost = []\n",
    "    # update\n",
    "    for i in range(epoch):\n",
    "        for x, y in zip(X, Y):\n",
    "            dw1 = 2 * (w1 * x + w0 - y) * x\n",
    "            dw0 = 2 * (w1 * x + w0 - y)\n",
    "\n",
    "            w1 = w1 - eta * dw1\n",
    "            w0 = w0 - eta * dw0\n",
    "            \n",
    "        cost.append((w1 * x + w0 - y) ** 2)\n",
    "    \n",
    "    return w1, w0, cost\n",
    "\n",
    "w1, w0, cost = sgd(X, Y)\n",
    "print(w1, w0)"
   ]
  },
  {
   "cell_type": "code",
   "execution_count": 2,
   "metadata": {},
   "outputs": [
    {
     "data": {
      "image/png": "[encoded data removed]",
      "text/plain": [
       "<Figure size 432x288 with 1 Axes>"
      ]
     },
     "metadata": {
      "needs_background": "light"
     },
     "output_type": "display_data"
    }
   ],
   "source": [
    "plt.plot(cost)\n",
    "plt.xlabel(\"epoch\")\n",
    "plt.ylabel(\"cost\")\n",
    "plt.show()"
   ]
  }
 ],
 "metadata": {
  "kernelspec": {
   "display_name": "Python 3",
   "language": "python",
   "name": "python3"
  },
  "language_info": {
   "codemirror_mode": {
    "name": "ipython",
    "version": 3
   },
   "file_extension": ".py",
   "mimetype": "text/x-python",
   "name": "python",
   "nbconvert_exporter": "python",
   "pygments_lexer": "ipython3",
   "version": "3.7.3"
  }
 },
 "nbformat": 4,
 "nbformat_minor": 2
}
