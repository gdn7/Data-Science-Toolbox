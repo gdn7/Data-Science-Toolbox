{
 "cells": [
  {
   "cell_type": "markdown",
   "metadata": {},
   "source": [
    "#### Import Module"
   ]
  },
  {
   "cell_type": "code",
   "execution_count": 1,
   "metadata": {},
   "outputs": [],
   "source": [
    "from random import random,randint,choice\n",
    "import genetic as g"
   ]
  },
  {
   "cell_type": "markdown",
   "metadata": {},
   "source": [
    "#### Build Dataset"
   ]
  },
  {
   "cell_type": "code",
   "execution_count": 2,
   "metadata": {},
   "outputs": [],
   "source": [
    "def hiddenfunction(x,y):\n",
    "    return x**2+2*y + 7\n",
    "\n",
    "def buildhiddenset(): \n",
    "    rows=[]\n",
    "    for i in range(200):\n",
    "        x=randint(0,40)\n",
    "        y=randint(0,40)\n",
    "        rows.append([x,y,hiddenfunction(x,y)])\n",
    "    return rows\n",
    "\n",
    "hiddenset=buildhiddenset()"
   ]
  },
  {
   "cell_type": "code",
   "execution_count": 3,
   "metadata": {},
   "outputs": [
    {
     "name": "stdout",
     "output_type": "stream",
     "text": [
      "Help on function evolve in module genetic:\n",
      "\n",
      "evolve(pc, popsize, rankfunction, maxgen=500, mutationrate=0.1, breedingrate=0.4, pexp=0.7, pnew=0.05)\n",
      "    rankfunction\n",
      "        The function used on the list of programs to rank them from best to worst.\n",
      "    mutationrate\n",
      "        The probability of a mutation, passed on to mutate.\n",
      "    breedingrate\n",
      "        The probability of crossover, passed on to crossover.\n",
      "    popsize\n",
      "        The size of the initial population.\n",
      "    probexp\n",
      "        The rate of decline in the probability of selecting lower-ranked programs. A higher value makes the selection process more stringent, choosing only programs with the best ranks to replicate.\n",
      "    probnew\n",
      "        The probability when building the new population that a completely new, ran- dom program is introduced. probexp and probnew will be discussed further in the upcoming section “The Importance of Diversity.”\n",
      "\n"
     ]
    }
   ],
   "source": [
    "help(g.evolve)"
   ]
  },
  {
   "cell_type": "markdown",
   "metadata": {},
   "source": [
    "#### Evolution"
   ]
  },
  {
   "cell_type": "code",
   "execution_count": 4,
   "metadata": {},
   "outputs": [
    {
     "name": "stdout",
     "output_type": "stream",
     "text": [
      "Generation 0, cost: 8768\n",
      "Generation 1, cost: 5912\n",
      "Generation 2, cost: 3118\n",
      "Generation 3, cost: 1400\n",
      "Generation 4, cost: 1375\n",
      "Generation 5, cost: 1375\n",
      "Generation 6, cost: 619\n",
      "Generation 7, cost: 443\n",
      "Generation 8, cost: 400\n",
      "Generation 9, cost: 374\n",
      "Generation 10, cost: 200\n",
      "Generation 11, cost: 47\n",
      "Generation 12, cost: 47\n",
      "Generation 13, cost: 47\n",
      "Generation 14, cost: 30\n",
      "Generation 15, cost: 30\n",
      "Generation 16, cost: 30\n",
      "Generation 17, cost: 30\n",
      "Generation 18, cost: 30\n",
      "Generation 19, cost: 30\n",
      "Generation 20, cost: 25\n",
      "Generation 21, cost: 25\n",
      "Generation 22, cost: 25\n",
      "Generation 23, cost: 25\n",
      "Generation 24, cost: 25\n",
      "Generation 25, cost: 25\n",
      "Generation 26, cost: 25\n",
      "Generation 27, cost: 21\n",
      "Generation 28, cost: 21\n",
      "Generation 29, cost: 21\n",
      "Generation 30, cost: 21\n",
      "Generation 31, cost: 21\n",
      "Generation 32, cost: 0\n"
     ]
    }
   ],
   "source": [
    "rank_func=g.getrankfunction(buildhiddenset())\n",
    "best = g.evolve(2,500,rank_func,mutationrate=0.2,breedingrate=0.2,pexp=0.7,pnew=0.3)"
   ]
  },
  {
   "cell_type": "code",
   "execution_count": 5,
   "metadata": {},
   "outputs": [
    {
     "name": "stdout",
     "output_type": "stream",
     "text": [
      " add\n",
      "  add\n",
      "   if\n",
      "    add\n",
      "    p1\n",
      "    8\n",
      "    add\n",
      "     if\n",
      "     1\n",
      "      subtract\n",
      "      7\n",
      "       subtract\n",
      "       7\n",
      "        add\n",
      "        p1\n",
      "         subtract\n",
      "         3\n",
      "         4\n",
      "     p0\n",
      "    8\n",
      "    add\n",
      "     if\n",
      "      if\n",
      "       isgreater\n",
      "       2\n",
      "        subtract\n",
      "         add\n",
      "         5\n",
      "         1\n",
      "        p0\n",
      "       isgreater\n",
      "       6\n",
      "        multiply\n",
      "        p1\n",
      "         subtract\n",
      "         4\n",
      "          isgreater\n",
      "          p0\n",
      "           add\n",
      "           p0\n",
      "           0\n",
      "      0\n",
      "     9\n",
      "     p0\n",
      "    2\n",
      "  p1\n",
      "  multiply\n",
      "   if\n",
      "   1\n",
      "   p0\n",
      "   p0\n",
      "  p0\n"
     ]
    }
   ],
   "source": [
    "best.display()"
   ]
  }
 ],
 "metadata": {
  "kernelspec": {
   "display_name": "Python 3",
   "language": "python",
   "name": "python3"
  },
  "language_info": {
   "codemirror_mode": {
    "name": "ipython",
    "version": 3
   },
   "file_extension": ".py",
   "mimetype": "text/x-python",
   "name": "python",
   "nbconvert_exporter": "python",
   "pygments_lexer": "ipython3",
   "version": "3.5.5"
  }
 },
 "nbformat": 4,
 "nbformat_minor": 2
}
