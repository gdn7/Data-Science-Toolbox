{
 "cells": [
  {
   "cell_type": "markdown",
   "metadata": {},
   "source": [
    "#### Representing Progarm by Tree"
   ]
  },
  {
   "cell_type": "code",
   "execution_count": 1,
   "metadata": {},
   "outputs": [],
   "source": [
    "from random import random,randint,choice\n",
    "from copy import deepcopy\n",
    "from math import log\n",
    "\n",
    "class fwrapper:\n",
    "    def __init__(self,function,childcount,name):\n",
    "        self.function=function\n",
    "        self.childcount=childcount\n",
    "        self.name=name\n",
    "class node:\n",
    "    def __init__(self,fw,children):\n",
    "        self.function=fw.function\n",
    "        self.name=fw.name\n",
    "        self.children=children\n",
    "    def evaluate(self,inp):\n",
    "        results=[n.evaluate(inp) for n in self.children]\n",
    "        return self.function(results)\n",
    "    def display(self,indent=0):\n",
    "        print (' '*indent, self.name)\n",
    "        for c in self.children:\n",
    "            c.display(indent+1)\n",
    "    \n",
    "class paramnode:\n",
    "    def __init__(self,idx):\n",
    "        self.idx=idx\n",
    "    def evaluate(self,inp):\n",
    "        return inp[self.idx]\n",
    "    def display(self,indent=0):\n",
    "         print('%sp%d' % (' '*indent,self.idx))\n",
    "    \n",
    "class constnode:\n",
    "    def __init__(self,v):\n",
    "        self.v=v\n",
    "    def evaluate(self,inp):\n",
    "        return self.v\n",
    "    def display(self,indent=0):\n",
    "         print('%s%d' % (' '*indent,self.v))"
   ]
  },
  {
   "cell_type": "markdown",
   "metadata": {},
   "source": [
    "#### Define Functions"
   ]
  },
  {
   "cell_type": "code",
   "execution_count": 2,
   "metadata": {},
   "outputs": [],
   "source": [
    "addw=fwrapper(lambda l:l[0]+l[1],2,'add')\n",
    "subw=fwrapper(lambda l:l[0]-l[1],2,'subtract')\n",
    "mulw=fwrapper(lambda l:l[0]*l[1],2,'multiply')\n",
    "def iffunc(l):\n",
    "    if l[0]>0: return l[1]\n",
    "    else: return l[2]\n",
    "ifw=fwrapper(iffunc,3,'if')\n",
    "\n",
    "def isgreater(l):\n",
    "    if l[0]>l[1]: return 1\n",
    "    else: return 0\n",
    "gtw=fwrapper(isgreater,2,'isgreater')\n",
    "\n",
    "flist=[addw,mulw,ifw,gtw,subw]"
   ]
  },
  {
   "cell_type": "markdown",
   "metadata": {},
   "source": [
    "#### Example Program\n",
    "Below is a tree representation of a simple program, involving one if-statement."
   ]
  },
  {
   "cell_type": "code",
   "execution_count": 3,
   "metadata": {},
   "outputs": [],
   "source": [
    "def example(p0, p1):\n",
    "    if p0 > 3:\n",
    "        return p1 + 5\n",
    "    else:\n",
    "        return p1 - 2"
   ]
  },
  {
   "cell_type": "code",
   "execution_count": 4,
   "metadata": {},
   "outputs": [
    {
     "data": {
      "text/plain": [
       "1"
      ]
     },
     "execution_count": 4,
     "metadata": {},
     "output_type": "execute_result"
    }
   ],
   "source": [
    "def exampletree(): \n",
    "    return node(ifw,[node(gtw,[paramnode(0),constnode(3)]),\n",
    "                     node(addw,[paramnode(1),constnode(5)]),\n",
    "                       node(subw,[paramnode(1),constnode(2)])])\n",
    "tree = exampletree()\n",
    "tree.evaluate([2,3])"
   ]
  },
  {
   "cell_type": "code",
   "execution_count": 5,
   "metadata": {},
   "outputs": [
    {
     "name": "stdout",
     "output_type": "stream",
     "text": [
      " if\n",
      "  isgreater\n",
      "  p0\n",
      "  3\n",
      "  add\n",
      "  p1\n",
      "  5\n",
      "  subtract\n",
      "  p1\n",
      "  2\n"
     ]
    }
   ],
   "source": [
    "tree.display()"
   ]
  },
  {
   "cell_type": "markdown",
   "metadata": {},
   "source": [
    "#### Initial Population"
   ]
  },
  {
   "cell_type": "code",
   "execution_count": 6,
   "metadata": {},
   "outputs": [],
   "source": [
    "def makerandomtree(pc,maxdepth=4,fpr=0.5,ppr=0.6): \n",
    "    if random()<fpr and maxdepth>0:\n",
    "        f=choice(flist)\n",
    "        children=[makerandomtree(pc,maxdepth-1,fpr,ppr)\n",
    "               for i in range(f.childcount)]\n",
    "        return node(f,children)\n",
    "    elif random()<ppr:\n",
    "        return paramnode(randint(0,pc-1))\n",
    "    else:\n",
    "        return constnode(randint(0,10))"
   ]
  },
  {
   "cell_type": "code",
   "execution_count": 7,
   "metadata": {},
   "outputs": [
    {
     "data": {
      "text/plain": [
       "0"
      ]
     },
     "execution_count": 7,
     "metadata": {},
     "output_type": "execute_result"
    }
   ],
   "source": [
    "random1=makerandomtree(2, 0.9)\n",
    "random1.evaluate([7,1])"
   ]
  },
  {
   "cell_type": "code",
   "execution_count": 8,
   "metadata": {},
   "outputs": [
    {
     "name": "stdout",
     "output_type": "stream",
     "text": [
      " isgreater\n",
      " p1\n",
      " 4\n"
     ]
    }
   ],
   "source": [
    "random1.display()"
   ]
  },
  {
   "cell_type": "code",
   "execution_count": 9,
   "metadata": {},
   "outputs": [
    {
     "data": {
      "text/plain": [
       "2"
      ]
     },
     "execution_count": 9,
     "metadata": {},
     "output_type": "execute_result"
    }
   ],
   "source": [
    "random2=makerandomtree(2)\n",
    "random2.evaluate([5,3])"
   ]
  },
  {
   "cell_type": "code",
   "execution_count": 10,
   "metadata": {},
   "outputs": [
    {
     "name": "stdout",
     "output_type": "stream",
     "text": [
      "2\n"
     ]
    }
   ],
   "source": [
    "random2.display()"
   ]
  },
  {
   "cell_type": "markdown",
   "metadata": {},
   "source": [
    "#### Testing "
   ]
  },
  {
   "cell_type": "code",
   "execution_count": 11,
   "metadata": {},
   "outputs": [],
   "source": [
    "def hiddenfunction(x,y):\n",
    "    return x*y+5\n",
    "\n",
    "def buildhiddenset(): \n",
    "    rows=[]\n",
    "    for i in range(200):\n",
    "        x=randint(0,40)\n",
    "        y=randint(0,40)\n",
    "        rows.append([x,y,hiddenfunction(x,y)])\n",
    "    return rows\n",
    "\n",
    "hiddenset=buildhiddenset()"
   ]
  },
  {
   "cell_type": "code",
   "execution_count": 12,
   "metadata": {},
   "outputs": [],
   "source": [
    "# measure error using mean absolute error\n",
    "def scorefunction(tree,s):\n",
    "    dif=0\n",
    "    for data in s:\n",
    "        v=tree.evaluate([data[0],data[1]])\n",
    "        dif+=abs(v-data[2])\n",
    "    return dif"
   ]
  },
  {
   "cell_type": "code",
   "execution_count": 13,
   "metadata": {},
   "outputs": [
    {
     "data": {
      "text/plain": [
       "78810"
      ]
     },
     "execution_count": 13,
     "metadata": {},
     "output_type": "execute_result"
    }
   ],
   "source": [
    "scorefunction(random1,hiddenset)"
   ]
  },
  {
   "cell_type": "markdown",
   "metadata": {},
   "source": [
    "#### Mutation"
   ]
  },
  {
   "cell_type": "code",
   "execution_count": 14,
   "metadata": {},
   "outputs": [],
   "source": [
    "def mutate(t,pc,probchange=0.1): \n",
    "    if random()<probchange:\n",
    "        return makerandomtree(pc)\n",
    "    else:\n",
    "        result=deepcopy(t)\n",
    "        if isinstance(t,node):\n",
    "            result.children=[mutate(c,pc,probchange) for c in t.children]\n",
    "        return result"
   ]
  },
  {
   "cell_type": "code",
   "execution_count": 15,
   "metadata": {},
   "outputs": [
    {
     "name": "stdout",
     "output_type": "stream",
     "text": [
      "2\n"
     ]
    }
   ],
   "source": [
    "random2.display()"
   ]
  },
  {
   "cell_type": "code",
   "execution_count": 16,
   "metadata": {},
   "outputs": [
    {
     "name": "stdout",
     "output_type": "stream",
     "text": [
      "2\n"
     ]
    }
   ],
   "source": [
    "muttree=mutate(random2,2)\n",
    "muttree.display()"
   ]
  },
  {
   "cell_type": "markdown",
   "metadata": {},
   "source": [
    "#### Crossover"
   ]
  },
  {
   "cell_type": "code",
   "execution_count": 17,
   "metadata": {},
   "outputs": [],
   "source": [
    "def crossover(t1,t2,probswap=0.7,top=1): \n",
    "    if random()<probswap and not top:\n",
    "        return deepcopy(t2)\n",
    "    else:\n",
    "        result=deepcopy(t1)\n",
    "        if isinstance(t1,node) and isinstance(t2,node):\n",
    "            result.children=[crossover(c,choice(t2.children),probswap,0)\n",
    "                            for c in t1.children]\n",
    "        return result"
   ]
  },
  {
   "cell_type": "code",
   "execution_count": 18,
   "metadata": {},
   "outputs": [
    {
     "name": "stdout",
     "output_type": "stream",
     "text": [
      " add\n",
      " p0\n",
      "  isgreater\n",
      "  6\n",
      "  5\n"
     ]
    }
   ],
   "source": [
    "random1=makerandomtree(2)\n",
    "random1.display()"
   ]
  },
  {
   "cell_type": "code",
   "execution_count": 19,
   "metadata": {},
   "outputs": [
    {
     "name": "stdout",
     "output_type": "stream",
     "text": [
      " isgreater\n",
      "  if\n",
      "  p0\n",
      "   if\n",
      "   p1\n",
      "    add\n",
      "    5\n",
      "    p1\n",
      "   p0\n",
      "  p1\n",
      " p1\n"
     ]
    }
   ],
   "source": [
    "random2=makerandomtree(2)\n",
    "random2.display()"
   ]
  },
  {
   "cell_type": "code",
   "execution_count": 20,
   "metadata": {},
   "outputs": [
    {
     "name": "stdout",
     "output_type": "stream",
     "text": [
      " add\n",
      "  if\n",
      "  p0\n",
      "   if\n",
      "   p1\n",
      "    add\n",
      "    5\n",
      "    p1\n",
      "   p0\n",
      "  p1\n",
      "  isgreater\n",
      "  6\n",
      "  5\n"
     ]
    }
   ],
   "source": [
    "cross=crossover(random1,random2)\n",
    "cross.display()"
   ]
  },
  {
   "cell_type": "markdown",
   "metadata": {},
   "source": [
    "#### Environment"
   ]
  },
  {
   "cell_type": "code",
   "execution_count": 21,
   "metadata": {},
   "outputs": [],
   "source": [
    "def evolve(pc,popsize,rankfunction,maxgen=500,\n",
    "                mutationrate=0.1,breedingrate=0.4,pexp=0.7,pnew=0.05):\n",
    "    # Returns a random number, tending towards lower numbers. \n",
    "    # The lower pexp # is, more lower numbers you will get\n",
    "    def selectindex():\n",
    "        return int(log(random())/log(pexp))\n",
    "    # Create a random initial population\n",
    "    population=[makerandomtree(pc) for i in range(popsize)]\n",
    "    for i in range(maxgen):\n",
    "        scores=rankfunction(population)\n",
    "        print(\"Generation %i, cost: %i\"%(i, scores[0][0]))\n",
    "        if scores[0][0]==0: break\n",
    "        # The two best always make it\n",
    "        newpop=[scores[0][1],scores[1][1]]\n",
    "        \n",
    "        # Build the next generation\n",
    "        while len(newpop)<popsize:\n",
    "            if random()>pnew: \n",
    "                newpop.append(mutate(crossover(scores[selectindex( )][1], \n",
    "                                               scores[selectindex( )][1],\n",
    "                                               probswap=breedingrate),\n",
    "                                     pc,probchange=mutationrate))\n",
    "            else:\n",
    "                # Add a random node to mix things up\n",
    "                newpop.append(makerandomtree(pc))\n",
    "        population=newpop \n",
    "    return scores[0][1]"
   ]
  },
  {
   "cell_type": "code",
   "execution_count": 22,
   "metadata": {},
   "outputs": [],
   "source": [
    "def getrankfunction(dataset):\n",
    "    def rankfunction(population):\n",
    "        scores=[(scorefunction(t,dataset),t) for t in population] \n",
    "        scores.sort(key = lambda i : i[0])\n",
    "        return scores\n",
    "    return rankfunction"
   ]
  },
  {
   "cell_type": "markdown",
   "metadata": {},
   "source": [
    "#### Evolution / Training"
   ]
  },
  {
   "cell_type": "code",
   "execution_count": 23,
   "metadata": {},
   "outputs": [],
   "source": [
    "rf=getrankfunction(buildhiddenset())"
   ]
  },
  {
   "cell_type": "code",
   "execution_count": 25,
   "metadata": {},
   "outputs": [
    {
     "name": "stdout",
     "output_type": "stream",
     "text": [
      "Generation 0, cost: 3793\n",
      "Generation 1, cost: 98\n",
      "Generation 2, cost: 0\n"
     ]
    }
   ],
   "source": [
    "best = evolve(2,500,rf,mutationrate=0.2,breedingrate=0.1,pexp=0.7,pnew=0.2)"
   ]
  },
  {
   "cell_type": "code",
   "execution_count": 26,
   "metadata": {},
   "outputs": [
    {
     "name": "stdout",
     "output_type": "stream",
     "text": [
      " add\n",
      "  isgreater\n",
      "   multiply\n",
      "   0\n",
      "    multiply\n",
      "    1\n",
      "     if\n",
      "     2\n",
      "     8\n",
      "     p0\n",
      "   isgreater\n",
      "   p1\n",
      "    add\n",
      "     multiply\n",
      "     p1\n",
      "     p1\n",
      "    0\n",
      "  add\n",
      "   add\n",
      "   5\n",
      "    multiply\n",
      "    p1\n",
      "    p0\n",
      "   isgreater\n",
      "    subtract\n",
      "    p1\n",
      "    p1\n",
      "    isgreater\n",
      "    p1\n",
      "     isgreater\n",
      "      multiply\n",
      "      p1\n",
      "      8\n",
      "     6\n"
     ]
    }
   ],
   "source": [
    "best.display( ) "
   ]
  }
 ],
 "metadata": {
  "kernelspec": {
   "display_name": "Python 3",
   "language": "python",
   "name": "python3"
  },
  "language_info": {
   "codemirror_mode": {
    "name": "ipython",
    "version": 3
   },
   "file_extension": ".py",
   "mimetype": "text/x-python",
   "name": "python",
   "nbconvert_exporter": "python",
   "pygments_lexer": "ipython3",
   "version": "3.5.5"
  }
 },
 "nbformat": 4,
 "nbformat_minor": 2
}
