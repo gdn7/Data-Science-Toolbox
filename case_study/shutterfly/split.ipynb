{
 "cells": [
  {
   "cell_type": "code",
   "execution_count": 1,
   "metadata": {},
   "outputs": [],
   "source": [
    "import pandas as pd\n",
    "from sqlalchemy import create_engine"
   ]
  },
  {
   "cell_type": "code",
   "execution_count": 2,
   "metadata": {},
   "outputs": [],
   "source": [
    "username = \"privateuser\"\n",
    "password = \"***********\"\n",
    "port = 7777\n",
    "database = \"Shutterfly\"\n",
    "\n",
    "engine = create_engine('mysql+mysqldb://%s:%s@localhost:%i/%s'\n",
    "                       %(username, password, port, database))"
   ]
  },
  {
   "cell_type": "code",
   "execution_count": 3,
   "metadata": {},
   "outputs": [],
   "source": [
    "sql = \"SELECT `index`, event2 FROM Online;\"\n",
    "df = pd.read_sql_query(sql, engine).set_index('index')"
   ]
  },
  {
   "cell_type": "code",
   "execution_count": 4,
   "metadata": {},
   "outputs": [],
   "source": [
    "# shuffle dataset, preserving index\n",
    "df = df.sample(frac=1)"
   ]
  },
  {
   "cell_type": "code",
   "execution_count": 5,
   "metadata": {},
   "outputs": [],
   "source": [
    "train_frac = 0.9\n",
    "test_frac = 1 - train_frac\n",
    "\n",
    "trn_cutoff = int(len(df) * train_frac)\n",
    "\n",
    "df_trn = df[:trn_cutoff]\n",
    "df_tst = df[trn_cutoff:]"
   ]
  },
  {
   "cell_type": "code",
   "execution_count": 6,
   "metadata": {},
   "outputs": [
    {
     "name": "stdout",
     "output_type": "stream",
     "text": [
      "\n",
      "training set: 859296 rows\n",
      "test set: 95478 rows\n",
      "\n"
     ]
    }
   ],
   "source": [
    "print(\"\"\"\n",
    "training set: %i rows\n",
    "test set: %i rows\n",
    "\"\"\"%(len(df_trn), len(df_tst)))"
   ]
  },
  {
   "cell_type": "code",
   "execution_count": 7,
   "metadata": {},
   "outputs": [],
   "source": [
    "df_trn.to_sql('trn_set', engine, if_exists='replace')\n",
    "df_tst.to_sql('tst_set', engine, if_exists='replace')"
   ]
  }
 ],
 "metadata": {
  "kernelspec": {
   "display_name": "Python 3",
   "language": "python",
   "name": "python3"
  },
  "language_info": {
   "codemirror_mode": {
    "name": "ipython",
    "version": 3
   },
   "file_extension": ".py",
   "mimetype": "text/x-python",
   "name": "python",
   "nbconvert_exporter": "python",
   "pygments_lexer": "ipython3",
   "version": "3.7.3"
  }
 },
 "nbformat": 4,
 "nbformat_minor": 2
}
