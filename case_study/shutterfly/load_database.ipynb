{
 "cells": [
  {
   "cell_type": "code",
   "execution_count": 1,
   "metadata": {},
   "outputs": [],
   "source": [
    "from sqlalchemy import create_engine\n",
    "import pandas as pd"
   ]
  },
  {
   "cell_type": "code",
   "execution_count": 3,
   "metadata": {},
   "outputs": [],
   "source": [
    "username = \"privateuser\"\n",
    "password = \"***********\"\n",
    "port = 7777\n",
    "database = \"Shutterfly\"\n",
    "\n",
    "engine = create_engine('mysql+mysqldb://%s:%s@localhost:%i/%s'\n",
    "                       %(username, password, port, database))"
   ]
  },
  {
   "cell_type": "code",
   "execution_count": 4,
   "metadata": {},
   "outputs": [
    {
     "data": {
      "text/html": [
       "<div>\n",
       "<style scoped>\n",
       "    .dataframe tbody tr th:only-of-type {\n",
       "        vertical-align: middle;\n",
       "    }\n",
       "\n",
       "    .dataframe tbody tr th {\n",
       "        vertical-align: top;\n",
       "    }\n",
       "\n",
       "    .dataframe thead th {\n",
       "        text-align: right;\n",
       "    }\n",
       "</style>\n",
       "<table border=\"1\" class=\"dataframe\">\n",
       "  <thead>\n",
       "    <tr style=\"text-align: right;\">\n",
       "      <th></th>\n",
       "      <th>session</th>\n",
       "      <th>visitor</th>\n",
       "      <th>dt</th>\n",
       "      <th>custno</th>\n",
       "      <th>category</th>\n",
       "      <th>event1</th>\n",
       "      <th>event2</th>\n",
       "    </tr>\n",
       "  </thead>\n",
       "  <tbody>\n",
       "    <tr>\n",
       "      <th>0</th>\n",
       "      <td>419542</td>\n",
       "      <td>140970</td>\n",
       "      <td>2016-09-16 05:03:23</td>\n",
       "      <td>3840</td>\n",
       "      <td>1</td>\n",
       "      <td>NaN</td>\n",
       "      <td>1</td>\n",
       "    </tr>\n",
       "    <tr>\n",
       "      <th>1</th>\n",
       "      <td>3030130</td>\n",
       "      <td>14501</td>\n",
       "      <td>2017-11-13 04:58:12</td>\n",
       "      <td>70400</td>\n",
       "      <td>1</td>\n",
       "      <td>NaN</td>\n",
       "      <td>1</td>\n",
       "    </tr>\n",
       "    <tr>\n",
       "      <th>2</th>\n",
       "      <td>2638740</td>\n",
       "      <td>419353</td>\n",
       "      <td>2017-05-24 16:10:38</td>\n",
       "      <td>21248</td>\n",
       "      <td>1</td>\n",
       "      <td>NaN</td>\n",
       "      <td>1</td>\n",
       "    </tr>\n",
       "    <tr>\n",
       "      <th>3</th>\n",
       "      <td>880408</td>\n",
       "      <td>90673</td>\n",
       "      <td>2017-10-28 13:42:38</td>\n",
       "      <td>39168</td>\n",
       "      <td>1</td>\n",
       "      <td>NaN</td>\n",
       "      <td>1</td>\n",
       "    </tr>\n",
       "    <tr>\n",
       "      <th>4</th>\n",
       "      <td>2612179</td>\n",
       "      <td>191542</td>\n",
       "      <td>2016-05-17 06:30:32</td>\n",
       "      <td>47616</td>\n",
       "      <td>1</td>\n",
       "      <td>NaN</td>\n",
       "      <td>1</td>\n",
       "    </tr>\n",
       "  </tbody>\n",
       "</table>\n",
       "</div>"
      ],
      "text/plain": [
       "   session  visitor                   dt  custno  category  event1  event2\n",
       "0   419542   140970  2016-09-16 05:03:23    3840         1     NaN       1\n",
       "1  3030130    14501  2017-11-13 04:58:12   70400         1     NaN       1\n",
       "2  2638740   419353  2017-05-24 16:10:38   21248         1     NaN       1\n",
       "3   880408    90673  2017-10-28 13:42:38   39168         1     NaN       1\n",
       "4  2612179   191542  2016-05-17 06:30:32   47616         1     NaN       1"
      ]
     },
     "execution_count": 4,
     "metadata": {},
     "output_type": "execute_result"
    }
   ],
   "source": [
    "df_online = pd.read_csv(\"data/online.csv\")\n",
    "df_online.head()"
   ]
  },
  {
   "cell_type": "code",
   "execution_count": 5,
   "metadata": {},
   "outputs": [],
   "source": [
    "df_online.to_sql('Online', engine, if_exists='replace')"
   ]
  },
  {
   "cell_type": "code",
   "execution_count": 6,
   "metadata": {},
   "outputs": [
    {
     "data": {
      "text/html": [
       "<div>\n",
       "<style scoped>\n",
       "    .dataframe tbody tr th:only-of-type {\n",
       "        vertical-align: middle;\n",
       "    }\n",
       "\n",
       "    .dataframe tbody tr th {\n",
       "        vertical-align: top;\n",
       "    }\n",
       "\n",
       "    .dataframe thead th {\n",
       "        text-align: right;\n",
       "    }\n",
       "</style>\n",
       "<table border=\"1\" class=\"dataframe\">\n",
       "  <thead>\n",
       "    <tr style=\"text-align: right;\">\n",
       "      <th></th>\n",
       "      <th>custno</th>\n",
       "      <th>ordno</th>\n",
       "      <th>orderdate</th>\n",
       "      <th>prodcat2</th>\n",
       "      <th>prodcat1</th>\n",
       "      <th>revenue</th>\n",
       "    </tr>\n",
       "  </thead>\n",
       "  <tbody>\n",
       "    <tr>\n",
       "      <th>0</th>\n",
       "      <td>18944</td>\n",
       "      <td>64694</td>\n",
       "      <td>2016-11-27 20:57:20</td>\n",
       "      <td>NaN</td>\n",
       "      <td>1</td>\n",
       "      <td>53.30</td>\n",
       "    </tr>\n",
       "    <tr>\n",
       "      <th>1</th>\n",
       "      <td>18944</td>\n",
       "      <td>114405</td>\n",
       "      <td>2017-04-29 20:18:04</td>\n",
       "      <td>NaN</td>\n",
       "      <td>1</td>\n",
       "      <td>0.10</td>\n",
       "    </tr>\n",
       "    <tr>\n",
       "      <th>2</th>\n",
       "      <td>18944</td>\n",
       "      <td>28906</td>\n",
       "      <td>2017-04-23 21:31:03</td>\n",
       "      <td>NaN</td>\n",
       "      <td>1</td>\n",
       "      <td>141.66</td>\n",
       "    </tr>\n",
       "    <tr>\n",
       "      <th>3</th>\n",
       "      <td>36096</td>\n",
       "      <td>62681</td>\n",
       "      <td>2016-02-25 07:16:33</td>\n",
       "      <td>NaN</td>\n",
       "      <td>1</td>\n",
       "      <td>36.82</td>\n",
       "    </tr>\n",
       "    <tr>\n",
       "      <th>4</th>\n",
       "      <td>1</td>\n",
       "      <td>1</td>\n",
       "      <td>2017-06-12 08:27:59</td>\n",
       "      <td>NaN</td>\n",
       "      <td>1</td>\n",
       "      <td>8.35</td>\n",
       "    </tr>\n",
       "  </tbody>\n",
       "</table>\n",
       "</div>"
      ],
      "text/plain": [
       "   custno   ordno            orderdate  prodcat2  prodcat1  revenue\n",
       "0   18944   64694  2016-11-27 20:57:20       NaN         1    53.30\n",
       "1   18944  114405  2017-04-29 20:18:04       NaN         1     0.10\n",
       "2   18944   28906  2017-04-23 21:31:03       NaN         1   141.66\n",
       "3   36096   62681  2016-02-25 07:16:33       NaN         1    36.82\n",
       "4       1       1  2017-06-12 08:27:59       NaN         1     8.35"
      ]
     },
     "execution_count": 6,
     "metadata": {},
     "output_type": "execute_result"
    }
   ],
   "source": [
    "df_order = pd.read_csv(\"data/Order.csv\")\n",
    "df_order.head()"
   ]
  },
  {
   "cell_type": "code",
   "execution_count": 8,
   "metadata": {},
   "outputs": [],
   "source": [
    "df_order.to_sql('Purchase', engine, if_exists='replace')"
   ]
  }
 ],
 "metadata": {
  "kernelspec": {
   "display_name": "Python 3",
   "language": "python",
   "name": "python3"
  },
  "language_info": {
   "codemirror_mode": {
    "name": "ipython",
    "version": 3
   },
   "file_extension": ".py",
   "mimetype": "text/x-python",
   "name": "python",
   "nbconvert_exporter": "python",
   "pygments_lexer": "ipython3",
   "version": "3.7.3"
  }
 },
 "nbformat": 4,
 "nbformat_minor": 2
}
