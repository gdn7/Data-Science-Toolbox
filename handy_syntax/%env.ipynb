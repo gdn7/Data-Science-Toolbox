{
 "cells": [
  {
   "cell_type": "markdown",
   "metadata": {},
   "source": [
    "#### %env\n",
    "You can manage environment variables of your notebook without restarting the jupyter server process. Some libraries (like theano) use environment variables to control behavior, %env is the most convenient way."
   ]
  },
  {
   "cell_type": "code",
   "execution_count": 1,
   "metadata": {},
   "outputs": [
    {
     "data": {
      "text/plain": [
       "{'TERM_PROGRAM': 'Apple_Terminal',\n",
       " 'SHELL': '/bin/bash',\n",
       " 'TERM': 'xterm-color',\n",
       " 'TMPDIR': '/var/folders/2n/m8w0w4216fqcdbfpxj6xmwrh0000gn/T/',\n",
       " 'CONDA_SHLVL': '2',\n",
       " 'Apple_PubSub_Socket_Render': '/private/tmp/com.apple.launchd.REH4zsnDW5/Render',\n",
       " 'CONDA_PROMPT_MODIFIER': '(analytics) ',\n",
       " 'TERM_PROGRAM_VERSION': '421.1.1',\n",
       " 'TERM_SESSION_ID': 'B08EF685-3AAD-410A-9962-D54870645D11',\n",
       " 'USER': 'shawlu',\n",
       " 'CONDA_EXE': '/Users/shawlu/anaconda3/bin/conda',\n",
       " 'SSH_AUTH_SOCK': '/private/tmp/com.apple.launchd.5KuYXpjZyp/Listeners',\n",
       " '_CE_CONDA': '',\n",
       " 'CONDA_PREFIX_1': '/Users/shawlu/anaconda3',\n",
       " 'PATH': '/Users/shawlu/anaconda3/envs/analytics/bin:/Users/shawlu/anaconda3/envs/analytics/bin:/Users/shawlu/anaconda3/condabin:/Library/Frameworks/Python.framework/Versions/3.6/bin:/Library/Frameworks/Python.framework/Versions/2.7/bin:/Applications/MAMP/Library/bin:/usr/local/bin:/usr/bin:/bin:/usr/sbin:/sbin:/Library/TeX/texbin:/opt/X11/bin',\n",
       " 'CONDA_PREFIX': '/Users/shawlu/anaconda3/envs/analytics',\n",
       " 'PWD': '/Users/shawlu',\n",
       " 'LANG': 'en_US.UTF-8',\n",
       " 'XPC_FLAGS': '0x0',\n",
       " '_CE_M': '',\n",
       " 'XPC_SERVICE_NAME': '0',\n",
       " 'SHLVL': '1',\n",
       " 'HOME': '/Users/shawlu',\n",
       " 'LOGNAME': 'shawlu',\n",
       " 'CONDA_DEFAULT_ENV': 'analytics',\n",
       " 'DISPLAY': '/private/tmp/com.apple.launchd.f6Gf6VHWfI/org.macosforge.xquartz:0',\n",
       " '_': '/Users/shawlu/anaconda3/envs/analytics/bin/jupyter',\n",
       " 'JPY_PARENT_PID': '2769',\n",
       " 'CLICOLOR': '1',\n",
       " 'PAGER': 'cat',\n",
       " 'GIT_PAGER': 'cat',\n",
       " 'MPLBACKEND': 'module://ipykernel.pylab.backend_inline'}"
      ]
     },
     "execution_count": 1,
     "metadata": {},
     "output_type": "execute_result"
    }
   ],
   "source": [
    "%env"
   ]
  }
 ],
 "metadata": {
  "kernelspec": {
   "display_name": "Python 3",
   "language": "python",
   "name": "python3"
  },
  "language_info": {
   "codemirror_mode": {
    "name": "ipython",
    "version": 3
   },
   "file_extension": ".py",
   "mimetype": "text/x-python",
   "name": "python",
   "nbconvert_exporter": "python",
   "pygments_lexer": "ipython3",
   "version": "3.7.3"
  }
 },
 "nbformat": 4,
 "nbformat_minor": 2
}
