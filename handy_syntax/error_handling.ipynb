{
 "cells": [
  {
   "cell_type": "markdown",
   "metadata": {},
   "source": [
    "#### Key Points\n",
    "* One `try` can have multiple `except`.\n",
    "* `else` block is executed if no exception is raised.\n",
    "* You can also use the except statement with no exceptions (*not considered a good programming practice though, because it catches all exceptions but does not make the programmer identify the root cause of the problem that may occur*).\n",
    "```python\n",
    "try:\n",
    "    # You do your operations here;\n",
    "    # ......................\n",
    "except:\n",
    "    # If there is any exception, then execute this block.\n",
    "    # ......................\n",
    "else:\n",
    "    # If there is no exception then execute this block. \n",
    "```"
   ]
  },
  {
   "cell_type": "code",
   "execution_count": 1,
   "metadata": {},
   "outputs": [
    {
     "name": "stdout",
     "output_type": "stream",
     "text": [
      "Written content in the file successfully\n"
     ]
    }
   ],
   "source": [
    "try:\n",
    "    fh = open(\"outputs/error_handling.txt\", \"w\")\n",
    "    fh.write(\"This is my test file for exception handling!!\")\n",
    "except IOError:\n",
    "    print(\"Error: can\\'t find file or read data\")\n",
    "else:\n",
    "    print(\"Written content in the file successfully\")\n",
    "    fh.close()"
   ]
  },
  {
   "cell_type": "markdown",
   "metadata": {},
   "source": [
    "#### `finally` Clause\n",
    "* The finally block is a place to put any code that must execute, whether the try-block raised an exception or not. \n",
    "\n",
    "```python\n",
    "try:\n",
    "    # You do your operations here;\n",
    "    # ......................\n",
    "    # Due to any exception, this may be skipped.\n",
    "finally:\n",
    "    # This would always be executed.\n",
    "    # ......................\n",
    "```"
   ]
  },
  {
   "cell_type": "code",
   "execution_count": 2,
   "metadata": {},
   "outputs": [
    {
     "name": "stdout",
     "output_type": "stream",
     "text": [
      "1\n",
      "others\n",
      "finally\n"
     ]
    }
   ],
   "source": [
    "good_var = 1\n",
    "try:\n",
    "    print(good_var)\n",
    "except:\n",
    "    print(\"except\")\n",
    "else:\n",
    "    print(\"others\")\n",
    "finally:\n",
    "    print(\"finally\")"
   ]
  },
  {
   "cell_type": "code",
   "execution_count": 3,
   "metadata": {},
   "outputs": [
    {
     "name": "stdout",
     "output_type": "stream",
     "text": [
      "except\n",
      "finally\n"
     ]
    }
   ],
   "source": [
    "try:\n",
    "    print(bad_var)\n",
    "except:\n",
    "    print(\"except\")\n",
    "else:\n",
    "    print(\"others\")\n",
    "finally:\n",
    "    print(\"finally\")"
   ]
  },
  {
   "cell_type": "markdown",
   "metadata": {},
   "source": [
    "#### Custom Error"
   ]
  },
  {
   "cell_type": "code",
   "execution_count": 4,
   "metadata": {},
   "outputs": [],
   "source": [
    "class Networkerror(RuntimeError):\n",
    "    def __init__(self, message, solution):\n",
    "        print(\"set args\", message, solution)\n",
    "        self.args = [message, solution]"
   ]
  },
  {
   "cell_type": "code",
   "execution_count": 5,
   "metadata": {},
   "outputs": [
    {
     "name": "stdout",
     "output_type": "stream",
     "text": [
      "set args Bad hostname kill\n",
      "except ('Bad hostname', 'kill')\n"
     ]
    }
   ],
   "source": [
    "try:\n",
    "    raise(Networkerror(\"Bad hostname\", \"kill\"))\n",
    "except Networkerror as err:\n",
    "    print(\"except\", err.args)"
   ]
  }
 ],
 "metadata": {
  "kernelspec": {
   "display_name": "Python 3",
   "language": "python",
   "name": "python3"
  },
  "language_info": {
   "codemirror_mode": {
    "name": "ipython",
    "version": 3
   },
   "file_extension": ".py",
   "mimetype": "text/x-python",
   "name": "python",
   "nbconvert_exporter": "python",
   "pygments_lexer": "ipython3",
   "version": "3.7.3"
  }
 },
 "nbformat": 4,
 "nbformat_minor": 2
}
