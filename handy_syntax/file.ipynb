{
 "cells": [
  {
   "cell_type": "markdown",
   "metadata": {},
   "source": [
    "#### Mode\n",
    "* 'r':\tThis is the default mode. It Opens file for reading.\n",
    "* 'w':\tThis Mode Opens file for writing. If file does not exist, it creates a new file. If file exists it truncates the file.\n",
    "* 'x':\tCreates a new file. If file already exists, the operation fails.\n",
    "* 'a':\tOpen file in append mode. If file does not exist, it creates a new file.\n",
    "* 't':\tThis is the default mode. It opens in text mode.\n",
    "* 'b':\tThis opens in binary mode.\n",
    "* '+':\tThis will open a file for reading and writing (updating)"
   ]
  },
  {
   "cell_type": "markdown",
   "metadata": {},
   "source": [
    "#### Write File"
   ]
  },
  {
   "cell_type": "code",
   "execution_count": 4,
   "metadata": {},
   "outputs": [],
   "source": [
    "# 'w' means write, '+' means create if not exist\n",
    "fname = \"outputs/new.txt\"\n",
    "f = open(fname, \"w+\")\n",
    "for i in range(10):\n",
    "    f.write(\"This is line %d\\n\" % (i+1))\n",
    "f.close()"
   ]
  },
  {
   "cell_type": "code",
   "execution_count": 5,
   "metadata": {},
   "outputs": [],
   "source": [
    "# append to file\n",
    "f = open(fname, \"a+\")\n",
    "for i in range(2):\n",
    "    f.write(\"Appended line %d\\n\" % (i+1))"
   ]
  },
  {
   "cell_type": "markdown",
   "metadata": {},
   "source": [
    "#### Read File"
   ]
  },
  {
   "cell_type": "code",
   "execution_count": 8,
   "metadata": {},
   "outputs": [
    {
     "name": "stdout",
     "output_type": "stream",
     "text": [
      "This is line 1\n",
      "This is line 2\n",
      "This is line 3\n",
      "This is line 4\n",
      "This is line 5\n",
      "This is line 6\n",
      "This is line 7\n",
      "This is line 8\n",
      "This is line 9\n",
      "This is line 10\n",
      "Appended line 1\n",
      "Appended line 2\n",
      "\n"
     ]
    }
   ],
   "source": [
    "# read all\n",
    "f = open(fname, \"r\")\n",
    "print(f.read())"
   ]
  },
  {
   "cell_type": "code",
   "execution_count": 11,
   "metadata": {},
   "outputs": [
    {
     "name": "stdout",
     "output_type": "stream",
     "text": [
      "This is line 1\n",
      "This is line 2\n",
      "This is line 3\n",
      "This is line 4\n",
      "This is line 5\n",
      "This is line 6\n",
      "This is line 7\n",
      "This is line 8\n",
      "This is line 9\n",
      "This is line 10\n",
      "Appended line 1\n",
      "Appended line 2\n"
     ]
    }
   ],
   "source": [
    "# read line by line\n",
    "f = open(fname, \"r\")\n",
    "for line in f.readlines():\n",
    "    print(line, end=\"\")"
   ]
  },
  {
   "cell_type": "code",
   "execution_count": 15,
   "metadata": {},
   "outputs": [
    {
     "data": {
      "text/plain": [
       "'This is line 1\\n'"
      ]
     },
     "execution_count": 15,
     "metadata": {},
     "output_type": "execute_result"
    }
   ],
   "source": [
    "f = open(fname, \"r\")\n",
    "f.readline()"
   ]
  }
 ],
 "metadata": {
  "kernelspec": {
   "display_name": "Python 3",
   "language": "python",
   "name": "python3"
  },
  "language_info": {
   "codemirror_mode": {
    "name": "ipython",
    "version": 3
   },
   "file_extension": ".py",
   "mimetype": "text/x-python",
   "name": "python",
   "nbconvert_exporter": "python",
   "pygments_lexer": "ipython3",
   "version": "3.7.3"
  }
 },
 "nbformat": 4,
 "nbformat_minor": 2
}
