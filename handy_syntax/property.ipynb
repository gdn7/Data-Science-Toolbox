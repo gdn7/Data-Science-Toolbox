{
 "cells": [
  {
   "cell_type": "code",
   "execution_count": 1,
   "metadata": {},
   "outputs": [],
   "source": [
    "class TimeDuration(object):\n",
    "    def __init__ (self, h, m, s):\n",
    "        self._hour = h \n",
    "        self._min = m \n",
    "        self._sec = s\n",
    "        \n",
    "    def setHour (self, h): \n",
    "        print(\"Hour set to\", h)\n",
    "        self._hour = h \n",
    "        \n",
    "    def setMinute (self, m): \n",
    "        print(\"Minute set to\", m)\n",
    "        self._min = m \n",
    "        \n",
    "    def setSecond (self, s): \n",
    "        print(\"Second set to\", s)\n",
    "        self._sec = s\n",
    "        \n",
    "    def getHour (self): \n",
    "        print(\"getHour\")\n",
    "        return self._hour \n",
    "    \n",
    "    def getMinute (self): \n",
    "        print(\"getMinute\")\n",
    "        return self._min \n",
    "    \n",
    "    def getSecond (self): \n",
    "        print(\"getSecond\")\n",
    "        return self._sec \n",
    "    \n",
    "    # read write\n",
    "    hour = property(getHour, setHour)\n",
    "    \n",
    "    # read only\n",
    "    min = property(getMinute, None) \n",
    "    \n",
    "    # write only\n",
    "    sec = property(None, setSecond)"
   ]
  },
  {
   "cell_type": "code",
   "execution_count": 2,
   "metadata": {},
   "outputs": [],
   "source": [
    "obj = TimeDuration(1, 30, 59)"
   ]
  },
  {
   "cell_type": "code",
   "execution_count": 3,
   "metadata": {},
   "outputs": [
    {
     "name": "stdout",
     "output_type": "stream",
     "text": [
      "Hour set to 2\n"
     ]
    }
   ],
   "source": [
    "obj.hour = 2"
   ]
  },
  {
   "cell_type": "code",
   "execution_count": 4,
   "metadata": {},
   "outputs": [
    {
     "name": "stdout",
     "output_type": "stream",
     "text": [
      "getMinute\n"
     ]
    },
    {
     "data": {
      "text/plain": [
       "30"
      ]
     },
     "execution_count": 4,
     "metadata": {},
     "output_type": "execute_result"
    }
   ],
   "source": [
    "obj.min"
   ]
  }
 ],
 "metadata": {
  "kernelspec": {
   "display_name": "Python 3",
   "language": "python",
   "name": "python3"
  },
  "language_info": {
   "codemirror_mode": {
    "name": "ipython",
    "version": 3
   },
   "file_extension": ".py",
   "mimetype": "text/x-python",
   "name": "python",
   "nbconvert_exporter": "python",
   "pygments_lexer": "ipython3",
   "version": "3.7.3"
  }
 },
 "nbformat": 4,
 "nbformat_minor": 2
}
