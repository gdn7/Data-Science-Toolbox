{
 "cells": [
  {
   "cell_type": "code",
   "execution_count": 1,
   "metadata": {},
   "outputs": [
    {
     "name": "stdout",
     "output_type": "stream",
     "text": [
      "start\n",
      "1\n",
      "None\n",
      "middle\n",
      "2\n",
      "msg\n",
      "next\n",
      "3\n"
     ]
    }
   ],
   "source": [
    "#生成器\n",
    "def f():\n",
    "    print('start')\n",
    "    a = yield 1 #可以返回参数1，并接收传递的参数给a\n",
    "    print(a) \n",
    "    print('middle')\n",
    "    b = yield 2 #可以返回参数2，并接收传递的参数给b\n",
    "    print(b)\n",
    "    print('next')\n",
    "    c = yield 3 #可以返回参数3，并接收传递的参数给c\n",
    "    print(c) #这里貌似永远不会执行，因为总会在上一行的yield处结束\n",
    "\n",
    "a = f() #这里不会执行，即没有任何打印信息\n",
    "#a.next() #这种写法在python3里面会报错\n",
    "return1 = next(a)#输出start，中断在yield 1处，返回yield后面的1给return1\n",
    "#return1 = a.send(None) #效果同上一条语句\n",
    "#return1 = a.send('test') #这里会报错\n",
    "#如果首次执行generator，就传递一个非None的参数，因为第一次执行不是从一般的中断yield处执行起，所以没有yield关键字来接收传参，就会报错\n",
    "print(return1)\n",
    "return2 = next(a)#传入参数为None，即a=None，返回2给return2\n",
    "print(return2)\n",
    "return3 = a.send('msg')#传入参数msg，即b=msg,返回3给return3\n",
    "print(return3)"
   ]
  },
  {
   "cell_type": "code",
   "execution_count": 2,
   "metadata": {},
   "outputs": [],
   "source": [
    "def echo(value=None):\n",
    "    while 1:\n",
    "        value = (yield value)\n",
    "        print(\"The value is\", value)\n",
    "        if value:\n",
    "            value += 1"
   ]
  },
  {
   "cell_type": "code",
   "execution_count": 3,
   "metadata": {},
   "outputs": [],
   "source": [
    "g = echo(1)"
   ]
  },
  {
   "cell_type": "code",
   "execution_count": 4,
   "metadata": {},
   "outputs": [
    {
     "data": {
      "text/plain": [
       "1"
      ]
     },
     "execution_count": 4,
     "metadata": {},
     "output_type": "execute_result"
    }
   ],
   "source": [
    "next(g)"
   ]
  },
  {
   "cell_type": "code",
   "execution_count": 5,
   "metadata": {},
   "outputs": [
    {
     "name": "stdout",
     "output_type": "stream",
     "text": [
      "The value is 2\n"
     ]
    },
    {
     "data": {
      "text/plain": [
       "3"
      ]
     },
     "execution_count": 5,
     "metadata": {},
     "output_type": "execute_result"
    }
   ],
   "source": [
    "g.send(2)"
   ]
  },
  {
   "cell_type": "code",
   "execution_count": 6,
   "metadata": {},
   "outputs": [
    {
     "name": "stdout",
     "output_type": "stream",
     "text": [
      "The value is 5\n"
     ]
    },
    {
     "data": {
      "text/plain": [
       "6"
      ]
     },
     "execution_count": 6,
     "metadata": {},
     "output_type": "execute_result"
    }
   ],
   "source": [
    "g.send(5)"
   ]
  },
  {
   "cell_type": "code",
   "execution_count": 7,
   "metadata": {},
   "outputs": [
    {
     "name": "stdout",
     "output_type": "stream",
     "text": [
      "The value is None\n"
     ]
    }
   ],
   "source": [
    "next(g)"
   ]
  }
 ],
 "metadata": {
  "kernelspec": {
   "display_name": "Python 3",
   "language": "python",
   "name": "python3"
  },
  "language_info": {
   "codemirror_mode": {
    "name": "ipython",
    "version": 3
   },
   "file_extension": ".py",
   "mimetype": "text/x-python",
   "name": "python",
   "nbconvert_exporter": "python",
   "pygments_lexer": "ipython3",
   "version": "3.7.3"
  }
 },
 "nbformat": 4,
 "nbformat_minor": 2
}
