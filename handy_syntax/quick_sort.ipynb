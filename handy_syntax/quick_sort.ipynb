{
 "cells": [
  {
   "cell_type": "code",
   "execution_count": 1,
   "metadata": {},
   "outputs": [
    {
     "data": {
      "text/plain": [
       "[1, 2, 3, 4, 5, 6, 7]"
      ]
     },
     "execution_count": 1,
     "metadata": {},
     "output_type": "execute_result"
    }
   ],
   "source": [
    "def quicksort(a): \n",
    "    if a:\n",
    "        # there are various ways of selecting the pivot # we simply choose the middle element\n",
    "        pivot = a[len(a)//2]\n",
    "        return quicksort([x for x in a if x < pivot]) + \\\n",
    "                [x for x in a if x == pivot] + \\\n",
    "                quicksort([x for x in a if x > pivot])\n",
    "    else:\n",
    "        return [ ]\n",
    "    \n",
    "a = [1, 6, 4, 2, 5, 3, 7]\n",
    "quicksort(a)"
   ]
  },
  {
   "cell_type": "code",
   "execution_count": 2,
   "metadata": {},
   "outputs": [],
   "source": [
    "def quicksort2(a, cmp): \n",
    "    if a:\n",
    "        # there are various ways of selecting the pivot # we simply choose the middle element\n",
    "        pivot = a[len(a)//2]\n",
    "        return quicksort2([x for x in a if cmp(x, pivot)], cmp) + \\\n",
    "                [x for x in a if x == pivot] + \\\n",
    "                quicksort2([x for x in a if cmp(pivot, x)], cmp) \n",
    "    else:\n",
    "        return [ ]"
   ]
  },
  {
   "cell_type": "code",
   "execution_count": 3,
   "metadata": {},
   "outputs": [
    {
     "data": {
      "text/plain": [
       "[7, 6, 5, 4, 3, 2, 1]"
      ]
     },
     "execution_count": 3,
     "metadata": {},
     "output_type": "execute_result"
    }
   ],
   "source": [
    "a = [1, 6, 4, 2, 5, 3, 7]\n",
    "quicksort2(a, lambda x, y: x > y)"
   ]
  },
  {
   "cell_type": "code",
   "execution_count": null,
   "metadata": {},
   "outputs": [],
   "source": []
  }
 ],
 "metadata": {
  "kernelspec": {
   "display_name": "Python 3",
   "language": "python",
   "name": "python3"
  },
  "language_info": {
   "codemirror_mode": {
    "name": "ipython",
    "version": 3
   },
   "file_extension": ".py",
   "mimetype": "text/x-python",
   "name": "python",
   "nbconvert_exporter": "python",
   "pygments_lexer": "ipython3",
   "version": "3.7.3"
  }
 },
 "nbformat": 4,
 "nbformat_minor": 2
}
