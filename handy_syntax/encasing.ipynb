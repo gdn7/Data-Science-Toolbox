{
 "cells": [
  {
   "cell_type": "code",
   "execution_count": 1,
   "metadata": {},
   "outputs": [
    {
     "name": "stdout",
     "output_type": "stream",
     "text": [
      "7\n",
      "11\n"
     ]
    }
   ],
   "source": [
    "def a(x):\n",
    "    def b(y):\n",
    "        \"\"\"\n",
    "        The body of b can access both local variables, \n",
    "        such as y, and variables that are local to \n",
    "        surrounding functions, such as the variable x.\n",
    "        \"\"\"\n",
    "        print(x + y)\n",
    "    y = 11\n",
    "    b(3)\n",
    "    print(y) # note that y is unchanged\n",
    "    \n",
    "a(4)"
   ]
  }
 ],
 "metadata": {
  "kernelspec": {
   "display_name": "Python 3",
   "language": "python",
   "name": "python3"
  },
  "language_info": {
   "codemirror_mode": {
    "name": "ipython",
    "version": 3
   },
   "file_extension": ".py",
   "mimetype": "text/x-python",
   "name": "python",
   "nbconvert_exporter": "python",
   "pygments_lexer": "ipython3",
   "version": "3.7.3"
  }
 },
 "nbformat": 4,
 "nbformat_minor": 2
}
