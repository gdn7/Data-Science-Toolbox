{
 "cells": [
  {
   "cell_type": "code",
   "execution_count": null,
   "metadata": {},
   "outputs": [],
   "source": [
    "import os\n",
    "import time\n",
    "from datetime import datetime"
   ]
  },
  {
   "cell_type": "code",
   "execution_count": null,
   "metadata": {},
   "outputs": [],
   "source": [
    "root_logdir = \"outputs\"\n",
    "if not os.path.exists(root_logdir):\n",
    "    os.makedirs(root_logdir)\n",
    "\n",
    "# create a unique directory for each run\n",
    "now = datetime.utcnow().strftime(\"%Y%m%d%H%M%S\")\n",
    "logdir = \"%s/run_%s\"%(root_logdir, now)\n",
    "os.makedirs(logdir)"
   ]
  },
  {
   "cell_type": "markdown",
   "metadata": {},
   "source": [
    "### Log Text File\n",
    "#### Log Setup"
   ]
  },
  {
   "cell_type": "code",
   "execution_count": null,
   "metadata": {},
   "outputs": [],
   "source": [
    "fname = os.path.join(logdir, \"log.txt\")\n",
    "print(\"txt file:\", fname)"
   ]
  },
  {
   "cell_type": "markdown",
   "metadata": {},
   "source": [
    "#### Test Run"
   ]
  },
  {
   "cell_type": "code",
   "execution_count": null,
   "metadata": {},
   "outputs": [],
   "source": [
    "def log_message(message, fname, printing=False):\n",
    "    if printing: print(message)\n",
    "        \n",
    "    # use 'a' mode, create file if not exists\n",
    "    with open(fname,\"a\") as file:\n",
    "        file.write(\"%s\\n\"%message)"
   ]
  },
  {
   "cell_type": "code",
   "execution_count": null,
   "metadata": {},
   "outputs": [],
   "source": [
    "for i in range(4):\n",
    "    # do something\n",
    "    time.sleep(0.5)\n",
    "    \n",
    "    # log\n",
    "    message = \"iter %i: %s\"%(i, datetime.utcnow().strftime(\"%Y%m%d%H%M%S\"))\n",
    "    log_message(message, fname, printing=True)"
   ]
  },
  {
   "cell_type": "code",
   "execution_count": null,
   "metadata": {},
   "outputs": [],
   "source": [
    "import sys\n",
    "\n",
    "sys.stdout = open(fname,\"a\")\n",
    "print(\"this is a log message\")"
   ]
  },
  {
   "cell_type": "code",
   "execution_count": null,
   "metadata": {},
   "outputs": [],
   "source": [
    "sys.stdout.close()"
   ]
  },
  {
   "cell_type": "markdown",
   "metadata": {},
   "source": [
    "### Log CSV"
   ]
  },
  {
   "cell_type": "code",
   "execution_count": null,
   "metadata": {},
   "outputs": [],
   "source": [
    "import csv\n",
    "\n",
    "fname = os.path.join(logdir, \"log.csv\")\n",
    "print(\"csv file:\", fname)"
   ]
  },
  {
   "cell_type": "markdown",
   "metadata": {},
   "source": [
    "#### refer to connection as variable\n",
    "```python\n",
    "connection = open(fname, 'w')\n",
    "writer = csv.writer(connection)\n",
    "\n",
    "# Write the headers to the file\n",
    "writer.writerow(['iter', 'time'])\n",
    "connection.close()\n",
    "```\n",
    "\n",
    "#### close automatically \n",
    "```python\n",
    "with open(fname, 'w') as connection:\n",
    "    writer = csv.writer(connection)\n",
    "\n",
    "    # Write the headers to the file\n",
    "    writer.writerow(['iter', 'time'])\n",
    "```"
   ]
  },
  {
   "cell_type": "code",
   "execution_count": null,
   "metadata": {},
   "outputs": [],
   "source": [
    "def log_csv(arr, fname, printing=False):\n",
    "    if printing: print(arr)\n",
    "        \n",
    "    with open(fname, 'a') as connection:\n",
    "        writer = csv.writer(connection)\n",
    "\n",
    "        # Write the headers to the file\n",
    "        writer.writerow(arr)"
   ]
  },
  {
   "cell_type": "code",
   "execution_count": null,
   "metadata": {},
   "outputs": [],
   "source": [
    "# write header\n",
    "log_csv(['iter', 'time'], fname)\n",
    "\n",
    "for i in range(4):\n",
    "    # do something\n",
    "    time.sleep(0.5)\n",
    "    \n",
    "    arr = [i, datetime.utcnow().strftime(\"%Y%m%d%H%M%S\")]\n",
    "    log_csv(arr, fname)"
   ]
  },
  {
   "cell_type": "code",
   "execution_count": null,
   "metadata": {},
   "outputs": [],
   "source": [
    "import pandas as pd\n",
    "\n",
    "pd.read_csv(fname, index_col=\"iter\")"
   ]
  },
  {
   "cell_type": "code",
   "execution_count": null,
   "metadata": {},
   "outputs": [],
   "source": []
  }
 ],
 "metadata": {
  "kernelspec": {
   "display_name": "Python 3",
   "language": "python",
   "name": "python3"
  },
  "language_info": {
   "codemirror_mode": {
    "name": "ipython",
    "version": 3
   },
   "file_extension": ".py",
   "mimetype": "text/x-python",
   "name": "python",
   "nbconvert_exporter": "python",
   "pygments_lexer": "ipython3",
   "version": "3.7.3"
  }
 },
 "nbformat": 4,
 "nbformat_minor": 2
}
