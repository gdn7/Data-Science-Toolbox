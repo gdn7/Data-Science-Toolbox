{
 "cells": [
  {
   "cell_type": "code",
   "execution_count": 1,
   "metadata": {},
   "outputs": [],
   "source": [
    "import os\n",
    "import time\n",
    "from datetime import datetime"
   ]
  },
  {
   "cell_type": "code",
   "execution_count": 2,
   "metadata": {},
   "outputs": [],
   "source": [
    "root_logdir = \"outputs\"\n",
    "if not os.path.exists(root_logdir):\n",
    "    os.makedirs(root_logdir)\n",
    "\n",
    "# create a unique directory for each run\n",
    "now = datetime.utcnow().strftime(\"%Y%m%d%H%M%S\")\n",
    "logdir = \"%s/run_%s\"%(root_logdir, now)\n",
    "os.makedirs(logdir)"
   ]
  },
  {
   "cell_type": "markdown",
   "metadata": {},
   "source": [
    "### Log Text File\n",
    "#### Log Setup"
   ]
  },
  {
   "cell_type": "code",
   "execution_count": 3,
   "metadata": {},
   "outputs": [
    {
     "name": "stdout",
     "output_type": "stream",
     "text": [
      "txt file: outputs/run_20190422215354/log.txt\n"
     ]
    }
   ],
   "source": [
    "fname = os.path.join(logdir, \"log.txt\")\n",
    "print(\"txt file:\", fname)"
   ]
  },
  {
   "cell_type": "markdown",
   "metadata": {},
   "source": [
    "#### Test Run"
   ]
  },
  {
   "cell_type": "code",
   "execution_count": 4,
   "metadata": {},
   "outputs": [],
   "source": [
    "def log_message(message, fname, printing=False):\n",
    "    if printing: print(message)\n",
    "        \n",
    "    # use 'a' mode, create file if not exists\n",
    "    with open(fname,\"a\") as file:\n",
    "        file.write(\"%s\\n\"%message)"
   ]
  },
  {
   "cell_type": "code",
   "execution_count": 5,
   "metadata": {},
   "outputs": [
    {
     "name": "stdout",
     "output_type": "stream",
     "text": [
      "iter 0: 20190422215354\n",
      "iter 1: 20190422215355\n",
      "iter 2: 20190422215355\n",
      "iter 3: 20190422215356\n"
     ]
    }
   ],
   "source": [
    "for i in range(4):\n",
    "    # do something\n",
    "    time.sleep(0.5)\n",
    "    \n",
    "    # log\n",
    "    message = \"iter %i: %s\"%(i, datetime.utcnow().strftime(\"%Y%m%d%H%M%S\"))\n",
    "    log_message(message, fname, printing=True)"
   ]
  },
  {
   "cell_type": "markdown",
   "metadata": {},
   "source": [
    "### Log CSV"
   ]
  },
  {
   "cell_type": "code",
   "execution_count": 6,
   "metadata": {},
   "outputs": [
    {
     "name": "stdout",
     "output_type": "stream",
     "text": [
      "csv file: outputs/run_20190422215354/log.csv\n"
     ]
    }
   ],
   "source": [
    "import csv\n",
    "\n",
    "fname = os.path.join(logdir, \"log.csv\")\n",
    "print(\"csv file:\", fname)"
   ]
  },
  {
   "cell_type": "markdown",
   "metadata": {},
   "source": [
    "#### refer to connection as variable\n",
    "```python\n",
    "connection = open(fname, 'w')\n",
    "writer = csv.writer(connection)\n",
    "\n",
    "# Write the headers to the file\n",
    "writer.writerow(['iter', 'time'])\n",
    "connection.close()\n",
    "```\n",
    "\n",
    "#### close automatically \n",
    "```python\n",
    "with open(fname, 'w') as connection:\n",
    "    writer = csv.writer(connection)\n",
    "\n",
    "    # Write the headers to the file\n",
    "    writer.writerow(['iter', 'time'])\n",
    "```"
   ]
  },
  {
   "cell_type": "code",
   "execution_count": 7,
   "metadata": {},
   "outputs": [],
   "source": [
    "def log_csv(arr, fname, printing=False):\n",
    "    if printing: print(arr)\n",
    "        \n",
    "    with open(fname, 'a') as connection:\n",
    "        writer = csv.writer(connection)\n",
    "\n",
    "        # Write the headers to the file\n",
    "        writer.writerow(arr)"
   ]
  },
  {
   "cell_type": "code",
   "execution_count": 8,
   "metadata": {},
   "outputs": [],
   "source": [
    "# write header\n",
    "log_csv(['iter', 'time'], fname)\n",
    "\n",
    "for i in range(4):\n",
    "    # do something\n",
    "    time.sleep(0.5)\n",
    "    \n",
    "    arr = [i, datetime.utcnow().strftime(\"%Y%m%d%H%M%S\")]\n",
    "    log_csv(arr, fname)"
   ]
  },
  {
   "cell_type": "code",
   "execution_count": 9,
   "metadata": {},
   "outputs": [
    {
     "data": {
      "text/html": [
       "<div>\n",
       "<style scoped>\n",
       "    .dataframe tbody tr th:only-of-type {\n",
       "        vertical-align: middle;\n",
       "    }\n",
       "\n",
       "    .dataframe tbody tr th {\n",
       "        vertical-align: top;\n",
       "    }\n",
       "\n",
       "    .dataframe thead th {\n",
       "        text-align: right;\n",
       "    }\n",
       "</style>\n",
       "<table border=\"1\" class=\"dataframe\">\n",
       "  <thead>\n",
       "    <tr style=\"text-align: right;\">\n",
       "      <th></th>\n",
       "      <th>time</th>\n",
       "    </tr>\n",
       "    <tr>\n",
       "      <th>iter</th>\n",
       "      <th></th>\n",
       "    </tr>\n",
       "  </thead>\n",
       "  <tbody>\n",
       "    <tr>\n",
       "      <th>0</th>\n",
       "      <td>20190422215356</td>\n",
       "    </tr>\n",
       "    <tr>\n",
       "      <th>1</th>\n",
       "      <td>20190422215357</td>\n",
       "    </tr>\n",
       "    <tr>\n",
       "      <th>2</th>\n",
       "      <td>20190422215357</td>\n",
       "    </tr>\n",
       "    <tr>\n",
       "      <th>3</th>\n",
       "      <td>20190422215358</td>\n",
       "    </tr>\n",
       "  </tbody>\n",
       "</table>\n",
       "</div>"
      ],
      "text/plain": [
       "                time\n",
       "iter                \n",
       "0     20190422215356\n",
       "1     20190422215357\n",
       "2     20190422215357\n",
       "3     20190422215358"
      ]
     },
     "execution_count": 9,
     "metadata": {},
     "output_type": "execute_result"
    }
   ],
   "source": [
    "import pandas as pd\n",
    "\n",
    "pd.read_csv(fname, index_col=\"iter\")"
   ]
  }
 ],
 "metadata": {
  "kernelspec": {
   "display_name": "Python 3",
   "language": "python",
   "name": "python3"
  },
  "language_info": {
   "codemirror_mode": {
    "name": "ipython",
    "version": 3
   },
   "file_extension": ".py",
   "mimetype": "text/x-python",
   "name": "python",
   "nbconvert_exporter": "python",
   "pygments_lexer": "ipython3",
   "version": "3.7.3"
  }
 },
 "nbformat": 4,
 "nbformat_minor": 2
}
