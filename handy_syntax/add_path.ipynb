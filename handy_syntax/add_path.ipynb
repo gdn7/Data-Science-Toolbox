{
 "cells": [
  {
   "cell_type": "code",
   "execution_count": 1,
   "metadata": {},
   "outputs": [],
   "source": [
    "import sys\n",
    "myFolder='/Users/shawlu/Documents/TDAmeritrade'\n",
    "if myFolder not in sys.path:\n",
    "    sys.path.append(myFolder)"
   ]
  },
  {
   "cell_type": "code",
   "execution_count": 2,
   "metadata": {},
   "outputs": [
    {
     "name": "stdout",
     "output_type": "stream",
     "text": [
      "['/Users/shawlu', '/Users/shawlu/Documents/anaconda3/envs/analytics/lib/python37.zip', '/Users/shawlu/Documents/anaconda3/envs/analytics/lib/python3.7', '/Users/shawlu/Documents/anaconda3/envs/analytics/lib/python3.7/lib-dynload', '', '/Users/shawlu/Documents/anaconda3/envs/analytics/lib/python3.7/site-packages', '/Users/shawlu/Documents/anaconda3/envs/analytics/lib/python3.7/site-packages/IPython/extensions', '/Users/shawlu/.ipython', '/Users/shawlu/Documents/TDAmeritrade']\n"
     ]
    }
   ],
   "source": [
    "print(sys.path)"
   ]
  },
  {
   "cell_type": "code",
   "execution_count": 3,
   "metadata": {},
   "outputs": [],
   "source": [
    "from util.config import CONSUMER_ID"
   ]
  },
  {
   "cell_type": "code",
   "execution_count": 4,
   "metadata": {},
   "outputs": [
    {
     "data": {
      "text/plain": [
       "'TJNP5ILQVMEUFNSGQMED0ANC7L7QUKFN'"
      ]
     },
     "execution_count": 4,
     "metadata": {},
     "output_type": "execute_result"
    }
   ],
   "source": [
    "CONSUMER_ID"
   ]
  }
 ],
 "metadata": {
  "kernelspec": {
   "display_name": "Python 3",
   "language": "python",
   "name": "python3"
  },
  "language_info": {
   "codemirror_mode": {
    "name": "ipython",
    "version": 3
   },
   "file_extension": ".py",
   "mimetype": "text/x-python",
   "name": "python",
   "nbconvert_exporter": "python",
   "pygments_lexer": "ipython3",
   "version": "3.7.0"
  }
 },
 "nbformat": 4,
 "nbformat_minor": 2
}
