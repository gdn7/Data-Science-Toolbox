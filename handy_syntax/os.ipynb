{
 "cells": [
  {
   "cell_type": "markdown",
   "metadata": {},
   "source": [
    "#### List Everything"
   ]
  },
  {
   "cell_type": "code",
   "execution_count": 1,
   "metadata": {},
   "outputs": [
    {
     "data": {
      "text/plain": [
       "['error_handling.ipynb',\n",
       " '%lsmagic.ipynb',\n",
       " 'audio.ipynb',\n",
       " 'javascript.ipynb',\n",
       " 'video.ipynb',\n",
       " 'profiling.ipynb',\n",
       " '.ds_store',\n",
       " 'sys_out_flush.py',\n",
       " 'ruby.ipynb',\n",
       " 'print_log.py',\n",
       " 'credentials.py',\n",
       " 'passing_data_export.ipynb',\n",
       " '%run.ipynb',\n",
       " 'file.ipynb',\n",
       " 'time_cell.ipynb',\n",
       " 'external_site.ipynb',\n",
       " 'os.ipynb',\n",
       " 'map_reduce_filter.ipynb',\n",
       " 'question_mark.ipynb',\n",
       " 'file.py.ipynb',\n",
       " 'suppress.ipynb',\n",
       " 'zenofpython.py',\n",
       " 'regression_macro.ipynb',\n",
       " 'range.ipynb',\n",
       " 'python_list.ipynb',\n",
       " 'html.ipynb',\n",
       " 'bash.ipynb',\n",
       " '.ipynb_checkpoints',\n",
       " 'parsing_fnames.py',\n",
       " '%load.ipynb',\n",
       " 'passing_args.py',\n",
       " '%env.ipynb',\n",
       " 'capture.ipynb',\n",
       " 'outputs',\n",
       " 'unicode.ipynb',\n",
       " 'ignore_warning.ipynb',\n",
       " 'log.ipynb',\n",
       " 'inputs',\n",
       " 'passing_data_import.ipynb',\n",
       " 'twilio_sms.ipynb']"
      ]
     },
     "execution_count": 1,
     "metadata": {},
     "output_type": "execute_result"
    }
   ],
   "source": [
    "import os\n",
    "os.listdir(\".\")"
   ]
  },
  {
   "cell_type": "markdown",
   "metadata": {},
   "source": [
    "#### Rename"
   ]
  },
  {
   "cell_type": "code",
   "execution_count": 2,
   "metadata": {},
   "outputs": [],
   "source": [
    "for fname in os.listdir(\".\"):\n",
    "    tmp = fname.replace(\" \", \"_\").lower()\n",
    "    if tmp != fname:\n",
    "        print(\"%s \\t -> %s\"%(fname, tmp))\n",
    "        \n",
    "        # danger: rename files:\n",
    "        # os.rename(fname, tmp)"
   ]
  },
  {
   "cell_type": "markdown",
   "metadata": {},
   "source": [
    "#### List Directories and Files Separately"
   ]
  },
  {
   "cell_type": "code",
   "execution_count": 3,
   "metadata": {},
   "outputs": [
    {
     "name": "stdout",
     "output_type": "stream",
     "text": [
      ".\n",
      "['.ipynb_checkpoints', 'outputs', 'inputs']\n",
      "['error_handling.ipynb', '%lsmagic.ipynb', 'audio.ipynb', 'javascript.ipynb', 'video.ipynb', 'profiling.ipynb', '.ds_store', 'sys_out_flush.py', 'ruby.ipynb', 'print_log.py', 'credentials.py', 'passing_data_export.ipynb', '%run.ipynb', 'file.ipynb', 'time_cell.ipynb', 'external_site.ipynb', 'os.ipynb', 'map_reduce_filter.ipynb', 'question_mark.ipynb', 'file.py.ipynb', 'suppress.ipynb', 'zenofpython.py', 'regression_macro.ipynb', 'range.ipynb', 'python_list.ipynb', 'html.ipynb', 'bash.ipynb', 'parsing_fnames.py', '%load.ipynb', 'passing_args.py', '%env.ipynb', 'capture.ipynb', 'unicode.ipynb', 'ignore_warning.ipynb', 'log.ipynb', 'passing_data_import.ipynb', 'twilio_sms.ipynb']\n"
     ]
    }
   ],
   "source": [
    "from os import walk\n",
    "\n",
    "f = []\n",
    "for (dirpath, dirnames, filenames) in walk(\".\"):\n",
    "    f.extend(filenames)\n",
    "    break\n",
    "print(dirpath)\n",
    "print(dirnames)\n",
    "print(filenames)"
   ]
  },
  {
   "cell_type": "markdown",
   "metadata": {},
   "source": [
    "#### Get Files Only"
   ]
  },
  {
   "cell_type": "code",
   "execution_count": 4,
   "metadata": {},
   "outputs": [
    {
     "data": {
      "text/plain": [
       "['error_handling.ipynb',\n",
       " '%lsmagic.ipynb',\n",
       " 'audio.ipynb',\n",
       " 'javascript.ipynb',\n",
       " 'video.ipynb',\n",
       " 'profiling.ipynb',\n",
       " '.ds_store',\n",
       " 'sys_out_flush.py',\n",
       " 'ruby.ipynb',\n",
       " 'print_log.py',\n",
       " 'credentials.py',\n",
       " 'passing_data_export.ipynb',\n",
       " '%run.ipynb',\n",
       " 'file.ipynb',\n",
       " 'time_cell.ipynb',\n",
       " 'external_site.ipynb',\n",
       " 'os.ipynb',\n",
       " 'map_reduce_filter.ipynb',\n",
       " 'question_mark.ipynb',\n",
       " 'file.py.ipynb',\n",
       " 'suppress.ipynb',\n",
       " 'zenofpython.py',\n",
       " 'regression_macro.ipynb',\n",
       " 'range.ipynb',\n",
       " 'python_list.ipynb',\n",
       " 'html.ipynb',\n",
       " 'bash.ipynb',\n",
       " 'parsing_fnames.py',\n",
       " '%load.ipynb',\n",
       " 'passing_args.py',\n",
       " '%env.ipynb',\n",
       " 'capture.ipynb',\n",
       " 'unicode.ipynb',\n",
       " 'ignore_warning.ipynb',\n",
       " 'log.ipynb',\n",
       " 'passing_data_import.ipynb',\n",
       " 'twilio_sms.ipynb']"
      ]
     },
     "execution_count": 4,
     "metadata": {},
     "output_type": "execute_result"
    }
   ],
   "source": [
    "from os import listdir\n",
    "from os.path import isfile, join\n",
    "onlyfiles = [f for f in listdir(\".\") if isfile(join(\".\", f))]\n",
    "onlyfiles"
   ]
  },
  {
   "cell_type": "code",
   "execution_count": null,
   "metadata": {},
   "outputs": [],
   "source": []
  }
 ],
 "metadata": {
  "kernelspec": {
   "display_name": "Python 3",
   "language": "python",
   "name": "python3"
  },
  "language_info": {
   "codemirror_mode": {
    "name": "ipython",
    "version": 3
   },
   "file_extension": ".py",
   "mimetype": "text/x-python",
   "name": "python",
   "nbconvert_exporter": "python",
   "pygments_lexer": "ipython3",
   "version": "3.7.3"
  }
 },
 "nbformat": 4,
 "nbformat_minor": 2
}
