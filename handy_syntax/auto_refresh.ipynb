{
 "cells": [
  {
   "cell_type": "code",
   "execution_count": 1,
   "metadata": {},
   "outputs": [],
   "source": [
    "import threading \n",
    "import time"
   ]
  },
  {
   "cell_type": "code",
   "execution_count": 2,
   "metadata": {},
   "outputs": [],
   "source": [
    "# simplest use case of threading\n",
    "def refresh(): \n",
    "    print(\"refresh\") \n",
    "\n",
    "timer = threading.Timer(5.0, refresh)\n",
    "timer.start() "
   ]
  },
  {
   "cell_type": "code",
   "execution_count": 3,
   "metadata": {},
   "outputs": [],
   "source": [
    "class Connection():\n",
    "    def __init__(self):\n",
    "        self.refreshCount = 0\n",
    "        self._tokens = None\n",
    "        \n",
    "    def connect(self):\n",
    "        self.refreshCount += 1\n",
    "        print(\"connect to server %i\"%self.refreshCount)\n",
    "        \n",
    "        # get access tokens\n",
    "        self._tokens = 'Good'\n",
    "        self.interval = 5\n",
    "        \n",
    "        # set a timer to destroy tokens\n",
    "        timer = threading.Timer(self.interval, self.resetTokens)\n",
    "        timer.start()\n",
    "    \n",
    "    def resetTokens(self):\n",
    "        self._tokens = None\n",
    "        \n",
    "    # if tokens is gone, relogin to get tokens\n",
    "    @property\n",
    "    def tokens(self):\n",
    "        if self._tokens is None:\n",
    "            print(\"login\")\n",
    "            self.connect()\n",
    "        return self._tokens\n",
    "    \n",
    "    # destroy tokens when expires\n",
    "    @tokens.deleter\n",
    "    def tokens(self):\n",
    "        print('reset tokens')\n",
    "        self._tokens = None\n",
    "    \n",
    "conn = Connection()"
   ]
  },
  {
   "cell_type": "code",
   "execution_count": 4,
   "metadata": {},
   "outputs": [
    {
     "name": "stdout",
     "output_type": "stream",
     "text": [
      "login\n",
      "connect to server 1\n",
      "Good\n",
      "Good\n",
      "Good\n",
      "Good\n",
      "Good\n",
      "refresh\n",
      "login\n",
      "connect to server 2\n",
      "Good\n",
      "Good\n"
     ]
    }
   ],
   "source": [
    "for i in range(7):\n",
    "    print(conn.tokens)\n",
    "    time.sleep(1)"
   ]
  },
  {
   "cell_type": "code",
   "execution_count": null,
   "metadata": {},
   "outputs": [],
   "source": []
  }
 ],
 "metadata": {
  "kernelspec": {
   "display_name": "Python 3",
   "language": "python",
   "name": "python3"
  },
  "language_info": {
   "codemirror_mode": {
    "name": "ipython",
    "version": 3
   },
   "file_extension": ".py",
   "mimetype": "text/x-python",
   "name": "python",
   "nbconvert_exporter": "python",
   "pygments_lexer": "ipython3",
   "version": "3.7.0"
  }
 },
 "nbformat": 4,
 "nbformat_minor": 2
}
