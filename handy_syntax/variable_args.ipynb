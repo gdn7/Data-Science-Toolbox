{
 "cells": [
  {
   "cell_type": "code",
   "execution_count": 1,
   "metadata": {},
   "outputs": [
    {
     "name": "stdout",
     "output_type": "stream",
     "text": [
      "one ('two', 'three')\n",
      "two\n",
      "three\n"
     ]
    }
   ],
   "source": [
    "def many(name, *values): \n",
    "    print(name, values)\n",
    "    \n",
    "    for a in values:\n",
    "        print(a)\n",
    "    \n",
    "many(\"one\", \"two\", \"three\")"
   ]
  },
  {
   "cell_type": "code",
   "execution_count": 2,
   "metadata": {},
   "outputs": [
    {
     "name": "stdout",
     "output_type": "stream",
     "text": [
      "fname : shaw\n",
      "lname : lu\n"
     ]
    }
   ],
   "source": [
    "def echo(**args):\n",
    "    for e in args.keys(): \n",
    "        print (e,':',args[e])\n",
    "\n",
    "echo(fname=\"shaw\", lname=\"lu\")"
   ]
  },
  {
   "cell_type": "code",
   "execution_count": 3,
   "metadata": {},
   "outputs": [
    {
     "name": "stdout",
     "output_type": "stream",
     "text": [
      "john 1\n",
      "()\n",
      "{}\n"
     ]
    }
   ],
   "source": [
    "def silly(name, number, *vargs, **kargs): \n",
    "    print(name, number)\n",
    "    print(vargs)\n",
    "    print(kargs)\n",
    "    \n",
    "silly(name=\"john\", number=1)"
   ]
  },
  {
   "cell_type": "code",
   "execution_count": 4,
   "metadata": {},
   "outputs": [
    {
     "name": "stdout",
     "output_type": "stream",
     "text": [
      "john 1\n",
      "(3.14, 42)\n",
      "{'x': 32, 'z': 'z'}\n"
     ]
    }
   ],
   "source": [
    "silly(\"john\", 1, 3.14, 42, x=32, z='z')"
   ]
  }
 ],
 "metadata": {
  "kernelspec": {
   "display_name": "Python 3",
   "language": "python",
   "name": "python3"
  },
  "language_info": {
   "codemirror_mode": {
    "name": "ipython",
    "version": 3
   },
   "file_extension": ".py",
   "mimetype": "text/x-python",
   "name": "python",
   "nbconvert_exporter": "python",
   "pygments_lexer": "ipython3",
   "version": "3.7.3"
  }
 },
 "nbformat": 4,
 "nbformat_minor": 2
}
