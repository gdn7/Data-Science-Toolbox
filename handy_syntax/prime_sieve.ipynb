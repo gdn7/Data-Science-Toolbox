{
 "cells": [
  {
   "cell_type": "markdown",
   "metadata": {},
   "source": [
    "#### Sieve\n",
    "* To form a sieve, you remove the first element, then strike out multiples of the element, and recursively invoke sieve on the remainder. \n",
    "* The first element, the one you earlier removed, is known to be prime. So you add that value to the result of the recursive call on sieve. \n",
    "* The expression a[0:1] returns a list containing the first element, as opposed to a[0], which would return the first element itself. Keeping the first element in list form allows the use of the + operator to append the two lists."
   ]
  },
  {
   "cell_type": "code",
   "execution_count": 1,
   "metadata": {},
   "outputs": [],
   "source": [
    "def sieve(a):\n",
    "    if a: # that is, if a is non-empty\n",
    "        return a[0:1]+sieve(list(filter(lambda x: x % a[0] != 0, a[1:])))\n",
    "    else:\n",
    "        return [ ]"
   ]
  },
  {
   "cell_type": "code",
   "execution_count": 2,
   "metadata": {},
   "outputs": [],
   "source": [
    "sieve(list(range(2, 100)))"
   ]
  },
  {
   "cell_type": "code",
   "execution_count": null,
   "metadata": {},
   "outputs": [],
   "source": []
  }
 ],
 "metadata": {
  "kernelspec": {
   "display_name": "Python 3",
   "language": "python",
   "name": "python3"
  },
  "language_info": {
   "codemirror_mode": {
    "name": "ipython",
    "version": 3
   },
   "file_extension": ".py",
   "mimetype": "text/x-python",
   "name": "python",
   "nbconvert_exporter": "python",
   "pygments_lexer": "ipython3",
   "version": "3.7.3"
  }
 },
 "nbformat": 4,
 "nbformat_minor": 2
}
