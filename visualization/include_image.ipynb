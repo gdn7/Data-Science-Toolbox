{
 "cells": [
  {
   "cell_type": "markdown",
   "metadata": {},
   "source": [
    "#### Original Size\n",
    "```\n",
    "![alt-text](outputs/line.gif)\n",
    "```"
   ]
  },
  {
   "cell_type": "markdown",
   "metadata": {},
   "source": [
    "![alt-text](outputs/line.gif)"
   ]
  },
  {
   "cell_type": "markdown",
   "metadata": {},
   "source": [
    "#### Specific Size\n",
    "```html\n",
    "<img src=\"images/rnn/1.png\" alt=\"Drawing\" style=\"width: 500px;\"/>\n",
    "```"
   ]
  },
  {
   "cell_type": "markdown",
   "metadata": {},
   "source": [
    "<img src=\"outputs/line.gif\" alt=\"Drawing\" style=\"width: 250px;\"/>\n",
    "<img src=\"outputs/line.gif\" alt=\"Drawing\" style=\"width: 250px;\"/>"
   ]
  },
  {
   "cell_type": "markdown",
   "metadata": {},
   "source": [
    "#### Multiple Images\n",
    "\n",
    "```html\n",
    "<p align=\"center\">\n",
    "   <img src=\"outputs/line.gif\" width=\"250\">\n",
    "   <img src=\"outputs/line.gif\" width=\"250\">\n",
    "</p>\n",
    "```\n",
    "\n",
    "<p align=\"center\">\n",
    "   <img src=\"outputs/line.gif\" width=\"250\">\n",
    "   <img src=\"outputs/line.gif\" width=\"250\">\n",
    "</p>"
   ]
  }
 ],
 "metadata": {
  "kernelspec": {
   "display_name": "Python 3",
   "language": "python",
   "name": "python3"
  },
  "language_info": {
   "codemirror_mode": {
    "name": "ipython",
    "version": 3
   },
   "file_extension": ".py",
   "mimetype": "text/x-python",
   "name": "python",
   "nbconvert_exporter": "python",
   "pygments_lexer": "ipython3",
   "version": "3.7.3"
  }
 },
 "nbformat": 4,
 "nbformat_minor": 2
}
