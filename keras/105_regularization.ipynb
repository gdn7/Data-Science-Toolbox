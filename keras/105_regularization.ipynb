{
 "cells": [
  {
   "cell_type": "markdown",
   "metadata": {
    "colab_type": "text",
    "id": "C9HmC2T4ld5B"
   },
   "source": [
    "### Explore overfitting and underfitting"
   ]
  },
  {
   "cell_type": "markdown",
   "metadata": {
    "colab_type": "text",
    "id": "kRTxFhXAlnl1"
   },
   "source": [
    "<table class=\"tfo-notebook-buttons\" align=\"left\">\n",
    "  <td>\n",
    "    <a target=\"_blank\" href=\"https://www.tensorflow.org/tutorials/keras/overfit_and_underfit\"><img src=\"https://www.tensorflow.org/images/tf_logo_32px.png\" />View on TensorFlow.org</a>\n",
    "  </td>\n",
    "  <td>\n",
    "    <a target=\"_blank\" href=\"https://colab.research.google.com/github/tensorflow/docs/blob/master/site/en/tutorials/keras/overfit_and_underfit.ipynb\"><img src=\"https://www.tensorflow.org/images/colab_logo_32px.png\" />Run in Google Colab</a>\n",
    "  </td>\n",
    "  <td>\n",
    "    <a target=\"_blank\" href=\"https://github.com/tensorflow/docs/blob/master/site/en/tutorials/keras/overfit_and_underfit.ipynb\"><img src=\"https://www.tensorflow.org/images/GitHub-Mark-32px.png\" />View source on GitHub</a>\n",
    "  </td>\n",
    "</table>"
   ]
  },
  {
   "cell_type": "markdown",
   "metadata": {
    "colab_type": "text",
    "id": "19rPukKZsPG6"
   },
   "source": [
    "As always, the code in this example will use the `tf.keras` API, which you can learn more about in the TensorFlow [Keras guide](https://www.tensorflow.org/guide/keras).\n",
    "\n",
    "In both of the previous examples—classifying movie reviews, and predicting fuel efficiency—we saw that the accuracy of our model on the validation data would peak after training for a number of epochs, and would then start decreasing.\n",
    "\n",
    "In other words, our model would *overfit* to the training data. Learning how to deal with overfitting is important. Although it's often possible to achieve high accuracy on the *training set*, what we really want is to develop models that generalize well to a *testing data* (or data they haven't seen before).\n",
    "\n",
    "The opposite of overfitting is *underfitting*. Underfitting occurs when there is still room for improvement on the test data. This can happen for a number of reasons: If the model is not powerful enough, is over-regularized, or has simply not been trained long enough. This means the network has not learned the relevant patterns in the training data.\n",
    "\n",
    "If you train for too long though, the model will start to overfit and learn patterns from the training data that don't generalize to the test data. We need to strike a balance. Understanding how to train for an appropriate number of epochs as we'll explore below is a useful skill.\n",
    "\n",
    "To prevent overfitting, the best solution is to use more training data. A model trained on more data will naturally generalize better. When that is no longer possible, the next best solution is to use techniques like regularization. These place constraints on the quantity and type of information your model can store.  If a network can only afford to memorize a small number of patterns, the optimization process will force it to focus on the most prominent patterns, which have a better chance of generalizing well.\n",
    "\n",
    "In this notebook, we'll explore two common regularization techniques—weight regularization and dropout—and use them to improve our IMDB movie review classification notebook."
   ]
  },
  {
   "cell_type": "code",
   "execution_count": 1,
   "metadata": {
    "colab": {},
    "colab_type": "code",
    "id": "49PPQ0TbBX0v"
   },
   "outputs": [
    {
     "name": "stdout",
     "output_type": "stream",
     "text": [
      "Requirement already satisfied: tf_nightly in /Users/shawlu/anaconda3/envs/deep/lib/python3.7/site-packages (1.14.1.dev20190429)\n",
      "Requirement already satisfied: wrapt>=1.11.1 in /Users/shawlu/anaconda3/envs/deep/lib/python3.7/site-packages (from tf_nightly) (1.11.1)\n",
      "Requirement already satisfied: numpy<2.0,>=1.14.5 in /Users/shawlu/anaconda3/envs/deep/lib/python3.7/site-packages (from tf_nightly) (1.16.1)\n",
      "Requirement already satisfied: grpcio>=1.8.6 in /Users/shawlu/anaconda3/envs/deep/lib/python3.7/site-packages (from tf_nightly) (1.16.1)\n",
      "Requirement already satisfied: absl-py>=0.7.0 in /Users/shawlu/anaconda3/envs/deep/lib/python3.7/site-packages (from tf_nightly) (0.7.0)\n",
      "Requirement already satisfied: google-pasta>=0.1.2 in /Users/shawlu/anaconda3/envs/deep/lib/python3.7/site-packages (from tf_nightly) (0.1.5)\n",
      "Requirement already satisfied: keras-applications>=1.0.6 in /Users/shawlu/anaconda3/envs/deep/lib/python3.7/site-packages (from tf_nightly) (1.0.7)\n",
      "Requirement already satisfied: gast>=0.2.0 in /Users/shawlu/anaconda3/envs/deep/lib/python3.7/site-packages (from tf_nightly) (0.2.2)\n",
      "Requirement already satisfied: termcolor>=1.1.0 in /Users/shawlu/anaconda3/envs/deep/lib/python3.7/site-packages (from tf_nightly) (1.1.0)\n",
      "Requirement already satisfied: keras-preprocessing>=1.0.5 in /Users/shawlu/anaconda3/envs/deep/lib/python3.7/site-packages (from tf_nightly) (1.0.9)\n",
      "Requirement already satisfied: tb-nightly<1.15.0a0,>=1.14.0a0 in /Users/shawlu/anaconda3/envs/deep/lib/python3.7/site-packages (from tf_nightly) (1.14.0a20190429)\n",
      "Requirement already satisfied: wheel>=0.26 in /Users/shawlu/anaconda3/envs/deep/lib/python3.7/site-packages (from tf_nightly) (0.33.1)\n",
      "Requirement already satisfied: astor>=0.6.0 in /Users/shawlu/anaconda3/envs/deep/lib/python3.7/site-packages (from tf_nightly) (0.7.1)\n",
      "Requirement already satisfied: tf-estimator-nightly in /Users/shawlu/anaconda3/envs/deep/lib/python3.7/site-packages (from tf_nightly) (1.14.0.dev2019042901)\n",
      "Requirement already satisfied: protobuf>=3.6.1 in /Users/shawlu/anaconda3/envs/deep/lib/python3.7/site-packages (from tf_nightly) (3.6.1)\n",
      "Requirement already satisfied: six>=1.10.0 in /Users/shawlu/anaconda3/envs/deep/lib/python3.7/site-packages (from tf_nightly) (1.12.0)\n",
      "Requirement already satisfied: h5py in /Users/shawlu/anaconda3/envs/deep/lib/python3.7/site-packages (from keras-applications>=1.0.6->tf_nightly) (2.9.0)\n",
      "Requirement already satisfied: markdown>=2.6.8 in /Users/shawlu/anaconda3/envs/deep/lib/python3.7/site-packages (from tb-nightly<1.15.0a0,>=1.14.0a0->tf_nightly) (3.0.1)\n",
      "Requirement already satisfied: werkzeug>=0.11.15 in /Users/shawlu/anaconda3/envs/deep/lib/python3.7/site-packages (from tb-nightly<1.15.0a0,>=1.14.0a0->tf_nightly) (0.15.2)\n",
      "Requirement already satisfied: setuptools in /Users/shawlu/anaconda3/envs/deep/lib/python3.7/site-packages (from protobuf>=3.6.1->tf_nightly) (41.0.0)\n"
     ]
    }
   ],
   "source": [
    "# keras.datasets.imdb is broken in 1.13 and 1.14, by np 1.16.3\n",
    "!pip install tf_nightly"
   ]
  },
  {
   "cell_type": "code",
   "execution_count": 2,
   "metadata": {
    "colab": {},
    "colab_type": "code",
    "id": "5pZ8A2liqvgk"
   },
   "outputs": [
    {
     "name": "stdout",
     "output_type": "stream",
     "text": [
      "1.14.1-dev20190429\n"
     ]
    }
   ],
   "source": [
    "from __future__ import absolute_import, division, print_function, unicode_literals\n",
    "\n",
    "import tensorflow as tf\n",
    "from tensorflow import keras\n",
    "\n",
    "import numpy as np\n",
    "import matplotlib.pyplot as plt\n",
    "\n",
    "print(tf.__version__)"
   ]
  },
  {
   "cell_type": "markdown",
   "metadata": {
    "colab_type": "text",
    "id": "1cweoTiruj8O"
   },
   "source": [
    "### Download the IMDB dataset\n",
    "\n",
    "Rather than using an embedding as in the previous notebook, here we will multi-hot encode the sentences. This model will quickly overfit to the training set. It will be used to demonstrate when overfitting occurs, and how to fight it.\n",
    "\n",
    "Multi-hot-encoding our lists means turning them into vectors of 0s and 1s. Concretely, this would mean for instance turning the sequence  `[3, 5]` into a 10,000-dimensional vector that would be all-zeros except for indices 3 and 5, which would be ones."
   ]
  },
  {
   "cell_type": "code",
   "execution_count": 3,
   "metadata": {
    "colab": {},
    "colab_type": "code",
    "id": "QpzE4iqZtJly"
   },
   "outputs": [],
   "source": [
    "NUM_WORDS = 10000\n",
    "\n",
    "(train_data, train_labels), (test_data, test_labels) = keras.datasets.imdb.load_data(num_words=NUM_WORDS)\n",
    "\n",
    "def multi_hot_sequences(sequences, dimension):\n",
    "    # Create an all-zero matrix of shape (len(sequences), dimension)\n",
    "    results = np.zeros((len(sequences), dimension))\n",
    "    for i, word_indices in enumerate(sequences):\n",
    "        results[i, word_indices] = 1.0  # set specific indices of results[i] to 1s\n",
    "    return results\n",
    "\n",
    "\n",
    "train_data = multi_hot_sequences(train_data, dimension=NUM_WORDS)\n",
    "test_data = multi_hot_sequences(test_data, dimension=NUM_WORDS)"
   ]
  },
  {
   "cell_type": "markdown",
   "metadata": {
    "colab_type": "text",
    "id": "MzWVeXe3NBTn"
   },
   "source": [
    "Let's look at one of the resulting multi-hot vectors. The word indices are sorted by frequency, so it is expected that there are more 1-values near index zero, as we can see in this plot:"
   ]
  },
  {
   "cell_type": "code",
   "execution_count": 4,
   "metadata": {
    "colab": {},
    "colab_type": "code",
    "id": "71kr5rG4LkGM"
   },
   "outputs": [
    {
     "data": {
      "text/plain": [
       "[<matplotlib.lines.Line2D at 0xb31396358>]"
      ]
     },
     "execution_count": 4,
     "metadata": {},
     "output_type": "execute_result"
    },
    {
     "data": {
      "image/png": "[encoded data removed]",
      "text/plain": [
       "<Figure size 432x288 with 1 Axes>"
      ]
     },
     "metadata": {
      "needs_background": "light"
     },
     "output_type": "display_data"
    }
   ],
   "source": [
    "plt.plot(train_data[0])"
   ]
  },
  {
   "cell_type": "markdown",
   "metadata": {
    "colab_type": "text",
    "id": "lglk41MwvU5o"
   },
   "source": [
    "### Demonstrate overfitting\n",
    "\n",
    "The simplest way to prevent overfitting is to reduce the size of the model, i.e. the number of learnable parameters in the model (which is determined by the number of layers and the number of units per layer). In deep learning, the number of learnable parameters in a model is often referred to as the model's \"capacity\". Intuitively, a model with more parameters will have more \"memorization capacity\" and therefore will be able to easily learn a perfect dictionary-like mapping between training samples and their targets, a mapping without any generalization power, but this would be useless when making predictions on previously unseen data.\n",
    "\n",
    "Always keep this in mind: deep learning models tend to be good at fitting to the training data, but the real challenge is generalization, not fitting.\n",
    "\n",
    "On the other hand, if the network has limited memorization resources, it will not be able to learn the mapping as easily. To minimize its loss, it will have to learn compressed representations that have more predictive power. At the same time, if you make your model too small, it will have difficulty fitting to the training data. There is a balance between \"too much capacity\" and \"not enough capacity\".\n",
    "\n",
    "Unfortunately, there is no magical formula to determine the right size or architecture of your model (in terms of the number of layers, or the right size for each layer). You will have to experiment using a series of different architectures.\n",
    "\n",
    "To find an appropriate model size, it's best to start with relatively few layers and parameters, then begin increasing the size of the layers or adding new layers until you see diminishing returns on the validation loss. Let's try this on our movie review classification network.\n",
    "\n",
    "We'll create a simple model using only ```Dense``` layers as a baseline, then create smaller and larger versions, and compare them."
   ]
  },
  {
   "cell_type": "markdown",
   "metadata": {
    "colab_type": "text",
    "id": "_ReKHdC2EgVu"
   },
   "source": [
    "### Create a baseline model"
   ]
  },
  {
   "cell_type": "code",
   "execution_count": 5,
   "metadata": {
    "colab": {},
    "colab_type": "code",
    "id": "QKgdXPx9usBa"
   },
   "outputs": [
    {
     "name": "stderr",
     "output_type": "stream",
     "text": [
      "WARNING: Logging before flag parsing goes to stderr.\n",
      "W0429 23:38:18.297106 4573169088 deprecation.py:506] From /Users/shawlu/anaconda3/envs/deep/lib/python3.7/site-packages/tensorflow/python/ops/init_ops.py:1251: calling VarianceScaling.__init__ (from tensorflow.python.ops.init_ops) with dtype is deprecated and will be removed in a future version.\n",
      "Instructions for updating:\n",
      "Call initializer instance with the dtype argument instead of passing it to the constructor\n"
     ]
    },
    {
     "name": "stdout",
     "output_type": "stream",
     "text": [
      "Model: \"sequential\"\n",
      "_________________________________________________________________\n",
      "Layer (type)                 Output Shape              Param #   \n",
      "=================================================================\n",
      "dense (Dense)                (None, 16)                160016    \n",
      "_________________________________________________________________\n",
      "dense_1 (Dense)              (None, 16)                272       \n",
      "_________________________________________________________________\n",
      "dense_2 (Dense)              (None, 1)                 17        \n",
      "=================================================================\n",
      "Total params: 160,305\n",
      "Trainable params: 160,305\n",
      "Non-trainable params: 0\n",
      "_________________________________________________________________\n"
     ]
    }
   ],
   "source": [
    "baseline_model = keras.Sequential([\n",
    "    # `input_shape` is only required here so that `.summary` works.\n",
    "    keras.layers.Dense(16, activation=tf.nn.relu, input_shape=(NUM_WORDS,)),\n",
    "    keras.layers.Dense(16, activation=tf.nn.relu),\n",
    "    keras.layers.Dense(1, activation=tf.nn.sigmoid)\n",
    "])\n",
    "\n",
    "baseline_model.compile(optimizer='adam',\n",
    "                       loss='binary_crossentropy',\n",
    "                       metrics=['accuracy', 'binary_crossentropy'])\n",
    "\n",
    "baseline_model.summary()"
   ]
  },
  {
   "cell_type": "code",
   "execution_count": 6,
   "metadata": {
    "colab": {},
    "colab_type": "code",
    "id": "LqG3MXF5xSjR"
   },
   "outputs": [
    {
     "name": "stdout",
     "output_type": "stream",
     "text": [
      "Train on 25000 samples, validate on 25000 samples\n",
      "Epoch 1/20\n",
      "25000/25000 - 4s - loss: 0.5281 - acc: 0.8018 - binary_crossentropy: 0.5281 - val_loss: 0.3686 - val_acc: 0.8661 - val_binary_crossentropy: 0.3686\n",
      "Epoch 2/20\n",
      "25000/25000 - 3s - loss: 0.2712 - acc: 0.9040 - binary_crossentropy: 0.2712 - val_loss: 0.2882 - val_acc: 0.8861 - val_binary_crossentropy: 0.2882\n",
      "Epoch 3/20\n",
      "25000/25000 - 3s - loss: 0.1944 - acc: 0.9301 - binary_crossentropy: 0.1944 - val_loss: 0.2849 - val_acc: 0.8865 - val_binary_crossentropy: 0.2849\n",
      "Epoch 4/20\n",
      "25000/25000 - 3s - loss: 0.1568 - acc: 0.9444 - binary_crossentropy: 0.1568 - val_loss: 0.3035 - val_acc: 0.8814 - val_binary_crossentropy: 0.3035\n",
      "Epoch 5/20\n",
      "25000/25000 - 3s - loss: 0.1295 - acc: 0.9563 - binary_crossentropy: 0.1295 - val_loss: 0.3242 - val_acc: 0.8782 - val_binary_crossentropy: 0.3242\n",
      "Epoch 6/20\n",
      "25000/25000 - 3s - loss: 0.1094 - acc: 0.9652 - binary_crossentropy: 0.1094 - val_loss: 0.3540 - val_acc: 0.8740 - val_binary_crossentropy: 0.3540\n",
      "Epoch 7/20\n",
      "25000/25000 - 3s - loss: 0.0924 - acc: 0.9710 - binary_crossentropy: 0.0924 - val_loss: 0.3857 - val_acc: 0.8698 - val_binary_crossentropy: 0.3857\n",
      "Epoch 8/20\n",
      "25000/25000 - 3s - loss: 0.0793 - acc: 0.9770 - binary_crossentropy: 0.0793 - val_loss: 0.4219 - val_acc: 0.8668 - val_binary_crossentropy: 0.4219\n",
      "Epoch 9/20\n",
      "25000/25000 - 3s - loss: 0.0661 - acc: 0.9822 - binary_crossentropy: 0.0661 - val_loss: 0.4605 - val_acc: 0.8644 - val_binary_crossentropy: 0.4605\n",
      "Epoch 10/20\n",
      "25000/25000 - 3s - loss: 0.0575 - acc: 0.9859 - binary_crossentropy: 0.0575 - val_loss: 0.5015 - val_acc: 0.8611 - val_binary_crossentropy: 0.5015\n",
      "Epoch 11/20\n",
      "25000/25000 - 3s - loss: 0.0466 - acc: 0.9897 - binary_crossentropy: 0.0466 - val_loss: 0.5441 - val_acc: 0.8587 - val_binary_crossentropy: 0.5441\n",
      "Epoch 12/20\n",
      "25000/25000 - 3s - loss: 0.0383 - acc: 0.9924 - binary_crossentropy: 0.0383 - val_loss: 0.5930 - val_acc: 0.8562 - val_binary_crossentropy: 0.5930\n",
      "Epoch 13/20\n",
      "25000/25000 - 3s - loss: 0.0313 - acc: 0.9940 - binary_crossentropy: 0.0313 - val_loss: 0.6522 - val_acc: 0.8526 - val_binary_crossentropy: 0.6522\n",
      "Epoch 14/20\n",
      "25000/25000 - 3s - loss: 0.0243 - acc: 0.9962 - binary_crossentropy: 0.0243 - val_loss: 0.7069 - val_acc: 0.8509 - val_binary_crossentropy: 0.7069\n",
      "Epoch 15/20\n",
      "25000/25000 - 3s - loss: 0.0188 - acc: 0.9977 - binary_crossentropy: 0.0188 - val_loss: 0.7540 - val_acc: 0.8514 - val_binary_crossentropy: 0.7540\n",
      "Epoch 16/20\n",
      "25000/25000 - 3s - loss: 0.0144 - acc: 0.9989 - binary_crossentropy: 0.0144 - val_loss: 0.8113 - val_acc: 0.8490 - val_binary_crossentropy: 0.8113\n",
      "Epoch 17/20\n",
      "25000/25000 - 3s - loss: 0.0113 - acc: 0.9992 - binary_crossentropy: 0.0113 - val_loss: 0.8578 - val_acc: 0.8492 - val_binary_crossentropy: 0.8578\n",
      "Epoch 18/20\n",
      "25000/25000 - 3s - loss: 0.0086 - acc: 0.9996 - binary_crossentropy: 0.0086 - val_loss: 0.9030 - val_acc: 0.8486 - val_binary_crossentropy: 0.9030\n",
      "Epoch 19/20\n",
      "25000/25000 - 3s - loss: 0.0066 - acc: 0.9998 - binary_crossentropy: 0.0066 - val_loss: 0.9484 - val_acc: 0.8480 - val_binary_crossentropy: 0.9484\n",
      "Epoch 20/20\n",
      "25000/25000 - 3s - loss: 0.0053 - acc: 0.9999 - binary_crossentropy: 0.0053 - val_loss: 0.9880 - val_acc: 0.8480 - val_binary_crossentropy: 0.9880\n"
     ]
    }
   ],
   "source": [
    "baseline_history = baseline_model.fit(train_data,\n",
    "                                      train_labels,\n",
    "                                      epochs=20,\n",
    "                                      batch_size=512,\n",
    "                                      validation_data=(test_data, test_labels),\n",
    "                                      verbose=2)"
   ]
  },
  {
   "cell_type": "markdown",
   "metadata": {
    "colab_type": "text",
    "id": "L-DGRBbGxI6G"
   },
   "source": [
    "### Create a smaller model"
   ]
  },
  {
   "cell_type": "markdown",
   "metadata": {
    "colab_type": "text",
    "id": "SrfoVQheYSO5"
   },
   "source": [
    "Let's create a model with less hidden units to compare against the baseline model that we just created:"
   ]
  },
  {
   "cell_type": "code",
   "execution_count": 7,
   "metadata": {
    "colab": {},
    "colab_type": "code",
    "id": "jksi-XtaxDAh"
   },
   "outputs": [
    {
     "name": "stdout",
     "output_type": "stream",
     "text": [
      "Model: \"sequential_1\"\n",
      "_________________________________________________________________\n",
      "Layer (type)                 Output Shape              Param #   \n",
      "=================================================================\n",
      "dense_3 (Dense)              (None, 4)                 40004     \n",
      "_________________________________________________________________\n",
      "dense_4 (Dense)              (None, 4)                 20        \n",
      "_________________________________________________________________\n",
      "dense_5 (Dense)              (None, 1)                 5         \n",
      "=================================================================\n",
      "Total params: 40,029\n",
      "Trainable params: 40,029\n",
      "Non-trainable params: 0\n",
      "_________________________________________________________________\n"
     ]
    }
   ],
   "source": [
    "smaller_model = keras.Sequential([\n",
    "    keras.layers.Dense(4, activation=tf.nn.relu, input_shape=(NUM_WORDS,)),\n",
    "    keras.layers.Dense(4, activation=tf.nn.relu),\n",
    "    keras.layers.Dense(1, activation=tf.nn.sigmoid)\n",
    "])\n",
    "\n",
    "smaller_model.compile(optimizer='adam',\n",
    "                loss='binary_crossentropy',\n",
    "                metrics=['accuracy', 'binary_crossentropy'])\n",
    "\n",
    "smaller_model.summary()"
   ]
  },
  {
   "cell_type": "markdown",
   "metadata": {
    "colab_type": "text",
    "id": "jbngCZliYdma"
   },
   "source": [
    "And train the model using the same data:"
   ]
  },
  {
   "cell_type": "code",
   "execution_count": 8,
   "metadata": {
    "colab": {},
    "colab_type": "code",
    "id": "Ofn1AwDhx-Fe"
   },
   "outputs": [
    {
     "name": "stdout",
     "output_type": "stream",
     "text": [
      "Train on 25000 samples, validate on 25000 samples\n",
      "Epoch 1/20\n",
      "25000/25000 - 2s - loss: 0.5862 - acc: 0.7572 - binary_crossentropy: 0.5862 - val_loss: 0.4826 - val_acc: 0.8382 - val_binary_crossentropy: 0.4826\n",
      "Epoch 2/20\n",
      "25000/25000 - 2s - loss: 0.3818 - acc: 0.8922 - binary_crossentropy: 0.3818 - val_loss: 0.3559 - val_acc: 0.8816 - val_binary_crossentropy: 0.3559\n",
      "Epoch 3/20\n",
      "25000/25000 - 2s - loss: 0.2795 - acc: 0.9178 - binary_crossentropy: 0.2795 - val_loss: 0.3124 - val_acc: 0.8849 - val_binary_crossentropy: 0.3124\n",
      "Epoch 4/20\n",
      "25000/25000 - 2s - loss: 0.2290 - acc: 0.9293 - binary_crossentropy: 0.2290 - val_loss: 0.2937 - val_acc: 0.8870 - val_binary_crossentropy: 0.2937\n",
      "Epoch 5/20\n",
      "25000/25000 - 2s - loss: 0.1971 - acc: 0.9382 - binary_crossentropy: 0.1971 - val_loss: 0.2860 - val_acc: 0.8874 - val_binary_crossentropy: 0.2860\n",
      "Epoch 6/20\n",
      "25000/25000 - 2s - loss: 0.1749 - acc: 0.9448 - binary_crossentropy: 0.1749 - val_loss: 0.2846 - val_acc: 0.8868 - val_binary_crossentropy: 0.2846\n",
      "Epoch 7/20\n",
      "25000/25000 - 2s - loss: 0.1566 - acc: 0.9520 - binary_crossentropy: 0.1566 - val_loss: 0.2887 - val_acc: 0.8849 - val_binary_crossentropy: 0.2887\n",
      "Epoch 8/20\n",
      "25000/25000 - 2s - loss: 0.1416 - acc: 0.9575 - binary_crossentropy: 0.1416 - val_loss: 0.2955 - val_acc: 0.8825 - val_binary_crossentropy: 0.2955\n",
      "Epoch 9/20\n",
      "25000/25000 - 2s - loss: 0.1282 - acc: 0.9626 - binary_crossentropy: 0.1282 - val_loss: 0.3091 - val_acc: 0.8783 - val_binary_crossentropy: 0.3091\n",
      "Epoch 10/20\n",
      "25000/25000 - 2s - loss: 0.1161 - acc: 0.9675 - binary_crossentropy: 0.1161 - val_loss: 0.3157 - val_acc: 0.8774 - val_binary_crossentropy: 0.3157\n",
      "Epoch 11/20\n",
      "25000/25000 - 2s - loss: 0.1037 - acc: 0.9718 - binary_crossentropy: 0.1037 - val_loss: 0.3271 - val_acc: 0.8762 - val_binary_crossentropy: 0.3271\n",
      "Epoch 12/20\n",
      "25000/25000 - 2s - loss: 0.0931 - acc: 0.9753 - binary_crossentropy: 0.0931 - val_loss: 0.3388 - val_acc: 0.8748 - val_binary_crossentropy: 0.3388\n",
      "Epoch 13/20\n",
      "25000/25000 - 2s - loss: 0.0834 - acc: 0.9794 - binary_crossentropy: 0.0834 - val_loss: 0.3524 - val_acc: 0.8733 - val_binary_crossentropy: 0.3524\n",
      "Epoch 14/20\n",
      "25000/25000 - 2s - loss: 0.0749 - acc: 0.9830 - binary_crossentropy: 0.0749 - val_loss: 0.3649 - val_acc: 0.8731 - val_binary_crossentropy: 0.3649\n",
      "Epoch 15/20\n",
      "25000/25000 - 2s - loss: 0.0674 - acc: 0.9855 - binary_crossentropy: 0.0674 - val_loss: 0.3784 - val_acc: 0.8704 - val_binary_crossentropy: 0.3784\n",
      "Epoch 16/20\n",
      "25000/25000 - 2s - loss: 0.0605 - acc: 0.9880 - binary_crossentropy: 0.0605 - val_loss: 0.3923 - val_acc: 0.8693 - val_binary_crossentropy: 0.3923\n",
      "Epoch 17/20\n",
      "25000/25000 - 2s - loss: 0.0537 - acc: 0.9908 - binary_crossentropy: 0.0537 - val_loss: 0.4049 - val_acc: 0.8680 - val_binary_crossentropy: 0.4049\n",
      "Epoch 18/20\n",
      "25000/25000 - 2s - loss: 0.0479 - acc: 0.9925 - binary_crossentropy: 0.0479 - val_loss: 0.4204 - val_acc: 0.8668 - val_binary_crossentropy: 0.4204\n",
      "Epoch 19/20\n",
      "25000/25000 - 2s - loss: 0.0428 - acc: 0.9937 - binary_crossentropy: 0.0428 - val_loss: 0.4328 - val_acc: 0.8645 - val_binary_crossentropy: 0.4328\n",
      "Epoch 20/20\n",
      "25000/25000 - 2s - loss: 0.0383 - acc: 0.9949 - binary_crossentropy: 0.0383 - val_loss: 0.4480 - val_acc: 0.8635 - val_binary_crossentropy: 0.4480\n"
     ]
    }
   ],
   "source": [
    "smaller_history = smaller_model.fit(train_data,\n",
    "                                    train_labels,\n",
    "                                    epochs=20,\n",
    "                                    batch_size=512,\n",
    "                                    validation_data=(test_data, test_labels),\n",
    "                                    verbose=2)"
   ]
  },
  {
   "cell_type": "markdown",
   "metadata": {
    "colab_type": "text",
    "id": "vIPuf23FFaVn"
   },
   "source": [
    "### Create a bigger model\n",
    "\n",
    "As an exercise, you can create an even larger model, and see how quickly it begins overfitting.  Next, let's add to this benchmark a network that has much more capacity, far more than the problem would warrant:"
   ]
  },
  {
   "cell_type": "code",
   "execution_count": 9,
   "metadata": {
    "colab": {},
    "colab_type": "code",
    "id": "ghQwwqwqvQM9"
   },
   "outputs": [
    {
     "name": "stdout",
     "output_type": "stream",
     "text": [
      "Model: \"sequential_2\"\n",
      "_________________________________________________________________\n",
      "Layer (type)                 Output Shape              Param #   \n",
      "=================================================================\n",
      "dense_6 (Dense)              (None, 512)               5120512   \n",
      "_________________________________________________________________\n",
      "dense_7 (Dense)              (None, 512)               262656    \n",
      "_________________________________________________________________\n",
      "dense_8 (Dense)              (None, 1)                 513       \n",
      "=================================================================\n",
      "Total params: 5,383,681\n",
      "Trainable params: 5,383,681\n",
      "Non-trainable params: 0\n",
      "_________________________________________________________________\n"
     ]
    }
   ],
   "source": [
    "bigger_model = keras.models.Sequential([\n",
    "    keras.layers.Dense(512, activation=tf.nn.relu, input_shape=(NUM_WORDS,)),\n",
    "    keras.layers.Dense(512, activation=tf.nn.relu),\n",
    "    keras.layers.Dense(1, activation=tf.nn.sigmoid)\n",
    "])\n",
    "\n",
    "bigger_model.compile(optimizer='adam',\n",
    "                     loss='binary_crossentropy',\n",
    "                     metrics=['accuracy','binary_crossentropy'])\n",
    "\n",
    "bigger_model.summary()"
   ]
  },
  {
   "cell_type": "markdown",
   "metadata": {
    "colab_type": "text",
    "id": "D-d-i5DaYmr7"
   },
   "source": [
    "And, again, train the model using the same data:"
   ]
  },
  {
   "cell_type": "code",
   "execution_count": 10,
   "metadata": {
    "colab": {},
    "colab_type": "code",
    "id": "U1A99dhqvepf"
   },
   "outputs": [
    {
     "name": "stdout",
     "output_type": "stream",
     "text": [
      "Train on 25000 samples, validate on 25000 samples\n",
      "Epoch 1/20\n",
      "25000/25000 - 6s - loss: 0.3407 - acc: 0.8568 - binary_crossentropy: 0.3407 - val_loss: 0.3043 - val_acc: 0.8737 - val_binary_crossentropy: 0.3043\n",
      "Epoch 2/20\n",
      "25000/25000 - 6s - loss: 0.1432 - acc: 0.9490 - binary_crossentropy: 0.1432 - val_loss: 0.3321 - val_acc: 0.8729 - val_binary_crossentropy: 0.3321\n",
      "Epoch 3/20\n",
      "25000/25000 - 6s - loss: 0.0458 - acc: 0.9868 - binary_crossentropy: 0.0458 - val_loss: 0.4516 - val_acc: 0.8670 - val_binary_crossentropy: 0.4516\n",
      "Epoch 4/20\n",
      "25000/25000 - 6s - loss: 0.0072 - acc: 0.9988 - binary_crossentropy: 0.0072 - val_loss: 0.5981 - val_acc: 0.8663 - val_binary_crossentropy: 0.5981\n",
      "Epoch 5/20\n",
      "25000/25000 - 6s - loss: 0.0011 - acc: 0.9999 - binary_crossentropy: 0.0011 - val_loss: 0.6931 - val_acc: 0.8663 - val_binary_crossentropy: 0.6931\n",
      "Epoch 6/20\n",
      "25000/25000 - 6s - loss: 4.1561e-04 - acc: 1.0000 - binary_crossentropy: 4.1561e-04 - val_loss: 0.7217 - val_acc: 0.8688 - val_binary_crossentropy: 0.7217\n",
      "Epoch 7/20\n",
      "25000/25000 - 7s - loss: 3.5262e-04 - acc: 1.0000 - binary_crossentropy: 3.5262e-04 - val_loss: 0.7555 - val_acc: 0.8700 - val_binary_crossentropy: 0.7555\n",
      "Epoch 8/20\n",
      "25000/25000 - 7s - loss: 1.0800e-04 - acc: 1.0000 - binary_crossentropy: 1.0800e-04 - val_loss: 0.7817 - val_acc: 0.8701 - val_binary_crossentropy: 0.7817\n",
      "Epoch 9/20\n",
      "25000/25000 - 8s - loss: 7.8017e-05 - acc: 1.0000 - binary_crossentropy: 7.8017e-05 - val_loss: 0.8014 - val_acc: 0.8702 - val_binary_crossentropy: 0.8014\n",
      "Epoch 10/20\n",
      "25000/25000 - 8s - loss: 6.0616e-05 - acc: 1.0000 - binary_crossentropy: 6.0616e-05 - val_loss: 0.8191 - val_acc: 0.8705 - val_binary_crossentropy: 0.8191\n",
      "Epoch 11/20\n",
      "25000/25000 - 8s - loss: 4.8601e-05 - acc: 1.0000 - binary_crossentropy: 4.8601e-05 - val_loss: 0.8350 - val_acc: 0.8702 - val_binary_crossentropy: 0.8350\n",
      "Epoch 12/20\n",
      "25000/25000 - 8s - loss: 4.0038e-05 - acc: 1.0000 - binary_crossentropy: 4.0038e-05 - val_loss: 0.8493 - val_acc: 0.8703 - val_binary_crossentropy: 0.8493\n",
      "Epoch 13/20\n",
      "25000/25000 - 7s - loss: 3.3408e-05 - acc: 1.0000 - binary_crossentropy: 3.3408e-05 - val_loss: 0.8625 - val_acc: 0.8706 - val_binary_crossentropy: 0.8625\n",
      "Epoch 14/20\n",
      "25000/25000 - 8s - loss: 2.8334e-05 - acc: 1.0000 - binary_crossentropy: 2.8334e-05 - val_loss: 0.8752 - val_acc: 0.8705 - val_binary_crossentropy: 0.8752\n",
      "Epoch 15/20\n",
      "25000/25000 - 8s - loss: 2.4216e-05 - acc: 1.0000 - binary_crossentropy: 2.4216e-05 - val_loss: 0.8871 - val_acc: 0.8704 - val_binary_crossentropy: 0.8871\n",
      "Epoch 16/20\n",
      "25000/25000 - 7s - loss: 2.0944e-05 - acc: 1.0000 - binary_crossentropy: 2.0944e-05 - val_loss: 0.8988 - val_acc: 0.8704 - val_binary_crossentropy: 0.8988\n",
      "Epoch 17/20\n",
      "25000/25000 - 7s - loss: 1.8191e-05 - acc: 1.0000 - binary_crossentropy: 1.8191e-05 - val_loss: 0.9097 - val_acc: 0.8704 - val_binary_crossentropy: 0.9097\n",
      "Epoch 18/20\n",
      "25000/25000 - 8s - loss: 1.5917e-05 - acc: 1.0000 - binary_crossentropy: 1.5917e-05 - val_loss: 0.9203 - val_acc: 0.8704 - val_binary_crossentropy: 0.9203\n",
      "Epoch 19/20\n",
      "25000/25000 - 7s - loss: 1.4004e-05 - acc: 1.0000 - binary_crossentropy: 1.4004e-05 - val_loss: 0.9302 - val_acc: 0.8705 - val_binary_crossentropy: 0.9302\n",
      "Epoch 20/20\n",
      "25000/25000 - 7s - loss: 1.2392e-05 - acc: 1.0000 - binary_crossentropy: 1.2392e-05 - val_loss: 0.9402 - val_acc: 0.8704 - val_binary_crossentropy: 0.9402\n"
     ]
    }
   ],
   "source": [
    "bigger_history = bigger_model.fit(train_data, train_labels,\n",
    "                                  epochs=20,\n",
    "                                  batch_size=512,\n",
    "                                  validation_data=(test_data, test_labels),\n",
    "                                  verbose=2)"
   ]
  },
  {
   "cell_type": "markdown",
   "metadata": {
    "colab_type": "text",
    "id": "Fy3CMUZpzH3d"
   },
   "source": [
    "### Plot the training and validation loss\n",
    "\n",
    "<!--TODO(markdaoust): This should be a one-liner with tensorboard -->"
   ]
  },
  {
   "cell_type": "markdown",
   "metadata": {
    "colab_type": "text",
    "id": "HSlo1F4xHuuM"
   },
   "source": [
    "The solid lines show the training loss, and the dashed lines show the validation loss (remember: a lower validation loss indicates a better model). Here, the smaller network begins overfitting later than the baseline model (after 6 epochs rather than 4) and its performance degrades much more slowly once it starts overfitting."
   ]
  },
  {
   "cell_type": "code",
   "execution_count": 11,
   "metadata": {
    "colab": {},
    "colab_type": "code",
    "id": "0XmKDtOWzOpk"
   },
   "outputs": [
    {
     "data": {
      "image/png": "[encoded data removed]",
      "text/plain": [
       "<Figure size 864x432 with 1 Axes>"
      ]
     },
     "metadata": {
      "needs_background": "light"
     },
     "output_type": "display_data"
    }
   ],
   "source": [
    "def plot_history(histories, key='binary_crossentropy'):\n",
    "    plt.figure(figsize=(12, 6))\n",
    "\n",
    "    for name, history in histories:\n",
    "        val = plt.plot(history.epoch, history.history['val_'+key],\n",
    "                       '--', label=name.title()+' Val')\n",
    "        plt.plot(history.epoch, history.history[key], color=val[0].get_color(),\n",
    "                 label=name.title()+' Train')\n",
    "\n",
    "        plt.xlabel('Epochs')\n",
    "        plt.ylabel(key.replace('_',' ').title())\n",
    "        plt.legend(frameon=False)\n",
    "\n",
    "        plt.xlim([0,max(history.epoch)])\n",
    "\n",
    "\n",
    "plot_history([('baseline', baseline_history),\n",
    "              ('smaller', smaller_history),\n",
    "              ('bigger', bigger_history)])"
   ]
  },
  {
   "cell_type": "markdown",
   "metadata": {
    "colab_type": "text",
    "id": "Bi6hBhdnSfjA"
   },
   "source": [
    "Notice that the larger network begins overfitting almost right away, after just one epoch, and overfits much more severely. The more capacity the network has, the quicker it will be able to model the training data (resulting in a low training loss), but the more susceptible it is to overfitting (resulting in a large difference between the training and validation loss)."
   ]
  },
  {
   "cell_type": "markdown",
   "metadata": {
    "colab_type": "text",
    "id": "ASdv7nsgEFhx"
   },
   "source": [
    "## Strategies"
   ]
  },
  {
   "cell_type": "markdown",
   "metadata": {
    "colab_type": "text",
    "id": "4rHoVWcswFLa"
   },
   "source": [
    "### Add weight regularization\n",
    "\n"
   ]
  },
  {
   "cell_type": "markdown",
   "metadata": {
    "colab_type": "text",
    "id": "kRxWepNawbBK"
   },
   "source": [
    "You may be familiar with Occam's Razor principle: given two explanations for something, the explanation most likely to be correct is the \"simplest\" one, the one that makes the least amount of assumptions. This also applies to the models learned by neural networks: given some training data and a network architecture, there are multiple sets of weights values (multiple models) that could explain the data, and simpler models are less likely to overfit than complex ones.\n",
    "\n",
    "A \"simple model\" in this context is a model where the distribution of parameter values has less entropy (or a model with fewer parameters altogether, as we saw in the section above). Thus a common way to mitigate overfitting is to put constraints on the complexity of a network by forcing its weights only to take small values, which makes the distribution of weight values more \"regular\". This is called \"weight regularization\", and it is done by adding to the loss function of the network a cost associated with having large weights. This cost comes in two flavors:\n",
    "\n",
    "* [L1 regularization](https://developers.google.com/machine-learning/glossary/#L1_regularization), where the cost added is proportional to the absolute value of the weights coefficients (i.e. to what is called the \"L1 norm\" of the weights).\n",
    "\n",
    "* [L2 regularization](https://developers.google.com/machine-learning/glossary/#L2_regularization), where the cost added is proportional to the square of the value of the weights coefficients (i.e. to what is called the squared \"L2 norm\" of the weights). L2 regularization is also called weight decay in the context of neural networks. Don't let the different name confuse you: weight decay is mathematically the exact same as L2 regularization.\n",
    "\n",
    "In `tf.keras`, weight regularization is added by passing weight regularizer instances to layers as keyword arguments. Let's add L2 weight regularization now."
   ]
  },
  {
   "cell_type": "code",
   "execution_count": 12,
   "metadata": {
    "colab": {},
    "colab_type": "code",
    "id": "HFGmcwduwVyQ"
   },
   "outputs": [
    {
     "name": "stdout",
     "output_type": "stream",
     "text": [
      "Train on 25000 samples, validate on 25000 samples\n",
      "Epoch 1/20\n",
      "25000/25000 - 5s - loss: 0.5442 - acc: 0.8051 - binary_crossentropy: 0.5031 - val_loss: 0.3916 - val_acc: 0.8730 - val_binary_crossentropy: 0.3483\n",
      "Epoch 2/20\n",
      "25000/25000 - 4s - loss: 0.3128 - acc: 0.9039 - binary_crossentropy: 0.2645 - val_loss: 0.3383 - val_acc: 0.8853 - val_binary_crossentropy: 0.2864\n",
      "Epoch 3/20\n",
      "25000/25000 - 4s - loss: 0.2558 - acc: 0.9275 - binary_crossentropy: 0.2012 - val_loss: 0.3408 - val_acc: 0.8851 - val_binary_crossentropy: 0.2846\n",
      "Epoch 4/20\n",
      "25000/25000 - 4s - loss: 0.2322 - acc: 0.9387 - binary_crossentropy: 0.1744 - val_loss: 0.3600 - val_acc: 0.8790 - val_binary_crossentropy: 0.3010\n",
      "Epoch 5/20\n",
      "25000/25000 - 4s - loss: 0.2158 - acc: 0.9471 - binary_crossentropy: 0.1559 - val_loss: 0.3700 - val_acc: 0.8768 - val_binary_crossentropy: 0.3093\n",
      "Epoch 6/20\n",
      "25000/25000 - 4s - loss: 0.2027 - acc: 0.9520 - binary_crossentropy: 0.1411 - val_loss: 0.3864 - val_acc: 0.8746 - val_binary_crossentropy: 0.3244\n",
      "Epoch 7/20\n",
      "25000/25000 - 4s - loss: 0.1944 - acc: 0.9545 - binary_crossentropy: 0.1318 - val_loss: 0.4099 - val_acc: 0.8711 - val_binary_crossentropy: 0.3466\n",
      "Epoch 8/20\n",
      "25000/25000 - 4s - loss: 0.1880 - acc: 0.9573 - binary_crossentropy: 0.1241 - val_loss: 0.4247 - val_acc: 0.8693 - val_binary_crossentropy: 0.3604\n",
      "Epoch 9/20\n",
      "25000/25000 - 4s - loss: 0.1824 - acc: 0.9580 - binary_crossentropy: 0.1173 - val_loss: 0.4393 - val_acc: 0.8640 - val_binary_crossentropy: 0.3738\n",
      "Epoch 10/20\n",
      "25000/25000 - 4s - loss: 0.1765 - acc: 0.9621 - binary_crossentropy: 0.1106 - val_loss: 0.4505 - val_acc: 0.8654 - val_binary_crossentropy: 0.3842\n",
      "Epoch 11/20\n",
      "25000/25000 - 4s - loss: 0.1703 - acc: 0.9650 - binary_crossentropy: 0.1038 - val_loss: 0.4615 - val_acc: 0.8632 - val_binary_crossentropy: 0.3947\n",
      "Epoch 12/20\n",
      "25000/25000 - 4s - loss: 0.1664 - acc: 0.9656 - binary_crossentropy: 0.0993 - val_loss: 0.4777 - val_acc: 0.8616 - val_binary_crossentropy: 0.4103\n",
      "Epoch 13/20\n",
      "25000/25000 - 4s - loss: 0.1611 - acc: 0.9696 - binary_crossentropy: 0.0935 - val_loss: 0.4882 - val_acc: 0.8611 - val_binary_crossentropy: 0.4205\n",
      "Epoch 14/20\n",
      "25000/25000 - 4s - loss: 0.1579 - acc: 0.9695 - binary_crossentropy: 0.0897 - val_loss: 0.5041 - val_acc: 0.8576 - val_binary_crossentropy: 0.4358\n",
      "Epoch 15/20\n",
      "25000/25000 - 4s - loss: 0.1562 - acc: 0.9699 - binary_crossentropy: 0.0877 - val_loss: 0.5221 - val_acc: 0.8590 - val_binary_crossentropy: 0.4531\n",
      "Epoch 16/20\n",
      "25000/25000 - 4s - loss: 0.1533 - acc: 0.9714 - binary_crossentropy: 0.0835 - val_loss: 0.5293 - val_acc: 0.8567 - val_binary_crossentropy: 0.4593\n",
      "Epoch 17/20\n",
      "25000/25000 - 4s - loss: 0.1485 - acc: 0.9733 - binary_crossentropy: 0.0788 - val_loss: 0.5390 - val_acc: 0.8585 - val_binary_crossentropy: 0.4692\n",
      "Epoch 18/20\n",
      "25000/25000 - 4s - loss: 0.1480 - acc: 0.9742 - binary_crossentropy: 0.0774 - val_loss: 0.5645 - val_acc: 0.8560 - val_binary_crossentropy: 0.4935\n",
      "Epoch 19/20\n",
      "25000/25000 - 4s - loss: 0.1446 - acc: 0.9745 - binary_crossentropy: 0.0735 - val_loss: 0.5598 - val_acc: 0.8542 - val_binary_crossentropy: 0.4882\n",
      "Epoch 20/20\n",
      "25000/25000 - 4s - loss: 0.1364 - acc: 0.9802 - binary_crossentropy: 0.0649 - val_loss: 0.5664 - val_acc: 0.8550 - val_binary_crossentropy: 0.4952\n"
     ]
    }
   ],
   "source": [
    "l2_model = keras.models.Sequential([\n",
    "    keras.layers.Dense(16, kernel_regularizer=keras.regularizers.l2(0.001),\n",
    "                       activation=tf.nn.relu, input_shape=(NUM_WORDS,)),\n",
    "    keras.layers.Dense(16, kernel_regularizer=keras.regularizers.l2(0.001),\n",
    "                       activation=tf.nn.relu),\n",
    "    keras.layers.Dense(1, activation=tf.nn.sigmoid)\n",
    "])\n",
    "\n",
    "l2_model.compile(optimizer='adam',\n",
    "                 loss='binary_crossentropy',\n",
    "                 metrics=['accuracy', 'binary_crossentropy'])\n",
    "\n",
    "l2_model_history = l2_model.fit(train_data, train_labels,\n",
    "                                epochs=20,\n",
    "                                batch_size=512,\n",
    "                                validation_data=(test_data, test_labels),\n",
    "                                verbose=2)"
   ]
  },
  {
   "cell_type": "markdown",
   "metadata": {
    "colab_type": "text",
    "id": "bUUHoXb7w-_C"
   },
   "source": [
    "```l2(0.001)``` means that every coefficient in the weight matrix of the layer will add ```0.001 * weight_coefficient_value**2``` to the total loss of the network. Note that because this penalty is only added at training time, the loss for this network will be much higher at training than at test time.\n",
    "\n",
    "Here's the impact of our L2 regularization penalty:"
   ]
  },
  {
   "cell_type": "code",
   "execution_count": 13,
   "metadata": {
    "colab": {},
    "colab_type": "code",
    "id": "7wkfLyxBZdh_"
   },
   "outputs": [
    {
     "data": {
      "image/png": "[encoded data removed]",
      "text/plain": [
       "<Figure size 864x432 with 1 Axes>"
      ]
     },
     "metadata": {
      "needs_background": "light"
     },
     "output_type": "display_data"
    }
   ],
   "source": [
    "plot_history([('baseline', baseline_history),\n",
    "              ('l2', l2_model_history)])"
   ]
  },
  {
   "cell_type": "markdown",
   "metadata": {
    "colab_type": "text",
    "id": "Kx1YHMsVxWjP"
   },
   "source": [
    "As you can see, the L2 regularized model has become much more resistant to overfitting than the baseline model, even though both models have the same number of parameters."
   ]
  },
  {
   "cell_type": "markdown",
   "metadata": {
    "colab_type": "text",
    "id": "HmnBNOOVxiG8"
   },
   "source": [
    "### Add dropout\n",
    "\n",
    "Dropout is one of the most effective and most commonly used regularization techniques for neural networks, developed by Hinton and his students at the University of Toronto. Dropout, applied to a layer, consists of randomly \"dropping out\" (i.e. set to zero) a number of output features of the layer during training. Let's say a given layer would normally have returned a vector [0.2, 0.5, 1.3, 0.8, 1.1] for a given input sample during training; after applying dropout, this vector will have a few zero entries distributed at random, e.g. [0, 0.5,\n",
    "1.3, 0, 1.1]. The \"dropout rate\" is the fraction of the features that are being zeroed-out; it is usually set between 0.2 and 0.5. At test time, no units are dropped out, and instead the layer's output values are scaled down by a factor equal to the dropout rate, so as to balance for the fact that more units are active than at training time.\n",
    "\n",
    "In tf.keras you can introduce dropout in a network via the Dropout layer, which gets applied to the output of layer right before.\n",
    "\n",
    "Let's add two Dropout layers in our IMDB network to see how well they do at reducing overfitting:"
   ]
  },
  {
   "cell_type": "code",
   "execution_count": 14,
   "metadata": {
    "colab": {},
    "colab_type": "code",
    "id": "OFEYvtrHxSWS"
   },
   "outputs": [
    {
     "name": "stdout",
     "output_type": "stream",
     "text": [
      "Train on 25000 samples, validate on 25000 samples\n",
      "Epoch 1/20\n",
      "25000/25000 - 3s - loss: 0.6216 - acc: 0.6549 - binary_crossentropy: 0.6216 - val_loss: 0.5003 - val_acc: 0.8524 - val_binary_crossentropy: 0.5003\n",
      "Epoch 2/20\n",
      "25000/25000 - 3s - loss: 0.4504 - acc: 0.8117 - binary_crossentropy: 0.4504 - val_loss: 0.3427 - val_acc: 0.8806 - val_binary_crossentropy: 0.3427\n",
      "Epoch 3/20\n",
      "25000/25000 - 3s - loss: 0.3520 - acc: 0.8696 - binary_crossentropy: 0.3520 - val_loss: 0.2928 - val_acc: 0.8878 - val_binary_crossentropy: 0.2928\n",
      "Epoch 4/20\n",
      "25000/25000 - 3s - loss: 0.2986 - acc: 0.8995 - binary_crossentropy: 0.2986 - val_loss: 0.2785 - val_acc: 0.8895 - val_binary_crossentropy: 0.2785\n",
      "Epoch 5/20\n",
      "25000/25000 - 4s - loss: 0.2543 - acc: 0.9154 - binary_crossentropy: 0.2543 - val_loss: 0.2762 - val_acc: 0.8870 - val_binary_crossentropy: 0.2762\n",
      "Epoch 6/20\n",
      "25000/25000 - 4s - loss: 0.2254 - acc: 0.9285 - binary_crossentropy: 0.2254 - val_loss: 0.2909 - val_acc: 0.8851 - val_binary_crossentropy: 0.2909\n",
      "Epoch 7/20\n",
      "25000/25000 - 4s - loss: 0.1995 - acc: 0.9358 - binary_crossentropy: 0.1995 - val_loss: 0.2999 - val_acc: 0.8856 - val_binary_crossentropy: 0.2999\n",
      "Epoch 8/20\n",
      "25000/25000 - 3s - loss: 0.1790 - acc: 0.9413 - binary_crossentropy: 0.1790 - val_loss: 0.3190 - val_acc: 0.8827 - val_binary_crossentropy: 0.3190\n",
      "Epoch 9/20\n",
      "25000/25000 - 3s - loss: 0.1637 - acc: 0.9470 - binary_crossentropy: 0.1637 - val_loss: 0.3365 - val_acc: 0.8816 - val_binary_crossentropy: 0.3365\n",
      "Epoch 10/20\n",
      "25000/25000 - 3s - loss: 0.1469 - acc: 0.9516 - binary_crossentropy: 0.1469 - val_loss: 0.3539 - val_acc: 0.8785 - val_binary_crossentropy: 0.3539\n",
      "Epoch 11/20\n",
      "25000/25000 - 3s - loss: 0.1342 - acc: 0.9578 - binary_crossentropy: 0.1342 - val_loss: 0.3643 - val_acc: 0.8790 - val_binary_crossentropy: 0.3643\n",
      "Epoch 12/20\n",
      "25000/25000 - 3s - loss: 0.1248 - acc: 0.9595 - binary_crossentropy: 0.1248 - val_loss: 0.3868 - val_acc: 0.8787 - val_binary_crossentropy: 0.3868\n",
      "Epoch 13/20\n",
      "25000/25000 - 3s - loss: 0.1174 - acc: 0.9613 - binary_crossentropy: 0.1174 - val_loss: 0.4093 - val_acc: 0.8781 - val_binary_crossentropy: 0.4093\n",
      "Epoch 14/20\n",
      "25000/25000 - 3s - loss: 0.1096 - acc: 0.9639 - binary_crossentropy: 0.1096 - val_loss: 0.4146 - val_acc: 0.8767 - val_binary_crossentropy: 0.4146\n",
      "Epoch 15/20\n",
      "25000/25000 - 3s - loss: 0.1011 - acc: 0.9677 - binary_crossentropy: 0.1011 - val_loss: 0.4683 - val_acc: 0.8758 - val_binary_crossentropy: 0.4683\n",
      "Epoch 16/20\n",
      "25000/25000 - 3s - loss: 0.0993 - acc: 0.9672 - binary_crossentropy: 0.0993 - val_loss: 0.4644 - val_acc: 0.8749 - val_binary_crossentropy: 0.4644\n",
      "Epoch 17/20\n",
      "25000/25000 - 3s - loss: 0.0950 - acc: 0.9688 - binary_crossentropy: 0.0950 - val_loss: 0.4776 - val_acc: 0.8745 - val_binary_crossentropy: 0.4776\n",
      "Epoch 18/20\n",
      "25000/25000 - 3s - loss: 0.0900 - acc: 0.9691 - binary_crossentropy: 0.0900 - val_loss: 0.5158 - val_acc: 0.8744 - val_binary_crossentropy: 0.5158\n",
      "Epoch 19/20\n",
      "25000/25000 - 3s - loss: 0.0845 - acc: 0.9723 - binary_crossentropy: 0.0845 - val_loss: 0.5490 - val_acc: 0.8758 - val_binary_crossentropy: 0.5490\n",
      "Epoch 20/20\n",
      "25000/25000 - 3s - loss: 0.0842 - acc: 0.9727 - binary_crossentropy: 0.0842 - val_loss: 0.5510 - val_acc: 0.8749 - val_binary_crossentropy: 0.5510\n"
     ]
    }
   ],
   "source": [
    "dpt_model = keras.models.Sequential([\n",
    "    keras.layers.Dense(16, activation=tf.nn.relu, input_shape=(NUM_WORDS,)),\n",
    "    keras.layers.Dropout(0.5),\n",
    "    keras.layers.Dense(16, activation=tf.nn.relu),\n",
    "    keras.layers.Dropout(0.5),\n",
    "    keras.layers.Dense(1, activation=tf.nn.sigmoid)\n",
    "])\n",
    "\n",
    "dpt_model.compile(optimizer='adam',\n",
    "                  loss='binary_crossentropy',\n",
    "                  metrics=['accuracy','binary_crossentropy'])\n",
    "\n",
    "dpt_model_history = dpt_model.fit(train_data, train_labels,\n",
    "                                  epochs=20,\n",
    "                                  batch_size=512,\n",
    "                                  validation_data=(test_data, test_labels),\n",
    "                                  verbose=2)"
   ]
  },
  {
   "cell_type": "code",
   "execution_count": 15,
   "metadata": {
    "colab": {},
    "colab_type": "code",
    "id": "SPZqwVchx5xp"
   },
   "outputs": [
    {
     "data": {
      "image/png": "[encoded data removed]",
      "text/plain": [
       "<Figure size 864x432 with 1 Axes>"
      ]
     },
     "metadata": {
      "needs_background": "light"
     },
     "output_type": "display_data"
    }
   ],
   "source": [
    "plot_history([('baseline', baseline_history),\n",
    "              ('dropout', dpt_model_history)])"
   ]
  },
  {
   "cell_type": "markdown",
   "metadata": {
    "colab_type": "text",
    "id": "gjfnkEeQyAFG"
   },
   "source": [
    "Adding dropout is a clear improvement over the baseline model.\n",
    "\n",
    "\n",
    "To recap: here the most common ways to prevent overfitting in neural networks:\n",
    "\n",
    "* Get more training data.\n",
    "* Reduce the capacity of the network.\n",
    "* Add weight regularization.\n",
    "* Add dropout.\n",
    "\n",
    "And two important approaches not covered in this guide are data-augmentation and batch normalization."
   ]
  }
 ],
 "metadata": {
  "accelerator": "GPU",
  "colab": {
   "collapsed_sections": [
    "fTFj8ft5dlbS"
   ],
   "name": "overfit-and-underfit.ipynb",
   "private_outputs": true,
   "provenance": [],
   "toc_visible": true,
   "version": "0.3.2"
  },
  "kernelspec": {
   "display_name": "Python 3",
   "language": "python",
   "name": "python3"
  },
  "language_info": {
   "codemirror_mode": {
    "name": "ipython",
    "version": 3
   },
   "file_extension": ".py",
   "mimetype": "text/x-python",
   "name": "python",
   "nbconvert_exporter": "python",
   "pygments_lexer": "ipython3",
   "version": "3.7.3"
  }
 },
 "nbformat": 4,
 "nbformat_minor": 1
}
