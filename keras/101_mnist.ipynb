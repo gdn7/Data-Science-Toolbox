{
 "cells": [
  {
   "cell_type": "markdown",
   "metadata": {},
   "source": [
    "#### [Tutorial](https://www.tensorflow.org/tutorials/)"
   ]
  },
  {
   "cell_type": "code",
   "execution_count": 1,
   "metadata": {},
   "outputs": [],
   "source": [
    "import tensorflow as tf\n",
    "\n",
    "import warnings\n",
    "warnings.filterwarnings('ignore')\n",
    "\n",
    "mnist = tf.keras.datasets.mnist"
   ]
  },
  {
   "cell_type": "code",
   "execution_count": 2,
   "metadata": {},
   "outputs": [],
   "source": [
    "(x_train, y_train),(x_test, y_test) = mnist.load_data()\n",
    "x_train, x_test = x_train / 255.0, x_test / 255.0"
   ]
  },
  {
   "cell_type": "code",
   "execution_count": 3,
   "metadata": {},
   "outputs": [
    {
     "name": "stdout",
     "output_type": "stream",
     "text": [
      "WARNING:tensorflow:From /Users/shawlu/anaconda3/envs/deep/lib/python3.7/site-packages/tensorflow/python/ops/resource_variable_ops.py:435: colocate_with (from tensorflow.python.framework.ops) is deprecated and will be removed in a future version.\n",
      "Instructions for updating:\n",
      "Colocations handled automatically by placer.\n",
      "WARNING:tensorflow:From /Users/shawlu/anaconda3/envs/deep/lib/python3.7/site-packages/tensorflow/python/keras/layers/core.py:143: calling dropout (from tensorflow.python.ops.nn_ops) with keep_prob is deprecated and will be removed in a future version.\n",
      "Instructions for updating:\n",
      "Please use `rate` instead of `keep_prob`. Rate should be set to `rate = 1 - keep_prob`.\n"
     ]
    }
   ],
   "source": [
    "model = tf.keras.models.Sequential([\n",
    "  tf.keras.layers.Flatten(input_shape=(28, 28)),\n",
    "  tf.keras.layers.Dense(512, activation=tf.nn.relu),\n",
    "  tf.keras.layers.Dropout(rate=0.2),\n",
    "  tf.keras.layers.Dense(10, activation=tf.nn.softmax)\n",
    "])\n",
    "\n",
    "model.compile(optimizer='adam',\n",
    "              loss='sparse_categorical_crossentropy',\n",
    "              metrics=['accuracy'])"
   ]
  },
  {
   "cell_type": "code",
   "execution_count": 4,
   "metadata": {},
   "outputs": [
    {
     "name": "stdout",
     "output_type": "stream",
     "text": [
      "Epoch 1/10\n",
      "60000/60000 [==============================] - 22s 360us/sample - loss: 0.2198 - acc: 0.9350\n",
      "Epoch 2/10\n",
      "60000/60000 [==============================] - 25s 417us/sample - loss: 0.0967 - acc: 0.9701\n",
      "Epoch 3/10\n",
      "60000/60000 [==============================] - 27s 448us/sample - loss: 0.0685 - acc: 0.9785\n",
      "Epoch 4/10\n",
      "60000/60000 [==============================] - 24s 404us/sample - loss: 0.0540 - acc: 0.9825\n",
      "Epoch 5/10\n",
      "60000/60000 [==============================] - 24s 401us/sample - loss: 0.0438 - acc: 0.9854\n",
      "Epoch 6/10\n",
      "60000/60000 [==============================] - 24s 397us/sample - loss: 0.0349 - acc: 0.9889\n",
      "Epoch 7/10\n",
      "60000/60000 [==============================] - 25s 418us/sample - loss: 0.0292 - acc: 0.9901\n",
      "Epoch 8/10\n",
      "60000/60000 [==============================] - 25s 421us/sample - loss: 0.0283 - acc: 0.9905\n",
      "Epoch 9/10\n",
      "60000/60000 [==============================] - 25s 409us/sample - loss: 0.0249 - acc: 0.9912\n",
      "Epoch 10/10\n",
      "60000/60000 [==============================] - 25s 415us/sample - loss: 0.0223 - acc: 0.9924\n",
      "10000/10000 [==============================] - 1s 102us/sample - loss: 0.0747 - acc: 0.9805\n"
     ]
    },
    {
     "data": {
      "text/plain": [
       "[0.07465016744010572, 0.9805]"
      ]
     },
     "execution_count": 4,
     "metadata": {},
     "output_type": "execute_result"
    }
   ],
   "source": [
    "model.fit(x_train, y_train, epochs=10)\n",
    "\n",
    "# first is loss, second is accuracy (classification)\n",
    "model.evaluate(x_test, y_test)"
   ]
  }
 ],
 "metadata": {
  "kernelspec": {
   "display_name": "Python 3",
   "language": "python",
   "name": "python3"
  },
  "language_info": {
   "codemirror_mode": {
    "name": "ipython",
    "version": 3
   },
   "file_extension": ".py",
   "mimetype": "text/x-python",
   "name": "python",
   "nbconvert_exporter": "python",
   "pygments_lexer": "ipython3",
   "version": "3.7.3"
  }
 },
 "nbformat": 4,
 "nbformat_minor": 2
}
