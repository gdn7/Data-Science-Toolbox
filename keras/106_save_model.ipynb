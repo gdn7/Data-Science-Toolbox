{
 "cells": [
  {
   "cell_type": "markdown",
   "metadata": {
    "colab_type": "text",
    "id": "pZJ3uY9O17VN"
   },
   "source": [
    "### Save and restore models"
   ]
  },
  {
   "cell_type": "markdown",
   "metadata": {
    "colab_type": "text",
    "id": "M4Ata7_wMul1"
   },
   "source": [
    "<table class=\"tfo-notebook-buttons\" align=\"left\">\n",
    "  <td>\n",
    "    <a target=\"_blank\" href=\"https://www.tensorflow.org/tutorials/keras/save_and_restore_models\"><img src=\"https://www.tensorflow.org/images/tf_logo_32px.png\" />View on TensorFlow.org</a>\n",
    "  </td>\n",
    "  <td>\n",
    "    <a target=\"_blank\" href=\"https://colab.research.google.com/github/tensorflow/docs/blob/master/site/en/tutorials/keras/save_and_restore_models.ipynb\"><img src=\"https://www.tensorflow.org/images/colab_logo_32px.png\" />Run in Google Colab</a>\n",
    "  </td>\n",
    "  <td>\n",
    "    <a target=\"_blank\" href=\"https://github.com/tensorflow/docs/blob/master/site/en/tutorials/keras/save_and_restore_models.ipynb\"><img src=\"https://www.tensorflow.org/images/GitHub-Mark-32px.png\" />View source on GitHub</a>\n",
    "  </td>\n",
    "</table>"
   ]
  },
  {
   "cell_type": "markdown",
   "metadata": {
    "colab_type": "text",
    "id": "mBdde4YJeJKF"
   },
   "source": [
    "Model progress can be saved during—and after—training. This means a model can resume where it left off and avoid long training times. Saving also means you can share your model and others can recreate your work. When publishing research models and techniques, most machine learning practitioners share:\n",
    "\n",
    "* code to create the model, and\n",
    "* the trained weights, or parameters, for the model\n",
    "\n",
    "Sharing this data helps others understand how the model works and try it themselves with new data.\n",
    "\n",
    "Caution: Be careful with untrusted code—TensorFlow models are code. See [Using TensorFlow Securely](https://github.com/tensorflow/tensorflow/blob/master/SECURITY.md) for details.\n",
    "\n",
    "#### Options\n",
    "\n",
    "There are different ways to save TensorFlow models—depending on the API you're using. This guide uses [tf.keras](https://www.tensorflow.org/guide/keras), a high-level API to build and train models in TensorFlow. For other approaches, see the TensorFlow  [Save and Restore](https://www.tensorflow.org/guide/saved_model) guide or [Saving in eager](https://www.tensorflow.org/guide/eager#object-based_saving).\n"
   ]
  },
  {
   "cell_type": "markdown",
   "metadata": {
    "colab_type": "text",
    "id": "xCUREq7WXgvg"
   },
   "source": [
    "### Setup\n",
    "\n",
    "#### Installs and imports"
   ]
  },
  {
   "cell_type": "markdown",
   "metadata": {
    "colab_type": "text",
    "id": "7l0MiTOrXtNv"
   },
   "source": [
    "Install and import TensorFlow and dependencies:"
   ]
  },
  {
   "cell_type": "code",
   "execution_count": 1,
   "metadata": {
    "colab": {},
    "colab_type": "code",
    "id": "RzIOVSdnMYyO"
   },
   "outputs": [
    {
     "name": "stdout",
     "output_type": "stream",
     "text": [
      "Requirement already satisfied: h5py in /Users/shawlu/anaconda3/envs/deep/lib/python3.7/site-packages (2.9.0)\n",
      "Collecting pyyaml\n",
      "\u001b[?25l  Downloading https://files.pythonhosted.org/packages/9f/2c/9417b5c774792634834e730932745bc09a7d36754ca00acf1ccd1ac2594d/PyYAML-5.1.tar.gz (274kB)\n",
      "\u001b[K    100% |████████████████████████████████| 276kB 4.4MB/s ta 0:00:01\n",
      "\u001b[?25hRequirement already satisfied: numpy>=1.7 in /Users/shawlu/anaconda3/envs/deep/lib/python3.7/site-packages (from h5py) (1.16.1)\n",
      "Requirement already satisfied: six in /Users/shawlu/anaconda3/envs/deep/lib/python3.7/site-packages (from h5py) (1.12.0)\n",
      "Building wheels for collected packages: pyyaml\n",
      "  Building wheel for pyyaml (setup.py) ... \u001b[?25ldone\n",
      "\u001b[?25h  Stored in directory: /Users/shawlu/Library/Caches/pip/wheels/ad/56/bc/1522f864feb2a358ea6f1a92b4798d69ac783a28e80567a18b\n",
      "Successfully built pyyaml\n",
      "Installing collected packages: pyyaml\n",
      "Successfully installed pyyaml-5.1\n"
     ]
    }
   ],
   "source": [
    "!pip install h5py pyyaml"
   ]
  },
  {
   "cell_type": "markdown",
   "metadata": {
    "colab_type": "text",
    "id": "SbGsznErXWt6"
   },
   "source": [
    "#### Get an example dataset\n",
    "\n",
    "We'll use the [MNIST dataset](http://yann.lecun.com/exdb/mnist/) to train our model to demonstrate saving weights. To speed up these demonstration runs, only use the first 1000 examples:"
   ]
  },
  {
   "cell_type": "code",
   "execution_count": 2,
   "metadata": {
    "colab": {},
    "colab_type": "code",
    "id": "7Nm7Tyb-gRt-"
   },
   "outputs": [
    {
     "data": {
      "text/plain": [
       "'1.14.1-dev20190429'"
      ]
     },
     "execution_count": 2,
     "metadata": {},
     "output_type": "execute_result"
    }
   ],
   "source": [
    "from __future__ import absolute_import, division, print_function, unicode_literals\n",
    "\n",
    "import os\n",
    "\n",
    "import tensorflow as tf\n",
    "from tensorflow import keras\n",
    "\n",
    "tf.__version__"
   ]
  },
  {
   "cell_type": "code",
   "execution_count": 3,
   "metadata": {
    "colab": {},
    "colab_type": "code",
    "id": "9rGfFwE9XVwz"
   },
   "outputs": [],
   "source": [
    "(train_images, train_labels), (test_images, test_labels) = tf.keras.datasets.mnist.load_data()\n",
    "\n",
    "train_labels = train_labels[:1000]\n",
    "test_labels = test_labels[:1000]\n",
    "\n",
    "train_images = train_images[:1000].reshape(-1, 28 * 28) / 255.0\n",
    "test_images = test_images[:1000].reshape(-1, 28 * 28) / 255.0"
   ]
  },
  {
   "cell_type": "markdown",
   "metadata": {
    "colab_type": "text",
    "id": "anG3iVoXyZGI"
   },
   "source": [
    "#### Define a model"
   ]
  },
  {
   "cell_type": "markdown",
   "metadata": {
    "colab_type": "text",
    "id": "wynsOBfby0Pa"
   },
   "source": [
    "Let's build a simple model we'll use to demonstrate saving and loading weights."
   ]
  },
  {
   "cell_type": "code",
   "execution_count": 4,
   "metadata": {
    "colab": {},
    "colab_type": "code",
    "id": "0HZbJIjxyX1S"
   },
   "outputs": [
    {
     "name": "stderr",
     "output_type": "stream",
     "text": [
      "WARNING: Logging before flag parsing goes to stderr.\n",
      "W0429 23:42:46.484585 4562052544 deprecation.py:506] From /Users/shawlu/anaconda3/envs/deep/lib/python3.7/site-packages/tensorflow/python/ops/init_ops.py:1251: calling VarianceScaling.__init__ (from tensorflow.python.ops.init_ops) with dtype is deprecated and will be removed in a future version.\n",
      "Instructions for updating:\n",
      "Call initializer instance with the dtype argument instead of passing it to the constructor\n"
     ]
    },
    {
     "name": "stdout",
     "output_type": "stream",
     "text": [
      "Model: \"sequential\"\n",
      "_________________________________________________________________\n",
      "Layer (type)                 Output Shape              Param #   \n",
      "=================================================================\n",
      "dense (Dense)                (None, 512)               401920    \n",
      "_________________________________________________________________\n",
      "dropout (Dropout)            (None, 512)               0         \n",
      "_________________________________________________________________\n",
      "dense_1 (Dense)              (None, 10)                5130      \n",
      "=================================================================\n",
      "Total params: 407,050\n",
      "Trainable params: 407,050\n",
      "Non-trainable params: 0\n",
      "_________________________________________________________________\n"
     ]
    }
   ],
   "source": [
    "# Returns a short sequential model\n",
    "def create_model():\n",
    "    model = tf.keras.models.Sequential([\n",
    "        keras.layers.Dense(512, activation=tf.keras.activations.relu, input_shape=(784,)),\n",
    "        keras.layers.Dropout(0.2),\n",
    "        keras.layers.Dense(10, activation=tf.keras.activations.softmax)\n",
    "    ])\n",
    "\n",
    "    model.compile(optimizer=tf.keras.optimizers.Adam(),\n",
    "                loss=tf.keras.losses.sparse_categorical_crossentropy,\n",
    "                metrics=['accuracy'])\n",
    "\n",
    "    return model\n",
    "\n",
    "\n",
    "# Create a basic model instance\n",
    "model = create_model()\n",
    "model.summary()"
   ]
  },
  {
   "cell_type": "markdown",
   "metadata": {
    "colab_type": "text",
    "id": "soDE0W_KH8rG"
   },
   "source": [
    "### Save checkpoints during training"
   ]
  },
  {
   "cell_type": "markdown",
   "metadata": {
    "colab_type": "text",
    "id": "mRyd5qQQIXZm"
   },
   "source": [
    "The primary use case is to automatically save checkpoints *during* and at *the end* of training. This way you can use a trained model without having to retrain it, or pick-up training where you left of—in case the training process was interrupted.\n",
    "\n",
    "`tf.keras.callbacks.ModelCheckpoint` is a callback that performs this task. The callback takes a couple of arguments to configure checkpointing.\n",
    "\n",
    "#### Checkpoint callback usage\n",
    "\n",
    "Train the model and pass it the `ModelCheckpoint` callback:"
   ]
  },
  {
   "cell_type": "code",
   "execution_count": 5,
   "metadata": {
    "colab": {},
    "colab_type": "code",
    "id": "IFPuhwntH8VH"
   },
   "outputs": [
    {
     "name": "stdout",
     "output_type": "stream",
     "text": [
      "Train on 1000 samples, validate on 1000 samples\n",
      "Epoch 1/10\n",
      " 768/1000 [======================>.......] - ETA: 0s - loss: 1.3308 - acc: 0.6380\n",
      "Epoch 00001: saving model to outputs/cp.ckpt\n",
      "1000/1000 [==============================] - 0s 374us/sample - loss: 1.1911 - acc: 0.6650 - val_loss: 0.7438 - val_acc: 0.7710\n",
      "Epoch 2/10\n",
      " 768/1000 [======================>.......] - ETA: 0s - loss: 0.4272 - acc: 0.8841\n",
      "Epoch 00002: saving model to outputs/cp.ckpt\n",
      "1000/1000 [==============================] - 0s 147us/sample - loss: 0.4249 - acc: 0.8780 - val_loss: 0.5304 - val_acc: 0.8410\n",
      "Epoch 3/10\n",
      " 800/1000 [=======================>......] - ETA: 0s - loss: 0.2846 - acc: 0.9300\n",
      "Epoch 00003: saving model to outputs/cp.ckpt\n",
      "1000/1000 [==============================] - 0s 139us/sample - loss: 0.2859 - acc: 0.9320 - val_loss: 0.4637 - val_acc: 0.8570\n",
      "Epoch 4/10\n",
      " 640/1000 [==================>...........] - ETA: 0s - loss: 0.1886 - acc: 0.9594\n",
      "Epoch 00004: saving model to outputs/cp.ckpt\n",
      "1000/1000 [==============================] - 0s 153us/sample - loss: 0.2014 - acc: 0.9500 - val_loss: 0.4655 - val_acc: 0.8460\n",
      "Epoch 5/10\n",
      " 832/1000 [=======================>......] - ETA: 0s - loss: 0.1496 - acc: 0.9688\n",
      "Epoch 00005: saving model to outputs/cp.ckpt\n",
      "1000/1000 [==============================] - 0s 139us/sample - loss: 0.1501 - acc: 0.9690 - val_loss: 0.4313 - val_acc: 0.8510\n",
      "Epoch 6/10\n",
      " 768/1000 [======================>.......] - ETA: 0s - loss: 0.1072 - acc: 0.9844\n",
      "Epoch 00006: saving model to outputs/cp.ckpt\n",
      "1000/1000 [==============================] - 0s 146us/sample - loss: 0.1127 - acc: 0.9820 - val_loss: 0.4159 - val_acc: 0.8670\n",
      "Epoch 7/10\n",
      " 896/1000 [=========================>....] - ETA: 0s - loss: 0.0851 - acc: 0.9900\n",
      "Epoch 00007: saving model to outputs/cp.ckpt\n",
      "1000/1000 [==============================] - 0s 133us/sample - loss: 0.0881 - acc: 0.9890 - val_loss: 0.4209 - val_acc: 0.8700\n",
      "Epoch 8/10\n",
      " 832/1000 [=======================>......] - ETA: 0s - loss: 0.0741 - acc: 0.9928\n",
      "Epoch 00008: saving model to outputs/cp.ckpt\n",
      "1000/1000 [==============================] - 0s 141us/sample - loss: 0.0706 - acc: 0.9940 - val_loss: 0.4100 - val_acc: 0.8710\n",
      "Epoch 9/10\n",
      " 832/1000 [=======================>......] - ETA: 0s - loss: 0.0421 - acc: 0.9988\n",
      "Epoch 00009: saving model to outputs/cp.ckpt\n",
      "1000/1000 [==============================] - 0s 143us/sample - loss: 0.0446 - acc: 0.9990 - val_loss: 0.3994 - val_acc: 0.8730\n",
      "Epoch 10/10\n",
      " 736/1000 [=====================>........] - ETA: 0s - loss: 0.0375 - acc: 0.9986\n",
      "Epoch 00010: saving model to outputs/cp.ckpt\n",
      "1000/1000 [==============================] - 0s 144us/sample - loss: 0.0384 - acc: 0.9980 - val_loss: 0.4300 - val_acc: 0.8660\n"
     ]
    },
    {
     "data": {
      "text/plain": [
       "<tensorflow.python.keras.callbacks.History at 0x1098deef0>"
      ]
     },
     "execution_count": 5,
     "metadata": {},
     "output_type": "execute_result"
    }
   ],
   "source": [
    "checkpoint_path = \"outputs/training_1/cp.ckpt\"\n",
    "checkpoint_dir = os.path.dirname(checkpoint_path)\n",
    "\n",
    "# Create checkpoint callback\n",
    "cp_callback = tf.keras.callbacks.ModelCheckpoint(checkpoint_path,\n",
    "                                                 save_weights_only=True,\n",
    "                                                 verbose=1)\n",
    "\n",
    "model = create_model()\n",
    "\n",
    "model.fit(train_images, train_labels,  epochs = 10,\n",
    "          validation_data = (test_images,test_labels),\n",
    "          callbacks = [cp_callback])  # pass callback to training\n",
    "\n",
    "# This may generate warnings related to saving the state of the optimizer.\n",
    "# These warnings (and similar warnings throughout this notebook)\n",
    "# are in place to discourage outdated usage, and can be ignored."
   ]
  },
  {
   "cell_type": "markdown",
   "metadata": {
    "colab_type": "text",
    "id": "rlM-sgyJO084"
   },
   "source": [
    "This creates a single collection of TensorFlow checkpoint files that are updated at the end of each epoch:"
   ]
  },
  {
   "cell_type": "code",
   "execution_count": 6,
   "metadata": {
    "colab": {},
    "colab_type": "code",
    "id": "gXG5FVKFOVQ3"
   },
   "outputs": [
    {
     "name": "stdout",
     "output_type": "stream",
     "text": [
      "102_mnist_fashion.h5        cp.ckpt.data-00001-of-00002\r\n",
      "checkpoint                  cp.ckpt.index\r\n",
      "cp.ckpt.data-00000-of-00002\r\n"
     ]
    }
   ],
   "source": [
    "!ls {checkpoint_dir}"
   ]
  },
  {
   "cell_type": "markdown",
   "metadata": {
    "colab_type": "text",
    "id": "wlRN_f56Pqa9"
   },
   "source": [
    "Create a new, untrained model. When restoring a model from only weights, you must have a model with the same architecture as the original model. Since it's the same model architecture, we can share weights despite that it's a different *instance* of the model.\n",
    "\n",
    "Now rebuild a fresh, untrained model, and evaluate it on the test set. An untrained model will perform at chance levels (~10% accuracy):"
   ]
  },
  {
   "cell_type": "code",
   "execution_count": 7,
   "metadata": {
    "colab": {},
    "colab_type": "code",
    "id": "Fp5gbuiaPqCT"
   },
   "outputs": [
    {
     "name": "stdout",
     "output_type": "stream",
     "text": [
      "1000/1000 [==============================] - 0s 65us/sample - loss: 2.3155 - acc: 0.1440\n",
      "Untrained model, accuracy: 14.40%\n"
     ]
    }
   ],
   "source": [
    "model = create_model()\n",
    "\n",
    "loss, acc = model.evaluate(test_images, test_labels)\n",
    "print(\"Untrained model, accuracy: {:5.2f}%\".format(100*acc))"
   ]
  },
  {
   "cell_type": "markdown",
   "metadata": {
    "colab_type": "text",
    "id": "1DTKpZssRSo3"
   },
   "source": [
    "Then load the weights from the checkpoint, and re-evaluate:"
   ]
  },
  {
   "cell_type": "code",
   "execution_count": 8,
   "metadata": {
    "colab": {},
    "colab_type": "code",
    "id": "2IZxbwiRRSD2"
   },
   "outputs": [
    {
     "name": "stdout",
     "output_type": "stream",
     "text": [
      "1000/1000 [==============================] - 0s 31us/sample - loss: 0.4300 - acc: 0.8660\n",
      "Restored model, accuracy: 86.60%\n"
     ]
    }
   ],
   "source": [
    "model.load_weights(checkpoint_path)\n",
    "loss, acc = model.evaluate(test_images, test_labels)\n",
    "print(\"Restored model, accuracy: {:5.2f}%\".format(100*acc))"
   ]
  },
  {
   "cell_type": "markdown",
   "metadata": {
    "colab_type": "text",
    "id": "bpAbKkAyVPV8"
   },
   "source": [
    "#### Checkpoint callback options\n",
    "\n",
    "The callback provides several options to give the resulting checkpoints unique names, and adjust the checkpointing frequency.\n",
    "\n",
    "Train a new model, and save uniquely named checkpoints once every 5-epochs:\n"
   ]
  },
  {
   "cell_type": "code",
   "execution_count": 9,
   "metadata": {
    "colab": {},
    "colab_type": "code",
    "id": "mQF_dlgIVOvq"
   },
   "outputs": [
    {
     "name": "stderr",
     "output_type": "stream",
     "text": [
      "W0429 23:43:58.362816 4562052544 callbacks.py:856] `period` argument is deprecated. Please use `save_freq` to specify the frequency in number of samples seen.\n"
     ]
    },
    {
     "name": "stdout",
     "output_type": "stream",
     "text": [
      "\n",
      "Epoch 00005: saving model to outputs/training_2/cp-0005.ckpt\n",
      "\n",
      "Epoch 00010: saving model to outputs/training_2/cp-0010.ckpt\n",
      "\n",
      "Epoch 00015: saving model to outputs/training_2/cp-0015.ckpt\n",
      "\n",
      "Epoch 00020: saving model to outputs/training_2/cp-0020.ckpt\n",
      "\n",
      "Epoch 00025: saving model to outputs/training_2/cp-0025.ckpt\n",
      "\n",
      "Epoch 00030: saving model to outputs/training_2/cp-0030.ckpt\n",
      "\n",
      "Epoch 00035: saving model to outputs/training_2/cp-0035.ckpt\n",
      "\n",
      "Epoch 00040: saving model to outputs/training_2/cp-0040.ckpt\n",
      "\n",
      "Epoch 00045: saving model to outputs/training_2/cp-0045.ckpt\n",
      "\n",
      "Epoch 00050: saving model to outputs/training_2/cp-0050.ckpt\n"
     ]
    },
    {
     "data": {
      "text/plain": [
       "<tensorflow.python.keras.callbacks.History at 0xb2d1fbc18>"
      ]
     },
     "execution_count": 9,
     "metadata": {},
     "output_type": "execute_result"
    }
   ],
   "source": [
    "# include the epoch in the file name. (uses `str.format`)\n",
    "checkpoint_path = \"outputs/training_2/cp-{epoch:04d}.ckpt\"\n",
    "checkpoint_dir = os.path.dirname(checkpoint_path)\n",
    "\n",
    "cp_callback = tf.keras.callbacks.ModelCheckpoint(\n",
    "    checkpoint_path, verbose=1, save_weights_only=True,\n",
    "    # Save weights, every 5-epochs.\n",
    "    period=5)\n",
    "\n",
    "model = create_model()\n",
    "model.save_weights(checkpoint_path.format(epoch=0))\n",
    "model.fit(train_images, train_labels,\n",
    "          epochs = 50, callbacks = [cp_callback],\n",
    "          validation_data = (test_images,test_labels),\n",
    "          verbose=0)"
   ]
  },
  {
   "cell_type": "markdown",
   "metadata": {
    "colab_type": "text",
    "id": "1zFrKTjjavWI"
   },
   "source": [
    "Now, look at the resulting checkpoints and choose the latest one:"
   ]
  },
  {
   "cell_type": "code",
   "execution_count": 10,
   "metadata": {
    "colab": {},
    "colab_type": "code",
    "id": "p64q3-V4sXt0"
   },
   "outputs": [
    {
     "name": "stdout",
     "output_type": "stream",
     "text": [
      "checkpoint                       cp-0025.ckpt.data-00001-of-00002\r\n",
      "cp-0000.ckpt.data-00000-of-00002 cp-0025.ckpt.index\r\n",
      "cp-0000.ckpt.data-00001-of-00002 cp-0030.ckpt.data-00000-of-00002\r\n",
      "cp-0000.ckpt.index               cp-0030.ckpt.data-00001-of-00002\r\n",
      "cp-0005.ckpt.data-00000-of-00002 cp-0030.ckpt.index\r\n",
      "cp-0005.ckpt.data-00001-of-00002 cp-0035.ckpt.data-00000-of-00002\r\n",
      "cp-0005.ckpt.index               cp-0035.ckpt.data-00001-of-00002\r\n",
      "cp-0010.ckpt.data-00000-of-00002 cp-0035.ckpt.index\r\n",
      "cp-0010.ckpt.data-00001-of-00002 cp-0040.ckpt.data-00000-of-00002\r\n",
      "cp-0010.ckpt.index               cp-0040.ckpt.data-00001-of-00002\r\n",
      "cp-0015.ckpt.data-00000-of-00002 cp-0040.ckpt.index\r\n",
      "cp-0015.ckpt.data-00001-of-00002 cp-0045.ckpt.data-00000-of-00002\r\n",
      "cp-0015.ckpt.index               cp-0045.ckpt.data-00001-of-00002\r\n",
      "cp-0020.ckpt.data-00000-of-00002 cp-0045.ckpt.index\r\n",
      "cp-0020.ckpt.data-00001-of-00002 cp-0050.ckpt.data-00000-of-00002\r\n",
      "cp-0020.ckpt.index               cp-0050.ckpt.data-00001-of-00002\r\n",
      "cp-0025.ckpt.data-00000-of-00002 cp-0050.ckpt.index\r\n"
     ]
    }
   ],
   "source": [
    "! ls {checkpoint_dir}"
   ]
  },
  {
   "cell_type": "code",
   "execution_count": 11,
   "metadata": {
    "colab": {},
    "colab_type": "code",
    "id": "1AN_fnuyR41H"
   },
   "outputs": [
    {
     "data": {
      "text/plain": [
       "'outputs/training_2/cp-0050.ckpt'"
      ]
     },
     "execution_count": 11,
     "metadata": {},
     "output_type": "execute_result"
    }
   ],
   "source": [
    "latest = tf.train.latest_checkpoint(checkpoint_dir)\n",
    "latest"
   ]
  },
  {
   "cell_type": "markdown",
   "metadata": {
    "colab_type": "text",
    "id": "Zk2ciGbKg561"
   },
   "source": [
    "Note: the default tensorflow format only saves the 5 most recent checkpoints.\n",
    "\n",
    "To test, reset the model and load the latest checkpoint:"
   ]
  },
  {
   "cell_type": "code",
   "execution_count": 12,
   "metadata": {
    "colab": {},
    "colab_type": "code",
    "id": "3M04jyK-H3QK"
   },
   "outputs": [
    {
     "name": "stdout",
     "output_type": "stream",
     "text": [
      "1000/1000 [==============================] - 0s 70us/sample - loss: 0.4708 - acc: 0.8760\n",
      "Restored model, accuracy: 87.60%\n"
     ]
    }
   ],
   "source": [
    "model = create_model()\n",
    "model.load_weights(latest)\n",
    "loss, acc = model.evaluate(test_images, test_labels)\n",
    "print(\"Restored model, accuracy: {:5.2f}%\".format(100*acc))"
   ]
  },
  {
   "cell_type": "markdown",
   "metadata": {
    "colab_type": "text",
    "id": "c2OxsJOTHxia"
   },
   "source": [
    "### What are these files?"
   ]
  },
  {
   "cell_type": "markdown",
   "metadata": {
    "colab_type": "text",
    "id": "JtdYhvWnH2ib"
   },
   "source": [
    "The above code stores the weights to a collection of [checkpoint](https://www.tensorflow.org/guide/saved_model#save_and_restore_variables)-formatted files that contain only the trained weights in a binary format. Checkpoints contain:\n",
    "* One or more shards that contain your model's weights.\n",
    "* An index file that indicates which weights are stored in a which shard.\n",
    "\n",
    "If you are only training a model on a single machine, you'll have one shard with the suffix: `.data-00000-of-00001`"
   ]
  },
  {
   "cell_type": "markdown",
   "metadata": {
    "colab_type": "text",
    "id": "S_FA-ZvxuXQV"
   },
   "source": [
    "### Manually save weights\n",
    "\n",
    "Above you saw how to load the weights into a model.\n",
    "\n",
    "Manually saving the weights is just as simple, use the `Model.save_weights` method."
   ]
  },
  {
   "cell_type": "code",
   "execution_count": 13,
   "metadata": {
    "colab": {},
    "colab_type": "code",
    "id": "R7W5plyZ-u9X"
   },
   "outputs": [
    {
     "name": "stdout",
     "output_type": "stream",
     "text": [
      "1000/1000 [==============================] - 0s 70us/sample - loss: 0.4708 - acc: 0.8760\n",
      "Restored model, accuracy: 87.60%\n"
     ]
    }
   ],
   "source": [
    "# Save the weights\n",
    "model.save_weights('./outputs/checkpoints/my_checkpoint')\n",
    "\n",
    "# Restore the weights\n",
    "model = create_model()\n",
    "model.load_weights('./outputs/checkpoints/my_checkpoint')\n",
    "\n",
    "loss,acc = model.evaluate(test_images, test_labels)\n",
    "print(\"Restored model, accuracy: {:5.2f}%\".format(100*acc))"
   ]
  },
  {
   "cell_type": "markdown",
   "metadata": {
    "colab_type": "text",
    "id": "kOGlxPRBEvV1"
   },
   "source": [
    "### Save the entire model\n",
    "\n",
    "The entire model can be saved to a file that contains the weight values, the model's configuration, and even the optimizer's configuration (depends on set up). This allows you to checkpoint a model and resume training later—from the exact same state—without access to the original code.\n",
    "\n",
    "Saving a fully-functional model is very useful—you can load them in TensorFlow.js ([HDF5](https://js.tensorflow.org/tutorials/import-keras.html), [Saved Model](https://js.tensorflow.org/tutorials/import-saved-model.html)) and then train and run them in web browsers, or convert them to run on mobile devices using TensorFlow Lite ([HDF5](https://www.tensorflow.org/lite/convert/python_api#exporting_a_tfkeras_file_), [Saved Model](https://www.tensorflow.org/lite/convert/python_api#exporting_a_savedmodel_))"
   ]
  },
  {
   "cell_type": "markdown",
   "metadata": {
    "colab_type": "text",
    "id": "SkGwf-50zLNn"
   },
   "source": [
    "### As an HDF5 file\n",
    "\n",
    "Keras provides a basic save format using the [HDF5](https://en.wikipedia.org/wiki/Hierarchical_Data_Format) standard. For our purposes, the saved model can be treated as a single binary blob."
   ]
  },
  {
   "cell_type": "code",
   "execution_count": 14,
   "metadata": {
    "colab": {},
    "colab_type": "code",
    "id": "m2dkmJVCGUia"
   },
   "outputs": [
    {
     "name": "stdout",
     "output_type": "stream",
     "text": [
      "Epoch 1/5\n",
      "1000/1000 [==============================] - 0s 149us/sample - loss: 1.1518 - acc: 0.6840\n",
      "Epoch 2/5\n",
      "1000/1000 [==============================] - 0s 60us/sample - loss: 0.4246 - acc: 0.8760\n",
      "Epoch 3/5\n",
      "1000/1000 [==============================] - 0s 62us/sample - loss: 0.2802 - acc: 0.9240\n",
      "Epoch 4/5\n",
      "1000/1000 [==============================] - 0s 61us/sample - loss: 0.2055 - acc: 0.9520\n",
      "Epoch 5/5\n",
      "1000/1000 [==============================] - 0s 60us/sample - loss: 0.1435 - acc: 0.9710\n"
     ]
    }
   ],
   "source": [
    "model = create_model()\n",
    "\n",
    "model.fit(train_images, train_labels, epochs=5)\n",
    "\n",
    "# Save entire model to a HDF5 file\n",
    "model.save('outputs/my_model.h5')"
   ]
  },
  {
   "cell_type": "markdown",
   "metadata": {
    "colab_type": "text",
    "id": "GWmttMOqS68S"
   },
   "source": [
    "Now recreate the model from that file:"
   ]
  },
  {
   "cell_type": "code",
   "execution_count": 15,
   "metadata": {
    "colab": {},
    "colab_type": "code",
    "id": "5NDMO_7kS6Do"
   },
   "outputs": [
    {
     "name": "stderr",
     "output_type": "stream",
     "text": [
      "W0429 23:45:36.972855 4562052544 deprecation.py:506] From /Users/shawlu/anaconda3/envs/deep/lib/python3.7/site-packages/tensorflow/python/ops/init_ops.py:97: calling GlorotUniform.__init__ (from tensorflow.python.ops.init_ops) with dtype is deprecated and will be removed in a future version.\n",
      "Instructions for updating:\n",
      "Call initializer instance with the dtype argument instead of passing it to the constructor\n",
      "W0429 23:45:36.974144 4562052544 deprecation.py:506] From /Users/shawlu/anaconda3/envs/deep/lib/python3.7/site-packages/tensorflow/python/ops/init_ops.py:97: calling Zeros.__init__ (from tensorflow.python.ops.init_ops) with dtype is deprecated and will be removed in a future version.\n",
      "Instructions for updating:\n",
      "Call initializer instance with the dtype argument instead of passing it to the constructor\n"
     ]
    },
    {
     "name": "stdout",
     "output_type": "stream",
     "text": [
      "Model: \"sequential_6\"\n",
      "_________________________________________________________________\n",
      "Layer (type)                 Output Shape              Param #   \n",
      "=================================================================\n",
      "dense_12 (Dense)             (None, 512)               401920    \n",
      "_________________________________________________________________\n",
      "dropout_6 (Dropout)          (None, 512)               0         \n",
      "_________________________________________________________________\n",
      "dense_13 (Dense)             (None, 10)                5130      \n",
      "=================================================================\n",
      "Total params: 407,050\n",
      "Trainable params: 407,050\n",
      "Non-trainable params: 0\n",
      "_________________________________________________________________\n"
     ]
    }
   ],
   "source": [
    "# Recreate the exact same model, including weights and optimizer.\n",
    "new_model = keras.models.load_model('outputs/my_model.h5')\n",
    "new_model.summary()"
   ]
  },
  {
   "cell_type": "markdown",
   "metadata": {
    "colab_type": "text",
    "id": "JXQpbTicTBwt"
   },
   "source": [
    "Check its accuracy:"
   ]
  },
  {
   "cell_type": "code",
   "execution_count": 16,
   "metadata": {
    "colab": {},
    "colab_type": "code",
    "id": "jwEaj9DnTCVA"
   },
   "outputs": [
    {
     "name": "stdout",
     "output_type": "stream",
     "text": [
      "1000/1000 [==============================] - 0s 76us/sample - loss: 0.4357 - acc: 0.8690\n",
      "Restored model, accuracy: 86.90%\n"
     ]
    }
   ],
   "source": [
    "loss, acc = new_model.evaluate(test_images, test_labels)\n",
    "print(\"Restored model, accuracy: {:5.2f}%\".format(100*acc))"
   ]
  },
  {
   "cell_type": "markdown",
   "metadata": {
    "colab_type": "text",
    "id": "dGXqd4wWJl8O"
   },
   "source": [
    "This technique saves everything:\n",
    "\n",
    "* The weight values\n",
    "* The model's configuration(architecture)\n",
    "* The optimizer configuration\n",
    "\n",
    "Keras saves models by inspecting the architecture. Currently, it is not able to save TensorFlow optimizers (from `tf.train`). When using those you will need to re-compile the model after loading, and you will lose the state of the optimizer.\n"
   ]
  },
  {
   "cell_type": "markdown",
   "metadata": {
    "colab_type": "text",
    "id": "eUYTzSz5VxL2"
   },
   "source": [
    "### What's Next\n",
    "\n",
    "That was a quick guide to saving and loading in with `tf.keras`.\n",
    "\n",
    "* The [tf.keras guide](https://www.tensorflow.org/guide/keras) shows more about saving and loading models with `tf.keras`.\n",
    "\n",
    "* See [Saving in eager](https://www.tensorflow.org/guide/eager#object_based_saving) for saving during eager execution.\n",
    "\n",
    "* The [Save and Restore](https://www.tensorflow.org/guide/saved_model) guide has low-level details about TensorFlow saving."
   ]
  }
 ],
 "metadata": {
  "accelerator": "GPU",
  "colab": {
   "collapsed_sections": [],
   "name": "save_and_restore_models.ipynb",
   "private_outputs": true,
   "provenance": [],
   "toc_visible": true,
   "version": "0.3.2"
  },
  "kernelspec": {
   "display_name": "Python 3",
   "language": "python",
   "name": "python3"
  },
  "language_info": {
   "codemirror_mode": {
    "name": "ipython",
    "version": 3
   },
   "file_extension": ".py",
   "mimetype": "text/x-python",
   "name": "python",
   "nbconvert_exporter": "python",
   "pygments_lexer": "ipython3",
   "version": "3.7.3"
  }
 },
 "nbformat": 4,
 "nbformat_minor": 1
}
