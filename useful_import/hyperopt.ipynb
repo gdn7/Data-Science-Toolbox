{
 "cells": [
  {
   "cell_type": "code",
   "execution_count": 1,
   "metadata": {},
   "outputs": [
    {
     "name": "stdout",
     "output_type": "stream",
     "text": [
      "Requirement already satisfied: hyperopt in /Users/shawlu/anaconda3/lib/python3.7/site-packages (0.1.2)\n",
      "Requirement already satisfied: networkx in /Users/shawlu/anaconda3/lib/python3.7/site-packages (from hyperopt) (2.2)\n",
      "Requirement already satisfied: numpy in /Users/shawlu/anaconda3/lib/python3.7/site-packages (from hyperopt) (1.16.2)\n",
      "Requirement already satisfied: scipy in /Users/shawlu/anaconda3/lib/python3.7/site-packages (from hyperopt) (1.2.1)\n",
      "Requirement already satisfied: future in /Users/shawlu/anaconda3/lib/python3.7/site-packages (from hyperopt) (0.17.1)\n",
      "Requirement already satisfied: six in /Users/shawlu/anaconda3/lib/python3.7/site-packages (from hyperopt) (1.12.0)\n",
      "Requirement already satisfied: tqdm in /Users/shawlu/anaconda3/lib/python3.7/site-packages (from hyperopt) (4.31.1)\n",
      "Requirement already satisfied: pymongo in /Users/shawlu/anaconda3/lib/python3.7/site-packages (from hyperopt) (3.7.2)\n",
      "Requirement already satisfied: decorator>=4.3.0 in /Users/shawlu/anaconda3/lib/python3.7/site-packages (from networkx->hyperopt) (4.4.0)\n",
      "Note: you may need to restart the kernel to use updated packages.\n"
     ]
    }
   ],
   "source": [
    "%pip install hyperopt"
   ]
  },
  {
   "cell_type": "code",
   "execution_count": null,
   "metadata": {},
   "outputs": [],
   "source": []
  }
 ],
 "metadata": {
  "kernelspec": {
   "display_name": "Python 3",
   "language": "python",
   "name": "python3"
  },
  "language_info": {
   "codemirror_mode": {
    "name": "ipython",
    "version": 3
   },
   "file_extension": ".py",
   "mimetype": "text/x-python",
   "name": "python",
   "nbconvert_exporter": "python",
   "pygments_lexer": "ipython3",
   "version": "3.7.3"
  }
 },
 "nbformat": 4,
 "nbformat_minor": 2
}
